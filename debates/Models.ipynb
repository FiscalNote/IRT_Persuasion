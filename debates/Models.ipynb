{
 "cells": [
  {
   "cell_type": "code",
   "execution_count": 3,
   "metadata": {},
   "outputs": [],
   "source": [
    "import sys\n",
    "sys.path.append(\"..\")\n",
    "\n",
    "%load_ext autoreload\n",
    "%autoreload 2"
   ]
  },
  {
   "cell_type": "code",
   "execution_count": 9,
   "metadata": {},
   "outputs": [
    {
     "name": "stdout",
     "output_type": "stream",
     "text": [
      "Requirement already satisfied: transformers in /home/ec2-user/anaconda3/envs/pytorch_p36/lib/python3.6/site-packages (4.3.2)\n",
      "Collecting tokenizers<0.11,>=0.10.1\n",
      "  Downloading tokenizers-0.10.1-cp36-cp36m-manylinux2010_x86_64.whl (3.2 MB)\n",
      "\u001b[K     |████████████████████████████████| 3.2 MB 17.6 MB/s eta 0:00:01\n",
      "\u001b[?25hRequirement already satisfied: tqdm>=4.27 in /home/ec2-user/anaconda3/envs/pytorch_p36/lib/python3.6/site-packages (from transformers) (4.42.1)\n",
      "Requirement already satisfied: sacremoses in /home/ec2-user/anaconda3/envs/pytorch_p36/lib/python3.6/site-packages (from transformers) (0.0.43)\n",
      "Requirement already satisfied: filelock in /home/ec2-user/anaconda3/envs/pytorch_p36/lib/python3.6/site-packages (from transformers) (3.0.12)\n",
      "Requirement already satisfied: requests in /home/ec2-user/anaconda3/envs/pytorch_p36/lib/python3.6/site-packages (from transformers) (2.25.1)\n",
      "Requirement already satisfied: dataclasses in /home/ec2-user/anaconda3/envs/pytorch_p36/lib/python3.6/site-packages (from transformers) (0.7)\n",
      "Requirement already satisfied: packaging in /home/ec2-user/anaconda3/envs/pytorch_p36/lib/python3.6/site-packages (from transformers) (20.8)\n",
      "Requirement already satisfied: numpy>=1.17 in /home/ec2-user/anaconda3/envs/pytorch_p36/lib/python3.6/site-packages (from transformers) (1.19.5)\n",
      "Requirement already satisfied: importlib-metadata in /home/ec2-user/anaconda3/envs/pytorch_p36/lib/python3.6/site-packages (from transformers) (3.4.0)\n",
      "Requirement already satisfied: regex!=2019.12.17 in /home/ec2-user/anaconda3/envs/pytorch_p36/lib/python3.6/site-packages (from transformers) (2020.11.13)\n",
      "Requirement already satisfied: zipp>=0.5 in /home/ec2-user/anaconda3/envs/pytorch_p36/lib/python3.6/site-packages (from importlib-metadata->transformers) (3.4.0)\n",
      "Requirement already satisfied: typing-extensions>=3.6.4 in /home/ec2-user/anaconda3/envs/pytorch_p36/lib/python3.6/site-packages (from importlib-metadata->transformers) (3.7.4.3)\n",
      "Requirement already satisfied: pyparsing>=2.0.2 in /home/ec2-user/anaconda3/envs/pytorch_p36/lib/python3.6/site-packages (from packaging->transformers) (2.4.7)\n",
      "Requirement already satisfied: idna<3,>=2.5 in /home/ec2-user/anaconda3/envs/pytorch_p36/lib/python3.6/site-packages (from requests->transformers) (2.10)\n",
      "Requirement already satisfied: certifi>=2017.4.17 in /home/ec2-user/anaconda3/envs/pytorch_p36/lib/python3.6/site-packages (from requests->transformers) (2020.12.5)\n",
      "Requirement already satisfied: urllib3<1.27,>=1.21.1 in /home/ec2-user/anaconda3/envs/pytorch_p36/lib/python3.6/site-packages (from requests->transformers) (1.26.2)\n",
      "Requirement already satisfied: chardet<5,>=3.0.2 in /home/ec2-user/anaconda3/envs/pytorch_p36/lib/python3.6/site-packages (from requests->transformers) (4.0.0)\n",
      "Requirement already satisfied: click in /home/ec2-user/anaconda3/envs/pytorch_p36/lib/python3.6/site-packages (from sacremoses->transformers) (7.0)\n",
      "Requirement already satisfied: six in /home/ec2-user/anaconda3/envs/pytorch_p36/lib/python3.6/site-packages (from sacremoses->transformers) (1.15.0)\n",
      "Requirement already satisfied: joblib in /home/ec2-user/anaconda3/envs/pytorch_p36/lib/python3.6/site-packages (from sacremoses->transformers) (0.14.1)\n",
      "Installing collected packages: tokenizers\n",
      "  Attempting uninstall: tokenizers\n",
      "    Found existing installation: tokenizers 0.9.4\n",
      "    Uninstalling tokenizers-0.9.4:\n",
      "      Successfully uninstalled tokenizers-0.9.4\n",
      "Successfully installed tokenizers-0.10.1\n"
     ]
    }
   ],
   "source": [
    "!pip install transformers\n"
   ]
  },
  {
   "cell_type": "code",
   "execution_count": 10,
   "metadata": {},
   "outputs": [],
   "source": [
    "import warnings\n",
    "warnings.filterwarnings(\"ignore\")"
   ]
  },
  {
   "cell_type": "code",
   "execution_count": 11,
   "metadata": {},
   "outputs": [],
   "source": [
    "from lib.data_helper import create_full_data\n",
    "\n",
    "from lib.helpers import split_by_doc_id, do_metrics, run_full_cv"
   ]
  },
  {
   "cell_type": "code",
   "execution_count": 12,
   "metadata": {},
   "outputs": [],
   "source": [
    "from lib.models import IRTNet, IdealNet"
   ]
  },
  {
   "cell_type": "markdown",
   "metadata": {},
   "source": [
    "# Only Style and Quality"
   ]
  },
  {
   "cell_type": "code",
   "execution_count": 13,
   "metadata": {},
   "outputs": [],
   "source": [
    "style_data = create_full_data(feature_types=['style_quality_scaled'], label_type='bin_points')"
   ]
  },
  {
   "cell_type": "code",
   "execution_count": 14,
   "metadata": {},
   "outputs": [
    {
     "data": {
      "text/html": [
       "<div>\n",
       "<style scoped>\n",
       "    .dataframe tbody tr th:only-of-type {\n",
       "        vertical-align: middle;\n",
       "    }\n",
       "\n",
       "    .dataframe tbody tr th {\n",
       "        vertical-align: top;\n",
       "    }\n",
       "\n",
       "    .dataframe thead th {\n",
       "        text-align: right;\n",
       "    }\n",
       "</style>\n",
       "<table border=\"1\" class=\"dataframe\">\n",
       "  <thead>\n",
       "    <tr style=\"text-align: right;\">\n",
       "      <th></th>\n",
       "      <th>feats</th>\n",
       "      <th>user_id</th>\n",
       "      <th>label</th>\n",
       "      <th>doc_id</th>\n",
       "    </tr>\n",
       "  </thead>\n",
       "  <tbody>\n",
       "    <tr>\n",
       "      <th>0</th>\n",
       "      <td>[1.849750499634872, 0.2499057065713443, -1.110...</td>\n",
       "      <td>395</td>\n",
       "      <td>False</td>\n",
       "      <td>.9999-repeating-1/1/Singularity</td>\n",
       "    </tr>\n",
       "    <tr>\n",
       "      <th>1</th>\n",
       "      <td>[1.849750499634872, 0.2499057065713443, -1.110...</td>\n",
       "      <td>491</td>\n",
       "      <td>True</td>\n",
       "      <td>.9999-repeating-1/1/Singularity</td>\n",
       "    </tr>\n",
       "    <tr>\n",
       "      <th>2</th>\n",
       "      <td>[1.849750499634872, 0.2499057065713443, -1.110...</td>\n",
       "      <td>140</td>\n",
       "      <td>True</td>\n",
       "      <td>.9999-repeating-1/1/Singularity</td>\n",
       "    </tr>\n",
       "    <tr>\n",
       "      <th>3</th>\n",
       "      <td>[1.849750499634872, 0.2499057065713443, -1.110...</td>\n",
       "      <td>908</td>\n",
       "      <td>False</td>\n",
       "      <td>.9999-repeating-1/1/Singularity</td>\n",
       "    </tr>\n",
       "    <tr>\n",
       "      <th>4</th>\n",
       "      <td>[1.849750499634872, 0.2499057065713443, -1.110...</td>\n",
       "      <td>600</td>\n",
       "      <td>True</td>\n",
       "      <td>.9999-repeating-1/1/Singularity</td>\n",
       "    </tr>\n",
       "  </tbody>\n",
       "</table>\n",
       "</div>"
      ],
      "text/plain": [
       "                                               feats  user_id  label  \\\n",
       "0  [1.849750499634872, 0.2499057065713443, -1.110...      395  False   \n",
       "1  [1.849750499634872, 0.2499057065713443, -1.110...      491   True   \n",
       "2  [1.849750499634872, 0.2499057065713443, -1.110...      140   True   \n",
       "3  [1.849750499634872, 0.2499057065713443, -1.110...      908  False   \n",
       "4  [1.849750499634872, 0.2499057065713443, -1.110...      600   True   \n",
       "\n",
       "                            doc_id  \n",
       "0  .9999-repeating-1/1/Singularity  \n",
       "1  .9999-repeating-1/1/Singularity  \n",
       "2  .9999-repeating-1/1/Singularity  \n",
       "3  .9999-repeating-1/1/Singularity  \n",
       "4  .9999-repeating-1/1/Singularity  "
      ]
     },
     "execution_count": 14,
     "metadata": {},
     "output_type": "execute_result"
    }
   ],
   "source": [
    "style_data.head()"
   ]
  },
  {
   "cell_type": "code",
   "execution_count": 15,
   "metadata": {},
   "outputs": [],
   "source": [
    "D_in = len(style_data.iloc[0].feats)\n",
    "num_users = style_data.user_id.nunique()"
   ]
  },
  {
   "cell_type": "code",
   "execution_count": 16,
   "metadata": {},
   "outputs": [],
   "source": [
    "model_arguments = {'D_in': D_in, 'num_users': num_users}\n",
    "train_arguments = {'num_train_epochs': 200, 'learning_rate': 0.001}"
   ]
  },
  {
   "cell_type": "code",
   "execution_count": 17,
   "metadata": {},
   "outputs": [],
   "source": [
    "model_cls = IRTNet"
   ]
  },
  {
   "cell_type": "code",
   "execution_count": 18,
   "metadata": {},
   "outputs": [],
   "source": [
    "final_results = {}"
   ]
  },
  {
   "cell_type": "code",
   "execution_count": 19,
   "metadata": {},
   "outputs": [
    {
     "name": "stdout",
     "output_type": "stream",
     "text": [
      "{'loss': 0.7762, 'learning_rate': 0.009309773605742684, 'epoch': 1.38}\n",
      "{'loss': 0.7696, 'learning_rate': 0.008619547211485367, 'epoch': 2.76}\n",
      "{'loss': 0.7613, 'learning_rate': 0.007929320817228051, 'epoch': 4.14}\n",
      "{'loss': 0.7553, 'learning_rate': 0.0072390944229707346, 'epoch': 5.52}\n",
      "{'loss': 0.7484, 'learning_rate': 0.006548868028713418, 'epoch': 6.9}\n",
      "{'loss': 0.7413, 'learning_rate': 0.005858641634456103, 'epoch': 8.28}\n",
      "{'loss': 0.7341, 'learning_rate': 0.005168415240198785, 'epoch': 9.66}\n",
      "{'loss': 0.7279, 'learning_rate': 0.004478188845941469, 'epoch': 11.04}\n",
      "{'loss': 0.722, 'learning_rate': 0.0037879624516841525, 'epoch': 12.42}\n",
      "{'loss': 0.7143, 'learning_rate': 0.003097736057426836, 'epoch': 13.8}\n",
      "{'loss': 0.7085, 'learning_rate': 0.0024075096631695197, 'epoch': 15.18}\n",
      "{'loss': 0.7014, 'learning_rate': 0.001717283268912203, 'epoch': 16.57}\n",
      "{'loss': 0.6954, 'learning_rate': 0.0010270568746548869, 'epoch': 17.95}\n",
      "{'loss': 0.6893, 'learning_rate': 0.0003368304803975704, 'epoch': 19.33}\n",
      "{'train_runtime': 332.6363, 'train_samples_per_second': 435.551, 'epoch': 20.0}\n",
      "Finished round {'eval_loss': 0.6841627359390259, 'eval_macro_f1': 0.5561433001359848, 'eval_micro_f1': 0.56071964017991, 'eval_pos_f1': 0.601212571145756, 'eval_accuracy': 0.56071964017991, 'eval_runtime': 1.8814, 'eval_samples_per_second': 7799.481}\n",
      "{'loss': 0.7765, 'learning_rate': 0.00931024968961236, 'epoch': 1.38}\n",
      "{'loss': 0.7685, 'learning_rate': 0.008620499379224721, 'epoch': 2.76}\n",
      "{'loss': 0.7608, 'learning_rate': 0.007930749068837081, 'epoch': 4.14}\n"
     ]
    },
    {
     "ename": "KeyboardInterrupt",
     "evalue": "",
     "output_type": "error",
     "traceback": [
      "\u001b[0;31m---------------------------------------------------------------------------\u001b[0m",
      "\u001b[0;31mKeyboardInterrupt\u001b[0m                         Traceback (most recent call last)",
      "\u001b[0;32m<ipython-input-19-1ea488005feb>\u001b[0m in \u001b[0;36m<module>\u001b[0;34m\u001b[0m\n\u001b[1;32m      6\u001b[0m             \u001b[0mtrain_arguments\u001b[0m\u001b[0;34m[\u001b[0m\u001b[0;34m'learning_rate'\u001b[0m\u001b[0;34m]\u001b[0m \u001b[0;34m=\u001b[0m \u001b[0mlearning_rate\u001b[0m\u001b[0;34m\u001b[0m\u001b[0;34m\u001b[0m\u001b[0m\n\u001b[1;32m      7\u001b[0m             \u001b[0mtrain_arguments\u001b[0m\u001b[0;34m[\u001b[0m\u001b[0;34m'num_train_epochs'\u001b[0m\u001b[0;34m]\u001b[0m \u001b[0;34m=\u001b[0m \u001b[0;36m20\u001b[0m\u001b[0;34m\u001b[0m\u001b[0;34m\u001b[0m\u001b[0m\n\u001b[0;32m----> 8\u001b[0;31m             \u001b[0mresults\u001b[0m \u001b[0;34m=\u001b[0m \u001b[0mrun_full_cv\u001b[0m\u001b[0;34m(\u001b[0m\u001b[0mstyle_data\u001b[0m\u001b[0;34m,\u001b[0m \u001b[0mmodel_cls\u001b[0m\u001b[0;34m,\u001b[0m \u001b[0mmodel_arguments\u001b[0m\u001b[0;34m,\u001b[0m \u001b[0mtrain_arguments\u001b[0m\u001b[0;34m,\u001b[0m \u001b[0maveraged\u001b[0m\u001b[0;34m=\u001b[0m\u001b[0;32mTrue\u001b[0m\u001b[0;34m)\u001b[0m\u001b[0;34m\u001b[0m\u001b[0;34m\u001b[0m\u001b[0m\n\u001b[0m\u001b[1;32m      9\u001b[0m \u001b[0;34m\u001b[0m\u001b[0m\n\u001b[1;32m     10\u001b[0m             \u001b[0mfinal_results\u001b[0m\u001b[0;34m[\u001b[0m\u001b[0;34m(\u001b[0m\u001b[0mC\u001b[0m\u001b[0;34m,\u001b[0m \u001b[0mreg_type\u001b[0m\u001b[0;34m,\u001b[0m \u001b[0mlearning_rate\u001b[0m\u001b[0;34m)\u001b[0m\u001b[0;34m]\u001b[0m \u001b[0;34m=\u001b[0m \u001b[0mresults\u001b[0m\u001b[0;34m\u001b[0m\u001b[0;34m\u001b[0m\u001b[0m\n",
      "\u001b[0;32m~/SageMaker/DS-Argument-Research/AdvocacyProject/lib/helpers.py\u001b[0m in \u001b[0;36mrun_full_cv\u001b[0;34m(data, model_class, model_args, training_args, averaged)\u001b[0m\n\u001b[1;32m     44\u001b[0m         \u001b[0mtrainer\u001b[0m \u001b[0;34m=\u001b[0m \u001b[0mTrainer\u001b[0m\u001b[0;34m(\u001b[0m\u001b[0mmodel\u001b[0m\u001b[0;34m=\u001b[0m\u001b[0mmodel\u001b[0m\u001b[0;34m,\u001b[0m \u001b[0mtrain_dataset\u001b[0m\u001b[0;34m=\u001b[0m\u001b[0mtrain_data\u001b[0m\u001b[0;34m,\u001b[0m \u001b[0meval_dataset\u001b[0m\u001b[0;34m=\u001b[0m\u001b[0mtest_data\u001b[0m\u001b[0;34m,\u001b[0m \u001b[0mcompute_metrics\u001b[0m\u001b[0;34m=\u001b[0m\u001b[0mdo_metrics\u001b[0m\u001b[0;34m,\u001b[0m \u001b[0margs\u001b[0m\u001b[0;34m=\u001b[0m\u001b[0margs\u001b[0m\u001b[0;34m)\u001b[0m\u001b[0;34m\u001b[0m\u001b[0;34m\u001b[0m\u001b[0m\n\u001b[1;32m     45\u001b[0m \u001b[0;34m\u001b[0m\u001b[0m\n\u001b[0;32m---> 46\u001b[0;31m         \u001b[0mtrainer\u001b[0m\u001b[0;34m.\u001b[0m\u001b[0mtrain\u001b[0m\u001b[0;34m(\u001b[0m\u001b[0;34m)\u001b[0m\u001b[0;34m\u001b[0m\u001b[0;34m\u001b[0m\u001b[0m\n\u001b[0m\u001b[1;32m     47\u001b[0m \u001b[0;34m\u001b[0m\u001b[0m\n\u001b[1;32m     48\u001b[0m         \u001b[0mres\u001b[0m \u001b[0;34m=\u001b[0m \u001b[0mtrainer\u001b[0m\u001b[0;34m.\u001b[0m\u001b[0mpredict\u001b[0m\u001b[0;34m(\u001b[0m\u001b[0mtest_data\u001b[0m\u001b[0;34m)\u001b[0m\u001b[0;34m\u001b[0m\u001b[0;34m\u001b[0m\u001b[0m\n",
      "\u001b[0;32m~/anaconda3/envs/pytorch_p36/lib/python3.6/site-packages/transformers/trainer.py\u001b[0m in \u001b[0;36mtrain\u001b[0;34m(self, resume_from_checkpoint, trial, **kwargs)\u001b[0m\n\u001b[1;32m    967\u001b[0m                     \u001b[0;32mif\u001b[0m \u001b[0mself\u001b[0m\u001b[0;34m.\u001b[0m\u001b[0mdeepspeed\u001b[0m\u001b[0;34m:\u001b[0m\u001b[0;34m\u001b[0m\u001b[0;34m\u001b[0m\u001b[0m\n\u001b[1;32m    968\u001b[0m                         \u001b[0mself\u001b[0m\u001b[0;34m.\u001b[0m\u001b[0mdeepspeed\u001b[0m\u001b[0;34m.\u001b[0m\u001b[0mstep\u001b[0m\u001b[0;34m(\u001b[0m\u001b[0;34m)\u001b[0m\u001b[0;34m\u001b[0m\u001b[0;34m\u001b[0m\u001b[0m\n\u001b[0;32m--> 969\u001b[0;31m                     \u001b[0;32melif\u001b[0m \u001b[0mis_torch_tpu_available\u001b[0m\u001b[0;34m(\u001b[0m\u001b[0;34m)\u001b[0m\u001b[0;34m:\u001b[0m\u001b[0;34m\u001b[0m\u001b[0;34m\u001b[0m\u001b[0m\n\u001b[0m\u001b[1;32m    970\u001b[0m                         \u001b[0mxm\u001b[0m\u001b[0;34m.\u001b[0m\u001b[0moptimizer_step\u001b[0m\u001b[0;34m(\u001b[0m\u001b[0mself\u001b[0m\u001b[0;34m.\u001b[0m\u001b[0moptimizer\u001b[0m\u001b[0;34m)\u001b[0m\u001b[0;34m\u001b[0m\u001b[0;34m\u001b[0m\u001b[0m\n\u001b[1;32m    971\u001b[0m                     \u001b[0;32melif\u001b[0m \u001b[0mself\u001b[0m\u001b[0;34m.\u001b[0m\u001b[0muse_amp\u001b[0m\u001b[0;34m:\u001b[0m\u001b[0;34m\u001b[0m\u001b[0;34m\u001b[0m\u001b[0m\n",
      "\u001b[0;32m~/anaconda3/envs/pytorch_p36/lib/python3.6/site-packages/transformers/file_utils.py\u001b[0m in \u001b[0;36mis_torch_tpu_available\u001b[0;34m()\u001b[0m\n\u001b[1;32m    239\u001b[0m         \u001b[0;32mreturn\u001b[0m \u001b[0;32mFalse\u001b[0m\u001b[0;34m\u001b[0m\u001b[0;34m\u001b[0m\u001b[0m\n\u001b[1;32m    240\u001b[0m     \u001b[0;31m# This test is probably enough, but just in case, we unpack a bit.\u001b[0m\u001b[0;34m\u001b[0m\u001b[0;34m\u001b[0m\u001b[0;34m\u001b[0m\u001b[0m\n\u001b[0;32m--> 241\u001b[0;31m     \u001b[0;32mif\u001b[0m \u001b[0mimportlib\u001b[0m\u001b[0;34m.\u001b[0m\u001b[0mutil\u001b[0m\u001b[0;34m.\u001b[0m\u001b[0mfind_spec\u001b[0m\u001b[0;34m(\u001b[0m\u001b[0;34m\"torch_xla\"\u001b[0m\u001b[0;34m)\u001b[0m \u001b[0;32mis\u001b[0m \u001b[0;32mNone\u001b[0m\u001b[0;34m:\u001b[0m\u001b[0;34m\u001b[0m\u001b[0;34m\u001b[0m\u001b[0m\n\u001b[0m\u001b[1;32m    242\u001b[0m         \u001b[0;32mreturn\u001b[0m \u001b[0;32mFalse\u001b[0m\u001b[0;34m\u001b[0m\u001b[0;34m\u001b[0m\u001b[0m\n\u001b[1;32m    243\u001b[0m     \u001b[0;32mif\u001b[0m \u001b[0mimportlib\u001b[0m\u001b[0;34m.\u001b[0m\u001b[0mutil\u001b[0m\u001b[0;34m.\u001b[0m\u001b[0mfind_spec\u001b[0m\u001b[0;34m(\u001b[0m\u001b[0;34m\"torch_xla.core\"\u001b[0m\u001b[0;34m)\u001b[0m \u001b[0;32mis\u001b[0m \u001b[0;32mNone\u001b[0m\u001b[0;34m:\u001b[0m\u001b[0;34m\u001b[0m\u001b[0;34m\u001b[0m\u001b[0m\n",
      "\u001b[0;32m~/anaconda3/envs/pytorch_p36/lib/python3.6/importlib/util.py\u001b[0m in \u001b[0;36mfind_spec\u001b[0;34m(name, package)\u001b[0m\n\u001b[1;32m     89\u001b[0m             \u001b[0;32mreturn\u001b[0m \u001b[0m_find_spec\u001b[0m\u001b[0;34m(\u001b[0m\u001b[0mfullname\u001b[0m\u001b[0;34m,\u001b[0m \u001b[0mparent\u001b[0m\u001b[0;34m.\u001b[0m\u001b[0m__path__\u001b[0m\u001b[0;34m)\u001b[0m\u001b[0;34m\u001b[0m\u001b[0;34m\u001b[0m\u001b[0m\n\u001b[1;32m     90\u001b[0m         \u001b[0;32melse\u001b[0m\u001b[0;34m:\u001b[0m\u001b[0;34m\u001b[0m\u001b[0;34m\u001b[0m\u001b[0m\n\u001b[0;32m---> 91\u001b[0;31m             \u001b[0;32mreturn\u001b[0m \u001b[0m_find_spec\u001b[0m\u001b[0;34m(\u001b[0m\u001b[0mfullname\u001b[0m\u001b[0;34m,\u001b[0m \u001b[0;32mNone\u001b[0m\u001b[0;34m)\u001b[0m\u001b[0;34m\u001b[0m\u001b[0;34m\u001b[0m\u001b[0m\n\u001b[0m\u001b[1;32m     92\u001b[0m     \u001b[0;32melse\u001b[0m\u001b[0;34m:\u001b[0m\u001b[0;34m\u001b[0m\u001b[0;34m\u001b[0m\u001b[0m\n\u001b[1;32m     93\u001b[0m         \u001b[0mmodule\u001b[0m \u001b[0;34m=\u001b[0m \u001b[0msys\u001b[0m\u001b[0;34m.\u001b[0m\u001b[0mmodules\u001b[0m\u001b[0;34m[\u001b[0m\u001b[0mfullname\u001b[0m\u001b[0;34m]\u001b[0m\u001b[0;34m\u001b[0m\u001b[0;34m\u001b[0m\u001b[0m\n",
      "\u001b[0;32m~/anaconda3/envs/pytorch_p36/lib/python3.6/importlib/_bootstrap.py\u001b[0m in \u001b[0;36m_find_spec\u001b[0;34m(name, path, target)\u001b[0m\n",
      "\u001b[0;32m~/anaconda3/envs/pytorch_p36/lib/python3.6/importlib/_bootstrap_external.py\u001b[0m in \u001b[0;36mfind_spec\u001b[0;34m(cls, fullname, path, target)\u001b[0m\n",
      "\u001b[0;32m~/anaconda3/envs/pytorch_p36/lib/python3.6/importlib/_bootstrap_external.py\u001b[0m in \u001b[0;36m_get_spec\u001b[0;34m(cls, fullname, path, target)\u001b[0m\n",
      "\u001b[0;32m~/anaconda3/envs/pytorch_p36/lib/python3.6/importlib/_bootstrap_external.py\u001b[0m in \u001b[0;36mfind_spec\u001b[0;34m(self, fullname, target)\u001b[0m\n",
      "\u001b[0;31mKeyboardInterrupt\u001b[0m: "
     ]
    }
   ],
   "source": [
    "for C in [1e-3, 1e-4, 1e-5, 1e-6]:\n",
    "    for reg_type in ['l1', 'l2']:\n",
    "        for learning_rate in [0.01, 0.005]:\n",
    "            model_arguments['C'] = C\n",
    "            model_arguments['reg_type'] = reg_type\n",
    "            train_arguments['learning_rate'] = learning_rate\n",
    "            train_arguments['num_train_epochs'] = 20\n",
    "            results = run_full_cv(style_data, model_cls, model_arguments, train_arguments, averaged=True)\n",
    "            \n",
    "            final_results[(C, reg_type, learning_rate)] = results"
   ]
  },
  {
   "cell_type": "code",
   "execution_count": 35,
   "metadata": {},
   "outputs": [
    {
     "name": "stdout",
     "output_type": "stream",
     "text": [
      "(0.001, 'l1', 0.01) 0.5556638545730683\n",
      "(0.001, 'l1', 0.005) 0.5549213560644901\n",
      "(0.001, 'l2', 0.01) 0.5495329919299549\n",
      "(0.001, 'l2', 0.005) 0.5512404666327381\n",
      "(0.0001, 'l1', 0.01) 0.5549180679829275\n",
      "(0.0001, 'l1', 0.005) 0.5554921675236815\n",
      "(0.0001, 'l2', 0.01) 0.5231370695640328\n",
      "(0.0001, 'l2', 0.005) 0.5235921899302824\n",
      "(1e-05, 'l1', 0.01) 0.5291729410379541\n",
      "(1e-05, 'l1', 0.005) 0.5290745218895615\n",
      "(1e-05, 'l2', 0.01) 0.5197905303229591\n",
      "(1e-05, 'l2', 0.005) 0.5200414937686749\n",
      "(1e-06, 'l1', 0.01) 0.5202582203221005\n",
      "(1e-06, 'l1', 0.005) 0.5207080656018237\n",
      "(1e-06, 'l2', 0.01) 0.5194316024941598\n",
      "(1e-06, 'l2', 0.005) 0.5196631310601815\n"
     ]
    }
   ],
   "source": [
    "for k, v in final_results.items():\n",
    "    print(k, v['eval_accuracy'])"
   ]
  },
  {
   "cell_type": "markdown",
   "metadata": {},
   "source": [
    "# Speaker Only"
   ]
  },
  {
   "cell_type": "code",
   "execution_count": 73,
   "metadata": {},
   "outputs": [],
   "source": [
    "style_data = create_full_data(feature_types=['issues_speaker'], label_type='bin_points')"
   ]
  },
  {
   "cell_type": "code",
   "execution_count": 74,
   "metadata": {},
   "outputs": [],
   "source": [
    "final_results = {}"
   ]
  },
  {
   "cell_type": "code",
   "execution_count": 75,
   "metadata": {},
   "outputs": [],
   "source": [
    "\n",
    "D_in = len(style_data.iloc[0].feats)\n",
    "num_users = style_data.user_id.nunique()\n",
    "model_arguments = {'D_in': D_in, 'num_users': num_users, 'use_popularity': True}\n",
    "model_cls = IdealNet"
   ]
  },
  {
   "cell_type": "code",
   "execution_count": null,
   "metadata": {},
   "outputs": [
    {
     "name": "stdout",
     "output_type": "stream",
     "text": [
      "{'loss': 1.2819, 'learning_rate': 0.09314599040438658, 'epoch': 1.37}\n",
      "{'loss': 1.2101, 'learning_rate': 0.08629198080877314, 'epoch': 2.74}\n",
      "{'loss': 1.1442, 'learning_rate': 0.07943797121315971, 'epoch': 4.11}\n",
      "{'loss': 1.0726, 'learning_rate': 0.07258396161754627, 'epoch': 5.48}\n",
      "{'loss': 1.0313, 'learning_rate': 0.06572995202193284, 'epoch': 6.85}\n",
      "{'loss': 0.9809, 'learning_rate': 0.0588759424263194, 'epoch': 8.22}\n",
      "{'loss': 0.925, 'learning_rate': 0.05202193283070597, 'epoch': 9.6}\n",
      "{'loss': 0.8872, 'learning_rate': 0.04516792323509253, 'epoch': 10.97}\n",
      "{'loss': 0.8492, 'learning_rate': 0.0383139136394791, 'epoch': 12.34}\n",
      "{'loss': 0.8121, 'learning_rate': 0.031459904043865665, 'epoch': 13.71}\n",
      "{'loss': 0.7776, 'learning_rate': 0.02460589444825223, 'epoch': 15.08}\n",
      "{'loss': 0.7489, 'learning_rate': 0.017751884852638795, 'epoch': 16.45}\n",
      "{'loss': 0.7192, 'learning_rate': 0.01089787525702536, 'epoch': 17.82}\n",
      "{'loss': 0.6923, 'learning_rate': 0.004043865661411926, 'epoch': 19.19}\n",
      "{'train_runtime': 433.4729, 'train_samples_per_second': 336.584, 'epoch': 20.0}\n",
      "Finished round {'eval_loss': 0.6838110089302063, 'eval_macro_f1': 0.5884999580436879, 'eval_micro_f1': 0.5943502032805271, 'eval_pos_f1': 0.5394349383207322, 'eval_accuracy': 0.5943502032805271, 'eval_runtime': 2.1233, 'eval_samples_per_second': 6718.902}\n",
      "{'loss': 1.2698, 'learning_rate': 0.09316846563738217, 'epoch': 1.37}\n",
      "{'loss': 1.2182, 'learning_rate': 0.08633693127476433, 'epoch': 2.73}\n",
      "{'loss': 1.1527, 'learning_rate': 0.07950539691214648, 'epoch': 4.1}\n",
      "{'loss': 1.0868, 'learning_rate': 0.07267386254952862, 'epoch': 5.47}\n",
      "{'loss': 1.0335, 'learning_rate': 0.06584232818691078, 'epoch': 6.83}\n",
      "{'loss': 0.982, 'learning_rate': 0.059010793824292945, 'epoch': 8.2}\n",
      "{'loss': 0.9336, 'learning_rate': 0.05217925946167509, 'epoch': 9.56}\n",
      "{'loss': 0.8882, 'learning_rate': 0.04534772509905725, 'epoch': 10.93}\n",
      "{'loss': 0.8489, 'learning_rate': 0.03851619073643941, 'epoch': 12.3}\n",
      "{'loss': 0.8145, 'learning_rate': 0.03168465637382156, 'epoch': 13.66}\n",
      "{'loss': 0.7791, 'learning_rate': 0.024853122011203717, 'epoch': 15.03}\n",
      "{'loss': 0.7485, 'learning_rate': 0.01802158764858587, 'epoch': 16.4}\n",
      "{'loss': 0.7233, 'learning_rate': 0.011190053285968029, 'epoch': 17.76}\n",
      "{'loss': 0.6942, 'learning_rate': 0.004358518923350185, 'epoch': 19.13}\n",
      "{'train_runtime': 434.1202, 'train_samples_per_second': 337.188, 'epoch': 20.0}\n",
      "Finished round {'eval_loss': 0.6730883121490479, 'eval_macro_f1': 0.6037326088407691, 'eval_micro_f1': 0.6091651865008881, 'eval_pos_f1': 0.5573348354389636, 'eval_accuracy': 0.6091651865008881, 'eval_runtime': 2.226, 'eval_samples_per_second': 6322.905}\n",
      "{'loss': 1.2703, 'learning_rate': 0.09312147475581235, 'epoch': 1.38}\n",
      "{'loss': 1.2195, 'learning_rate': 0.08624294951162471, 'epoch': 2.75}\n",
      "{'loss': 1.1462, 'learning_rate': 0.07936442426743706, 'epoch': 4.13}\n",
      "{'loss': 1.0913, 'learning_rate': 0.07248589902324941, 'epoch': 5.5}\n",
      "{'loss': 1.035, 'learning_rate': 0.06560737377906177, 'epoch': 6.88}\n",
      "{'loss': 0.9812, 'learning_rate': 0.058728848534874124, 'epoch': 8.25}\n",
      "{'loss': 0.9323, 'learning_rate': 0.05185032329068648, 'epoch': 9.63}\n",
      "{'loss': 0.8871, 'learning_rate': 0.04497179804649883, 'epoch': 11.01}\n",
      "{'loss': 0.8499, 'learning_rate': 0.03809327280231119, 'epoch': 12.38}\n",
      "{'loss': 0.812, 'learning_rate': 0.03121474755812354, 'epoch': 13.76}\n",
      "{'loss': 0.7803, 'learning_rate': 0.024336222313935896, 'epoch': 15.13}\n",
      "{'loss': 0.748, 'learning_rate': 0.017457697069748247, 'epoch': 16.51}\n",
      "{'loss': 0.7199, 'learning_rate': 0.0105791718255606, 'epoch': 17.88}\n",
      "{'loss': 0.6917, 'learning_rate': 0.003700646581372954, 'epoch': 19.26}\n",
      "{'train_runtime': 432.2323, 'train_samples_per_second': 336.347, 'epoch': 20.0}\n",
      "Finished round {'eval_loss': 0.6750491261482239, 'eval_macro_f1': 0.6058110464111996, 'eval_micro_f1': 0.611180210060807, 'eval_pos_f1': 0.5598059923335681, 'eval_accuracy': 0.611180210060807, 'eval_runtime': 2.2599, 'eval_samples_per_second': 6403.901}\n",
      "{'loss': 1.2608, 'learning_rate': 0.093081499930815, 'epoch': 1.38}\n",
      "{'loss': 1.2107, 'learning_rate': 0.08616299986163001, 'epoch': 2.77}\n",
      "{'loss': 1.1515, 'learning_rate': 0.07924449979244501, 'epoch': 4.15}\n",
      "{'loss': 1.0773, 'learning_rate': 0.07232599972326, 'epoch': 5.53}\n",
      "{'loss': 1.0214, 'learning_rate': 0.065407499654075, 'epoch': 6.92}\n",
      "{'loss': 0.9691, 'learning_rate': 0.058488999584890004, 'epoch': 8.3}\n",
      "{'loss': 0.9268, 'learning_rate': 0.051570499515705, 'epoch': 9.69}\n",
      "{'loss': 0.8845, 'learning_rate': 0.04465199944652, 'epoch': 11.07}\n",
      "{'loss': 0.8444, 'learning_rate': 0.037733499377335, 'epoch': 12.45}\n",
      "{'loss': 0.8073, 'learning_rate': 0.030814999308149994, 'epoch': 13.84}\n",
      "{'loss': 0.7765, 'learning_rate': 0.023896499238964992, 'epoch': 15.22}\n",
      "{'loss': 0.7449, 'learning_rate': 0.016977999169779993, 'epoch': 16.6}\n",
      "{'loss': 0.7202, 'learning_rate': 0.010059499100594992, 'epoch': 17.99}\n",
      "{'loss': 0.6911, 'learning_rate': 0.0031409990314099907, 'epoch': 19.37}\n",
      "{'train_runtime': 428.5624, 'train_samples_per_second': 337.267, 'epoch': 20.0}\n",
      "Finished round {'eval_loss': 0.6641122698783875, 'eval_macro_f1': 0.6102691202239019, 'eval_micro_f1': 0.6177582714382174, 'eval_pos_f1': 0.5562436309477149, 'eval_accuracy': 0.6177582714382174, 'eval_runtime': 2.3109, 'eval_samples_per_second': 6408.745}\n",
      "{'loss': 1.2647, 'learning_rate': 0.0930584478689435, 'epoch': 1.39}\n",
      "{'loss': 1.2154, 'learning_rate': 0.086116895737887, 'epoch': 2.78}\n",
      "{'loss': 1.1467, 'learning_rate': 0.07917534360683048, 'epoch': 4.16}\n",
      "{'loss': 1.0842, 'learning_rate': 0.07223379147577398, 'epoch': 5.55}\n",
      "{'loss': 1.0339, 'learning_rate': 0.06529223934471749, 'epoch': 6.94}\n",
      "{'loss': 0.9752, 'learning_rate': 0.05835068721366098, 'epoch': 8.33}\n",
      "{'loss': 0.9282, 'learning_rate': 0.051409135082604474, 'epoch': 9.72}\n",
      "{'loss': 0.8821, 'learning_rate': 0.04446758295154797, 'epoch': 11.11}\n",
      "{'loss': 0.8425, 'learning_rate': 0.03752603082049147, 'epoch': 12.49}\n",
      "{'loss': 0.8076, 'learning_rate': 0.03058447868943496, 'epoch': 13.88}\n",
      "{'loss': 0.7752, 'learning_rate': 0.023642926558378456, 'epoch': 15.27}\n",
      "{'loss': 0.7422, 'learning_rate': 0.01670137442732195, 'epoch': 16.66}\n",
      "{'loss': 0.7154, 'learning_rate': 0.009759822296265446, 'epoch': 18.05}\n",
      "{'loss': 0.6872, 'learning_rate': 0.002818270165208941, 'epoch': 19.44}\n",
      "{'train_runtime': 427.8573, 'train_samples_per_second': 336.701, 'epoch': 20.0}\n",
      "Finished round {'eval_loss': 0.6820560097694397, 'eval_macro_f1': 0.5927598342571752, 'eval_micro_f1': 0.6000533440021337, 'eval_pos_f1': 0.5382602001539647, 'eval_accuracy': 0.6000533440021337, 'eval_runtime': 2.2421, 'eval_samples_per_second': 6688.85}\n",
      "{'loss': 0.7007, 'learning_rate': 0.009314599040438657, 'epoch': 1.37}\n",
      "{'loss': 0.6969, 'learning_rate': 0.008629198080877313, 'epoch': 2.74}\n",
      "{'loss': 0.6941, 'learning_rate': 0.00794379712131597, 'epoch': 4.11}\n",
      "{'loss': 0.6892, 'learning_rate': 0.0072583961617546265, 'epoch': 5.48}\n",
      "{'loss': 0.6894, 'learning_rate': 0.006572995202193284, 'epoch': 6.85}\n",
      "{'loss': 0.6853, 'learning_rate': 0.005887594242631939, 'epoch': 8.22}\n",
      "{'loss': 0.6824, 'learning_rate': 0.005202193283070596, 'epoch': 9.6}\n",
      "{'loss': 0.6788, 'learning_rate': 0.004516792323509253, 'epoch': 10.97}\n",
      "{'loss': 0.6746, 'learning_rate': 0.00383139136394791, 'epoch': 12.34}\n",
      "{'loss': 0.6735, 'learning_rate': 0.0031459904043865663, 'epoch': 13.71}\n",
      "{'loss': 0.6684, 'learning_rate': 0.0024605894448252227, 'epoch': 15.08}\n",
      "{'loss': 0.6638, 'learning_rate': 0.0017751884852638795, 'epoch': 16.45}\n",
      "{'loss': 0.6602, 'learning_rate': 0.001089787525702536, 'epoch': 17.82}\n",
      "{'loss': 0.6567, 'learning_rate': 0.0004043865661411926, 'epoch': 19.19}\n",
      "{'train_runtime': 430.5584, 'train_samples_per_second': 338.862, 'epoch': 20.0}\n",
      "Finished round {'eval_loss': 0.6813765168190002, 'eval_macro_f1': 0.5910025964436039, 'eval_micro_f1': 0.5974344595541847, 'eval_pos_f1': 0.5397130720525767, 'eval_accuracy': 0.5974344595541847, 'eval_runtime': 2.1345, 'eval_samples_per_second': 6683.444}\n",
      "{'loss': 0.7009, 'learning_rate': 0.009316846563738216, 'epoch': 1.37}\n",
      "{'loss': 0.6983, 'learning_rate': 0.008633693127476432, 'epoch': 2.73}\n",
      "{'loss': 0.6953, 'learning_rate': 0.007950539691214646, 'epoch': 4.1}\n",
      "{'loss': 0.6932, 'learning_rate': 0.0072673862549528625, 'epoch': 5.47}\n"
     ]
    },
    {
     "name": "stdout",
     "output_type": "stream",
     "text": [
      "{'loss': 0.6894, 'learning_rate': 0.006584232818691078, 'epoch': 6.83}\n",
      "{'loss': 0.6866, 'learning_rate': 0.005901079382429294, 'epoch': 8.2}\n",
      "{'loss': 0.6851, 'learning_rate': 0.005217925946167509, 'epoch': 9.56}\n",
      "{'loss': 0.6797, 'learning_rate': 0.004534772509905725, 'epoch': 10.93}\n",
      "{'loss': 0.6757, 'learning_rate': 0.0038516190736439405, 'epoch': 12.3}\n",
      "{'loss': 0.6745, 'learning_rate': 0.0031684656373821563, 'epoch': 13.66}\n",
      "{'loss': 0.6698, 'learning_rate': 0.0024853122011203716, 'epoch': 15.03}\n",
      "{'loss': 0.6651, 'learning_rate': 0.0018021587648585872, 'epoch': 16.4}\n",
      "{'loss': 0.6629, 'learning_rate': 0.001119005328596803, 'epoch': 17.76}\n",
      "{'loss': 0.6568, 'learning_rate': 0.0004358518923350185, 'epoch': 19.13}\n",
      "{'train_runtime': 430.866, 'train_samples_per_second': 339.734, 'epoch': 20.0}\n",
      "Finished round {'eval_loss': 0.6680341362953186, 'eval_macro_f1': 0.6023363527760912, 'eval_micro_f1': 0.6093783303730018, 'eval_pos_f1': 0.5494181281757089, 'eval_accuracy': 0.6093783303730018, 'eval_runtime': 2.1183, 'eval_samples_per_second': 6644.59}\n",
      "{'loss': 0.7012, 'learning_rate': 0.009312147475581236, 'epoch': 1.38}\n",
      "{'loss': 0.6989, 'learning_rate': 0.008624294951162471, 'epoch': 2.75}\n",
      "{'loss': 0.695, 'learning_rate': 0.007936442426743706, 'epoch': 4.13}\n",
      "{'loss': 0.6928, 'learning_rate': 0.007248589902324941, 'epoch': 5.5}\n",
      "{'loss': 0.6895, 'learning_rate': 0.006560737377906177, 'epoch': 6.88}\n",
      "{'loss': 0.6862, 'learning_rate': 0.005872884853487413, 'epoch': 8.25}\n",
      "{'loss': 0.6827, 'learning_rate': 0.005185032329068647, 'epoch': 9.63}\n",
      "{'loss': 0.6802, 'learning_rate': 0.004497179804649883, 'epoch': 11.01}\n",
      "{'loss': 0.6761, 'learning_rate': 0.0038093272802311186, 'epoch': 12.38}\n",
      "{'loss': 0.6729, 'learning_rate': 0.003121474755812354, 'epoch': 13.76}\n",
      "{'loss': 0.6694, 'learning_rate': 0.0024336222313935895, 'epoch': 15.13}\n",
      "{'loss': 0.6646, 'learning_rate': 0.0017457697069748247, 'epoch': 16.51}\n",
      "{'loss': 0.6613, 'learning_rate': 0.0010579171825560601, 'epoch': 17.88}\n",
      "{'loss': 0.6561, 'learning_rate': 0.0003700646581372954, 'epoch': 19.26}\n",
      "{'train_runtime': 428.3713, 'train_samples_per_second': 339.378, 'epoch': 20.0}\n",
      "Finished round {'eval_loss': 0.6732500791549683, 'eval_macro_f1': 0.608948254083421, 'eval_micro_f1': 0.6155334438916529, 'eval_pos_f1': 0.5582023185643957, 'eval_accuracy': 0.6155334438916529, 'eval_runtime': 2.2498, 'eval_samples_per_second': 6432.607}\n",
      "{'loss': 0.7035, 'learning_rate': 0.0093081499930815, 'epoch': 1.38}\n",
      "{'loss': 0.6999, 'learning_rate': 0.008616299986163, 'epoch': 2.77}\n",
      "{'loss': 0.6973, 'learning_rate': 0.0079244499792445, 'epoch': 4.15}\n",
      "{'loss': 0.6944, 'learning_rate': 0.007232599972325999, 'epoch': 5.53}\n",
      "{'loss': 0.6911, 'learning_rate': 0.0065407499654075, 'epoch': 6.92}\n",
      "{'loss': 0.6864, 'learning_rate': 0.005848899958489, 'epoch': 8.3}\n",
      "{'loss': 0.6855, 'learning_rate': 0.005157049951570499, 'epoch': 9.69}\n",
      "{'loss': 0.6815, 'learning_rate': 0.004465199944651999, 'epoch': 11.07}\n",
      "{'loss': 0.6791, 'learning_rate': 0.0037733499377334994, 'epoch': 12.45}\n",
      "{'loss': 0.6753, 'learning_rate': 0.0030814999308149994, 'epoch': 13.84}\n",
      "{'loss': 0.6709, 'learning_rate': 0.002389649923896499, 'epoch': 15.22}\n",
      "{'loss': 0.667, 'learning_rate': 0.0016977999169779992, 'epoch': 16.6}\n",
      "{'loss': 0.6651, 'learning_rate': 0.0010059499100594992, 'epoch': 17.99}\n",
      "{'loss': 0.6585, 'learning_rate': 0.00031409990314099903, 'epoch': 19.37}\n",
      "{'train_runtime': 425.9966, 'train_samples_per_second': 339.298, 'epoch': 20.0}\n",
      "Finished round {'eval_loss': 0.6590941548347473, 'eval_macro_f1': 0.6148630137938803, 'eval_micro_f1': 0.6212018906144497, 'eval_pos_f1': 0.5654531371030209, 'eval_accuracy': 0.6212018906144497, 'eval_runtime': 2.2083, 'eval_samples_per_second': 6706.542}\n",
      "{'loss': 0.7019, 'learning_rate': 0.009305844786894349, 'epoch': 1.39}\n",
      "{'loss': 0.6961, 'learning_rate': 0.0086116895737887, 'epoch': 2.78}\n",
      "{'loss': 0.6926, 'learning_rate': 0.007917534360683048, 'epoch': 4.16}\n",
      "{'loss': 0.6917, 'learning_rate': 0.007223379147577398, 'epoch': 5.55}\n",
      "{'loss': 0.6876, 'learning_rate': 0.006529223934471749, 'epoch': 6.94}\n",
      "{'loss': 0.684, 'learning_rate': 0.005835068721366098, 'epoch': 8.33}\n",
      "{'loss': 0.6812, 'learning_rate': 0.005140913508260447, 'epoch': 9.72}\n",
      "{'loss': 0.6786, 'learning_rate': 0.004446758295154797, 'epoch': 11.11}\n",
      "{'loss': 0.6744, 'learning_rate': 0.0037526030820491463, 'epoch': 12.49}\n",
      "{'loss': 0.6715, 'learning_rate': 0.003058447868943496, 'epoch': 13.88}\n",
      "{'loss': 0.6676, 'learning_rate': 0.0023642926558378454, 'epoch': 15.27}\n",
      "{'loss': 0.6624, 'learning_rate': 0.001670137442732195, 'epoch': 16.66}\n",
      "{'loss': 0.6605, 'learning_rate': 0.0009759822296265446, 'epoch': 18.05}\n",
      "{'loss': 0.6541, 'learning_rate': 0.0002818270165208941, 'epoch': 19.44}\n",
      "{'train_runtime': 424.9718, 'train_samples_per_second': 338.987, 'epoch': 20.0}\n",
      "Finished round {'eval_loss': 0.6812392473220825, 'eval_macro_f1': 0.5929382761611879, 'eval_micro_f1': 0.6001200240048009, 'eval_pos_f1': 0.5388696655132641, 'eval_accuracy': 0.6001200240048009, 'eval_runtime': 2.3392, 'eval_samples_per_second': 6411.231}\n",
      "{'loss': 0.6812, 'learning_rate': 0.004657299520219329, 'epoch': 1.37}\n",
      "{'loss': 0.6773, 'learning_rate': 0.0043145990404386565, 'epoch': 2.74}\n",
      "{'loss': 0.6752, 'learning_rate': 0.003971898560657985, 'epoch': 4.11}\n",
      "{'loss': 0.6718, 'learning_rate': 0.0036291980808773132, 'epoch': 5.48}\n",
      "{'loss': 0.6731, 'learning_rate': 0.003286497601096642, 'epoch': 6.85}\n",
      "{'loss': 0.6697, 'learning_rate': 0.0029437971213159696, 'epoch': 8.22}\n",
      "{'loss': 0.6685, 'learning_rate': 0.002601096641535298, 'epoch': 9.6}\n",
      "{'loss': 0.6662, 'learning_rate': 0.0022583961617546264, 'epoch': 10.97}\n",
      "{'loss': 0.6629, 'learning_rate': 0.001915695681973955, 'epoch': 12.34}\n",
      "{'loss': 0.6632, 'learning_rate': 0.0015729952021932832, 'epoch': 13.71}\n",
      "{'loss': 0.6594, 'learning_rate': 0.0012302947224126113, 'epoch': 15.08}\n",
      "{'loss': 0.6561, 'learning_rate': 0.0008875942426319397, 'epoch': 16.45}\n",
      "{'loss': 0.6543, 'learning_rate': 0.000544893762851268, 'epoch': 17.82}\n",
      "{'loss': 0.6529, 'learning_rate': 0.0002021932830705963, 'epoch': 19.19}\n",
      "{'train_runtime': 429.7615, 'train_samples_per_second': 339.491, 'epoch': 20.0}\n",
      "Finished round {'eval_loss': 0.6809618473052979, 'eval_macro_f1': 0.5915189232722413, 'eval_micro_f1': 0.5980653301556147, 'eval_pos_f1': 0.5398073836276084, 'eval_accuracy': 0.5980653301556147, 'eval_runtime': 2.2233, 'eval_samples_per_second': 6416.559}\n",
      "{'loss': 0.6828, 'learning_rate': 0.004658423281869108, 'epoch': 1.37}\n",
      "{'loss': 0.6785, 'learning_rate': 0.004316846563738216, 'epoch': 2.73}\n",
      "{'loss': 0.6765, 'learning_rate': 0.003975269845607323, 'epoch': 4.1}\n",
      "{'loss': 0.6753, 'learning_rate': 0.0036336931274764312, 'epoch': 5.47}\n",
      "{'loss': 0.6729, 'learning_rate': 0.003292116409345539, 'epoch': 6.83}\n",
      "{'loss': 0.6712, 'learning_rate': 0.002950539691214647, 'epoch': 8.2}\n",
      "{'loss': 0.6711, 'learning_rate': 0.0026089629730837545, 'epoch': 9.56}\n",
      "{'loss': 0.6671, 'learning_rate': 0.0022673862549528623, 'epoch': 10.93}\n",
      "{'loss': 0.664, 'learning_rate': 0.0019258095368219702, 'epoch': 12.3}\n",
      "{'loss': 0.6643, 'learning_rate': 0.0015842328186910781, 'epoch': 13.66}\n",
      "{'loss': 0.661, 'learning_rate': 0.0012426561005601858, 'epoch': 15.03}\n",
      "{'loss': 0.6577, 'learning_rate': 0.0009010793824292936, 'epoch': 16.4}\n",
      "{'loss': 0.657, 'learning_rate': 0.0005595026642984015, 'epoch': 17.76}\n",
      "{'loss': 0.6528, 'learning_rate': 0.00021792594616750925, 'epoch': 19.13}\n",
      "{'train_runtime': 430.9365, 'train_samples_per_second': 339.679, 'epoch': 20.0}\n",
      "Finished round {'eval_loss': 0.6678730249404907, 'eval_macro_f1': 0.6030290412144781, 'eval_micro_f1': 0.610088809946714, 'eval_pos_f1': 0.5500901787178226, 'eval_accuracy': 0.610088809946714, 'eval_runtime': 2.2007, 'eval_samples_per_second': 6395.758}\n",
      "{'loss': 0.683, 'learning_rate': 0.004656073737790618, 'epoch': 1.38}\n",
      "{'loss': 0.6786, 'learning_rate': 0.0043121474755812355, 'epoch': 2.75}\n",
      "{'loss': 0.676, 'learning_rate': 0.003968221213371853, 'epoch': 4.13}\n",
      "{'loss': 0.6748, 'learning_rate': 0.0036242949511624705, 'epoch': 5.5}\n",
      "{'loss': 0.673, 'learning_rate': 0.0032803686889530887, 'epoch': 6.88}\n",
      "{'loss': 0.6706, 'learning_rate': 0.0029364424267437064, 'epoch': 8.25}\n",
      "{'loss': 0.6685, 'learning_rate': 0.0025925161645343237, 'epoch': 9.63}\n"
     ]
    },
    {
     "name": "stdout",
     "output_type": "stream",
     "text": [
      "{'loss': 0.6675, 'learning_rate': 0.0022485899023249414, 'epoch': 11.01}\n",
      "{'loss': 0.6641, 'learning_rate': 0.0019046636401155593, 'epoch': 12.38}\n",
      "{'loss': 0.6625, 'learning_rate': 0.001560737377906177, 'epoch': 13.76}\n",
      "{'loss': 0.6605, 'learning_rate': 0.0012168111156967947, 'epoch': 15.13}\n",
      "{'loss': 0.6571, 'learning_rate': 0.0008728848534874123, 'epoch': 16.51}\n",
      "{'loss': 0.6553, 'learning_rate': 0.0005289585912780301, 'epoch': 17.88}\n",
      "{'loss': 0.6524, 'learning_rate': 0.0001850323290686477, 'epoch': 19.26}\n",
      "{'train_runtime': 429.3067, 'train_samples_per_second': 338.639, 'epoch': 20.0}\n",
      "Finished round {'eval_loss': 0.6733263731002808, 'eval_macro_f1': 0.6088389719283904, 'eval_micro_f1': 0.6156025428413489, 'eval_pos_f1': 0.5574031346964755, 'eval_accuracy': 0.6156025428413489, 'eval_runtime': 2.1556, 'eval_samples_per_second': 6713.78}\n",
      "{'loss': 0.6857, 'learning_rate': 0.00465407499654075, 'epoch': 1.38}\n",
      "{'loss': 0.6799, 'learning_rate': 0.0043081499930815, 'epoch': 2.77}\n",
      "{'loss': 0.6792, 'learning_rate': 0.00396222498962225, 'epoch': 4.15}\n",
      "{'loss': 0.6771, 'learning_rate': 0.0036162999861629997, 'epoch': 5.53}\n",
      "{'loss': 0.6753, 'learning_rate': 0.00327037498270375, 'epoch': 6.92}\n",
      "{'loss': 0.6718, 'learning_rate': 0.0029244499792445, 'epoch': 8.3}\n",
      "{'loss': 0.6722, 'learning_rate': 0.0025785249757852495, 'epoch': 9.69}\n",
      "{'loss': 0.6694, 'learning_rate': 0.0022325999723259997, 'epoch': 11.07}\n",
      "{'loss': 0.668, 'learning_rate': 0.0018866749688667497, 'epoch': 12.45}\n",
      "{'loss': 0.6654, 'learning_rate': 0.0015407499654074997, 'epoch': 13.84}\n",
      "{'loss': 0.6624, 'learning_rate': 0.0011948249619482495, 'epoch': 15.22}\n",
      "{'loss': 0.66, 'learning_rate': 0.0008488999584889996, 'epoch': 16.6}\n",
      "{'loss': 0.6595, 'learning_rate': 0.0005029749550297496, 'epoch': 17.99}\n",
      "{'loss': 0.6551, 'learning_rate': 0.00015704995157049951, 'epoch': 19.37}\n",
      "{'train_runtime': 427.0283, 'train_samples_per_second': 338.479, 'epoch': 20.0}\n",
      "Finished round {'eval_loss': 0.6585504412651062, 'eval_macro_f1': 0.6148254533695493, 'eval_micro_f1': 0.6207967589466576, 'eval_pos_f1': 0.5668671911152244, 'eval_accuracy': 0.6207967589466576, 'eval_runtime': 2.2096, 'eval_samples_per_second': 6702.631}\n",
      "{'loss': 0.6833, 'learning_rate': 0.0046529223934471745, 'epoch': 1.39}\n",
      "{'loss': 0.6765, 'learning_rate': 0.00430584478689435, 'epoch': 2.78}\n",
      "{'loss': 0.6736, 'learning_rate': 0.003958767180341524, 'epoch': 4.16}\n",
      "{'loss': 0.6738, 'learning_rate': 0.003611689573788699, 'epoch': 5.55}\n",
      "{'loss': 0.6713, 'learning_rate': 0.0032646119672358745, 'epoch': 6.94}\n",
      "{'loss': 0.6685, 'learning_rate': 0.002917534360683049, 'epoch': 8.33}\n",
      "{'loss': 0.6675, 'learning_rate': 0.0025704567541302236, 'epoch': 9.72}\n",
      "{'loss': 0.666, 'learning_rate': 0.0022233791475773984, 'epoch': 11.11}\n",
      "{'loss': 0.6629, 'learning_rate': 0.0018763015410245732, 'epoch': 12.49}\n",
      "{'loss': 0.6614, 'learning_rate': 0.001529223934471748, 'epoch': 13.88}\n",
      "{'loss': 0.6588, 'learning_rate': 0.0011821463279189227, 'epoch': 15.27}\n",
      "{'loss': 0.6552, 'learning_rate': 0.0008350687213660975, 'epoch': 16.66}\n",
      "{'loss': 0.6549, 'learning_rate': 0.0004879911148132723, 'epoch': 18.05}\n",
      "{'loss': 0.6508, 'learning_rate': 0.00014091350826044705, 'epoch': 19.44}\n",
      "{'train_runtime': 425.3353, 'train_samples_per_second': 338.698, 'epoch': 20.0}\n",
      "Finished round {'eval_loss': 0.6814812421798706, 'eval_macro_f1': 0.5929676049322797, 'eval_micro_f1': 0.6001200240048009, 'eval_pos_f1': 0.5390114536090399, 'eval_accuracy': 0.6001200240048009, 'eval_runtime': 2.2381, 'eval_samples_per_second': 6700.889}\n",
      "{'loss': 1.2754, 'learning_rate': 0.09314599040438658, 'epoch': 1.37}\n",
      "{'loss': 1.1976, 'learning_rate': 0.08629198080877314, 'epoch': 2.74}\n",
      "{'loss': 1.1426, 'learning_rate': 0.07943797121315971, 'epoch': 4.11}\n",
      "{'loss': 1.0778, 'learning_rate': 0.07258396161754627, 'epoch': 5.48}\n",
      "{'loss': 1.0245, 'learning_rate': 0.06572995202193284, 'epoch': 6.85}\n",
      "{'loss': 0.9746, 'learning_rate': 0.0588759424263194, 'epoch': 8.22}\n",
      "{'loss': 0.9179, 'learning_rate': 0.05202193283070597, 'epoch': 9.6}\n",
      "{'loss': 0.8759, 'learning_rate': 0.04516792323509253, 'epoch': 10.97}\n",
      "{'loss': 0.8292, 'learning_rate': 0.0383139136394791, 'epoch': 12.34}\n",
      "{'loss': 0.7934, 'learning_rate': 0.031459904043865665, 'epoch': 13.71}\n",
      "{'loss': 0.7543, 'learning_rate': 0.02460589444825223, 'epoch': 15.08}\n",
      "{'loss': 0.7233, 'learning_rate': 0.017751884852638795, 'epoch': 16.45}\n",
      "{'loss': 0.6938, 'learning_rate': 0.01089787525702536, 'epoch': 17.82}\n",
      "{'loss': 0.6653, 'learning_rate': 0.004043865661411926, 'epoch': 19.19}\n",
      "{'train_runtime': 449.1817, 'train_samples_per_second': 324.813, 'epoch': 20.0}\n",
      "Finished round {'eval_loss': 0.6747146248817444, 'eval_macro_f1': 0.5919732832043155, 'eval_micro_f1': 0.5982756203560914, 'eval_pos_f1': 0.5412631073401105, 'eval_accuracy': 0.5982756203560914, 'eval_runtime': 2.2286, 'eval_samples_per_second': 6401.266}\n",
      "{'loss': 1.2757, 'learning_rate': 0.09316846563738217, 'epoch': 1.37}\n",
      "{'loss': 1.2211, 'learning_rate': 0.08633693127476433, 'epoch': 2.73}\n",
      "{'loss': 1.1487, 'learning_rate': 0.07950539691214648, 'epoch': 4.1}\n",
      "{'loss': 1.0823, 'learning_rate': 0.07267386254952862, 'epoch': 5.47}\n",
      "{'loss': 1.0295, 'learning_rate': 0.06584232818691078, 'epoch': 6.83}\n",
      "{'loss': 0.9751, 'learning_rate': 0.059010793824292945, 'epoch': 8.2}\n",
      "{'loss': 0.9308, 'learning_rate': 0.05217925946167509, 'epoch': 9.56}\n",
      "{'loss': 0.8729, 'learning_rate': 0.04534772509905725, 'epoch': 10.93}\n",
      "{'loss': 0.8309, 'learning_rate': 0.03851619073643941, 'epoch': 12.3}\n",
      "{'loss': 0.7953, 'learning_rate': 0.03168465637382156, 'epoch': 13.66}\n",
      "{'loss': 0.7592, 'learning_rate': 0.024853122011203717, 'epoch': 15.03}\n",
      "{'loss': 0.7231, 'learning_rate': 0.01802158764858587, 'epoch': 16.4}\n",
      "{'loss': 0.6988, 'learning_rate': 0.011190053285968029, 'epoch': 17.76}\n",
      "{'loss': 0.6676, 'learning_rate': 0.004358518923350185, 'epoch': 19.13}\n",
      "{'train_runtime': 452.2032, 'train_samples_per_second': 323.704, 'epoch': 20.0}\n",
      "Finished round {'eval_loss': 0.6606900095939636, 'eval_macro_f1': 0.6031004173437886, 'eval_micro_f1': 0.6086678507992895, 'eval_pos_f1': 0.5560928433268859, 'eval_accuracy': 0.6086678507992895, 'eval_runtime': 2.0994, 'eval_samples_per_second': 6704.391}\n",
      "{'loss': 1.2729, 'learning_rate': 0.09312147475581235, 'epoch': 1.38}\n",
      "{'loss': 1.2197, 'learning_rate': 0.08624294951162471, 'epoch': 2.75}\n",
      "{'loss': 1.1474, 'learning_rate': 0.07936442426743706, 'epoch': 4.13}\n",
      "{'loss': 1.0909, 'learning_rate': 0.07248589902324941, 'epoch': 5.5}\n",
      "{'loss': 1.0306, 'learning_rate': 0.06560737377906177, 'epoch': 6.88}\n",
      "{'loss': 0.9724, 'learning_rate': 0.058728848534874124, 'epoch': 8.25}\n",
      "{'loss': 0.9252, 'learning_rate': 0.05185032329068648, 'epoch': 9.63}\n",
      "{'loss': 0.8733, 'learning_rate': 0.04497179804649883, 'epoch': 11.01}\n",
      "{'loss': 0.8322, 'learning_rate': 0.03809327280231119, 'epoch': 12.38}\n",
      "{'loss': 0.7925, 'learning_rate': 0.03121474755812354, 'epoch': 13.76}\n",
      "{'loss': 0.7576, 'learning_rate': 0.024336222313935896, 'epoch': 15.13}\n",
      "{'loss': 0.7224, 'learning_rate': 0.017457697069748247, 'epoch': 16.51}\n",
      "{'loss': 0.6937, 'learning_rate': 0.0105791718255606, 'epoch': 17.88}\n",
      "{'loss': 0.6656, 'learning_rate': 0.003700646581372954, 'epoch': 19.26}\n",
      "{'train_runtime': 447.864, 'train_samples_per_second': 324.607, 'epoch': 20.0}\n",
      "Finished round {'eval_loss': 0.6664429903030396, 'eval_macro_f1': 0.60972902549895, 'eval_micro_f1': 0.6147042564953012, 'eval_pos_f1': 0.5656644337124163, 'eval_accuracy': 0.6147042564953012, 'eval_runtime': 2.1649, 'eval_samples_per_second': 6684.722}\n",
      "{'loss': 1.2663, 'learning_rate': 0.093081499930815, 'epoch': 1.38}\n",
      "{'loss': 1.2176, 'learning_rate': 0.08616299986163001, 'epoch': 2.77}\n",
      "{'loss': 1.1469, 'learning_rate': 0.07924449979244501, 'epoch': 4.15}\n",
      "{'loss': 1.0783, 'learning_rate': 0.07232599972326, 'epoch': 5.53}\n",
      "{'loss': 1.0228, 'learning_rate': 0.065407499654075, 'epoch': 6.92}\n",
      "{'loss': 0.966, 'learning_rate': 0.058488999584890004, 'epoch': 8.3}\n",
      "{'loss': 0.9199, 'learning_rate': 0.051570499515705, 'epoch': 9.69}\n",
      "{'loss': 0.8767, 'learning_rate': 0.04465199944652, 'epoch': 11.07}\n",
      "{'loss': 0.8324, 'learning_rate': 0.037733499377335, 'epoch': 12.45}\n",
      "{'loss': 0.7903, 'learning_rate': 0.030814999308149994, 'epoch': 13.84}\n",
      "{'loss': 0.7559, 'learning_rate': 0.023896499238964992, 'epoch': 15.22}\n"
     ]
    },
    {
     "name": "stdout",
     "output_type": "stream",
     "text": [
      "{'loss': 0.7216, 'learning_rate': 0.016977999169779993, 'epoch': 16.6}\n",
      "{'loss': 0.6964, 'learning_rate': 0.010059499100594992, 'epoch': 17.99}\n",
      "{'loss': 0.6649, 'learning_rate': 0.0031409990314099907, 'epoch': 19.37}\n",
      "{'train_runtime': 445.789, 'train_samples_per_second': 324.234, 'epoch': 20.0}\n",
      "Finished round {'eval_loss': 0.6528710126876831, 'eval_macro_f1': 0.6187174371917529, 'eval_micro_f1': 0.625320729237002, 'eval_pos_f1': 0.5685405489464271, 'eval_accuracy': 0.625320729237002, 'eval_runtime': 2.3235, 'eval_samples_per_second': 6373.872}\n",
      "{'loss': 1.2679, 'learning_rate': 0.0930584478689435, 'epoch': 1.39}\n",
      "{'loss': 1.2118, 'learning_rate': 0.086116895737887, 'epoch': 2.78}\n",
      "{'loss': 1.1526, 'learning_rate': 0.07917534360683048, 'epoch': 4.16}\n",
      "{'loss': 1.0828, 'learning_rate': 0.07223379147577398, 'epoch': 5.55}\n",
      "{'loss': 1.0289, 'learning_rate': 0.06529223934471749, 'epoch': 6.94}\n",
      "{'loss': 0.9701, 'learning_rate': 0.05835068721366098, 'epoch': 8.33}\n",
      "{'loss': 0.9132, 'learning_rate': 0.051409135082604474, 'epoch': 9.72}\n",
      "{'loss': 0.8708, 'learning_rate': 0.04446758295154797, 'epoch': 11.11}\n",
      "{'loss': 0.8236, 'learning_rate': 0.03752603082049147, 'epoch': 12.49}\n",
      "{'loss': 0.7897, 'learning_rate': 0.03058447868943496, 'epoch': 13.88}\n",
      "{'loss': 0.7515, 'learning_rate': 0.023642926558378456, 'epoch': 15.27}\n",
      "{'loss': 0.7175, 'learning_rate': 0.01670137442732195, 'epoch': 16.66}\n",
      "{'loss': 0.6888, 'learning_rate': 0.009759822296265446, 'epoch': 18.05}\n",
      "{'loss': 0.6598, 'learning_rate': 0.002818270165208941, 'epoch': 19.44}\n",
      "{'train_runtime': 445.8102, 'train_samples_per_second': 323.142, 'epoch': 20.0}\n",
      "Finished round {'eval_loss': 0.6754680275917053, 'eval_macro_f1': 0.5947458499353164, 'eval_micro_f1': 0.6015203040608121, 'eval_pos_f1': 0.5423495175371421, 'eval_accuracy': 0.6015203040608121, 'eval_runtime': 2.3782, 'eval_samples_per_second': 6306.099}\n",
      "{'loss': 0.6745, 'learning_rate': 0.009314599040438657, 'epoch': 1.37}\n",
      "{'loss': 0.6659, 'learning_rate': 0.008629198080877313, 'epoch': 2.74}\n",
      "{'loss': 0.6654, 'learning_rate': 0.00794379712131597, 'epoch': 4.11}\n",
      "{'loss': 0.6617, 'learning_rate': 0.0072583961617546265, 'epoch': 5.48}\n",
      "{'loss': 0.6649, 'learning_rate': 0.006572995202193284, 'epoch': 6.85}\n",
      "{'loss': 0.6606, 'learning_rate': 0.005887594242631939, 'epoch': 8.22}\n",
      "{'loss': 0.659, 'learning_rate': 0.005202193283070596, 'epoch': 9.6}\n",
      "{'loss': 0.6556, 'learning_rate': 0.004516792323509253, 'epoch': 10.97}\n",
      "{'loss': 0.6531, 'learning_rate': 0.00383139136394791, 'epoch': 12.34}\n",
      "{'loss': 0.6525, 'learning_rate': 0.0031459904043865663, 'epoch': 13.71}\n",
      "{'loss': 0.648, 'learning_rate': 0.0024605894448252227, 'epoch': 15.08}\n",
      "{'loss': 0.6446, 'learning_rate': 0.0017751884852638795, 'epoch': 16.45}\n",
      "{'loss': 0.642, 'learning_rate': 0.001089787525702536, 'epoch': 17.82}\n",
      "{'loss': 0.6407, 'learning_rate': 0.0004043865661411926, 'epoch': 19.19}\n",
      "{'train_runtime': 450.2274, 'train_samples_per_second': 324.058, 'epoch': 20.0}\n",
      "Finished round {'eval_loss': 0.6809549927711487, 'eval_macro_f1': 0.5934975271882068, 'eval_micro_f1': 0.5996775550259358, 'eval_pos_f1': 0.5433757096026225, 'eval_accuracy': 0.5996775550259358, 'eval_runtime': 2.1381, 'eval_samples_per_second': 6672.134}\n",
      "{'loss': 0.6756, 'learning_rate': 0.009316846563738216, 'epoch': 1.37}\n",
      "{'loss': 0.6683, 'learning_rate': 0.008633693127476432, 'epoch': 2.73}\n",
      "{'loss': 0.6675, 'learning_rate': 0.007950539691214646, 'epoch': 4.1}\n",
      "{'loss': 0.6662, 'learning_rate': 0.0072673862549528625, 'epoch': 5.47}\n",
      "{'loss': 0.6645, 'learning_rate': 0.006584232818691078, 'epoch': 6.83}\n",
      "{'loss': 0.662, 'learning_rate': 0.005901079382429294, 'epoch': 8.2}\n",
      "{'loss': 0.6613, 'learning_rate': 0.005217925946167509, 'epoch': 9.56}\n",
      "{'loss': 0.6575, 'learning_rate': 0.004534772509905725, 'epoch': 10.93}\n",
      "{'loss': 0.6543, 'learning_rate': 0.0038516190736439405, 'epoch': 12.3}\n",
      "{'loss': 0.6535, 'learning_rate': 0.0031684656373821563, 'epoch': 13.66}\n",
      "{'loss': 0.6493, 'learning_rate': 0.0024853122011203716, 'epoch': 15.03}\n",
      "{'loss': 0.6457, 'learning_rate': 0.0018021587648585872, 'epoch': 16.4}\n",
      "{'loss': 0.6449, 'learning_rate': 0.001119005328596803, 'epoch': 17.76}\n",
      "{'loss': 0.6407, 'learning_rate': 0.0004358518923350185, 'epoch': 19.13}\n",
      "{'train_runtime': 450.9917, 'train_samples_per_second': 324.574, 'epoch': 20.0}\n",
      "Finished round {'eval_loss': 0.6672826409339905, 'eval_macro_f1': 0.605108012251487, 'eval_micro_f1': 0.6112966252220249, 'eval_pos_f1': 0.5556728660765045, 'eval_accuracy': 0.6112966252220249, 'eval_runtime': 2.1039, 'eval_samples_per_second': 6689.904}\n",
      "{'loss': 0.6755, 'learning_rate': 0.009312147475581236, 'epoch': 1.38}\n",
      "{'loss': 0.6683, 'learning_rate': 0.008624294951162471, 'epoch': 2.75}\n",
      "{'loss': 0.6667, 'learning_rate': 0.007936442426743706, 'epoch': 4.13}\n",
      "{'loss': 0.6658, 'learning_rate': 0.007248589902324941, 'epoch': 5.5}\n",
      "{'loss': 0.664, 'learning_rate': 0.006560737377906177, 'epoch': 6.88}\n",
      "{'loss': 0.6617, 'learning_rate': 0.005872884853487413, 'epoch': 8.25}\n",
      "{'loss': 0.6583, 'learning_rate': 0.005185032329068647, 'epoch': 9.63}\n",
      "{'loss': 0.6581, 'learning_rate': 0.004497179804649883, 'epoch': 11.01}\n",
      "{'loss': 0.6538, 'learning_rate': 0.0038093272802311186, 'epoch': 12.38}\n",
      "{'loss': 0.6516, 'learning_rate': 0.003121474755812354, 'epoch': 13.76}\n",
      "{'loss': 0.6494, 'learning_rate': 0.0024336222313935895, 'epoch': 15.13}\n",
      "{'loss': 0.6455, 'learning_rate': 0.0017457697069748247, 'epoch': 16.51}\n",
      "{'loss': 0.643, 'learning_rate': 0.0010579171825560601, 'epoch': 17.88}\n",
      "{'loss': 0.6407, 'learning_rate': 0.0003700646581372954, 'epoch': 19.26}\n",
      "{'train_runtime': 449.9204, 'train_samples_per_second': 323.124, 'epoch': 20.0}\n",
      "Finished round {'eval_loss': 0.6703154444694519, 'eval_macro_f1': 0.6097764175594329, 'eval_micro_f1': 0.6159480375898286, 'eval_pos_f1': 0.5607018653177364, 'eval_accuracy': 0.6159480375898286, 'eval_runtime': 2.2627, 'eval_samples_per_second': 6395.918}\n",
      "{'loss': 0.6837, 'learning_rate': 0.0093081499930815, 'epoch': 1.38}\n",
      "{'loss': 0.671, 'learning_rate': 0.008616299986163, 'epoch': 2.77}\n",
      "{'loss': 0.6704, 'learning_rate': 0.0079244499792445, 'epoch': 4.15}\n",
      "{'loss': 0.6677, 'learning_rate': 0.007232599972325999, 'epoch': 5.53}\n",
      "{'loss': 0.667, 'learning_rate': 0.0065407499654075, 'epoch': 6.92}\n",
      "{'loss': 0.6625, 'learning_rate': 0.005848899958489, 'epoch': 8.3}\n",
      "{'loss': 0.6624, 'learning_rate': 0.005157049951570499, 'epoch': 9.69}\n",
      "{'loss': 0.659, 'learning_rate': 0.004465199944651999, 'epoch': 11.07}\n",
      "{'loss': 0.6574, 'learning_rate': 0.0037733499377334994, 'epoch': 12.45}\n",
      "{'loss': 0.6543, 'learning_rate': 0.0030814999308149994, 'epoch': 13.84}\n",
      "{'loss': 0.6515, 'learning_rate': 0.002389649923896499, 'epoch': 15.22}\n",
      "{'loss': 0.6479, 'learning_rate': 0.0016977999169779992, 'epoch': 16.6}\n",
      "{'loss': 0.6468, 'learning_rate': 0.0010059499100594992, 'epoch': 17.99}\n",
      "{'loss': 0.6423, 'learning_rate': 0.00031409990314099903, 'epoch': 19.37}\n",
      "{'train_runtime': 445.2297, 'train_samples_per_second': 324.641, 'epoch': 20.0}\n",
      "Finished round {'eval_loss': 0.6558496356010437, 'eval_macro_f1': 0.6216039355569205, 'eval_micro_f1': 0.6270087778528022, 'eval_pos_f1': 0.5763803680981595, 'eval_accuracy': 0.6270087778528022, 'eval_runtime': 2.2358, 'eval_samples_per_second': 6623.949}\n",
      "{'loss': 0.6796, 'learning_rate': 0.009305844786894349, 'epoch': 1.39}\n",
      "{'loss': 0.6661, 'learning_rate': 0.0086116895737887, 'epoch': 2.78}\n",
      "{'loss': 0.6639, 'learning_rate': 0.007917534360683048, 'epoch': 4.16}\n",
      "{'loss': 0.6644, 'learning_rate': 0.007223379147577398, 'epoch': 5.55}\n",
      "{'loss': 0.662, 'learning_rate': 0.006529223934471749, 'epoch': 6.94}\n",
      "{'loss': 0.6588, 'learning_rate': 0.005835068721366098, 'epoch': 8.33}\n",
      "{'loss': 0.6578, 'learning_rate': 0.005140913508260447, 'epoch': 9.72}\n",
      "{'loss': 0.6556, 'learning_rate': 0.004446758295154797, 'epoch': 11.11}\n",
      "{'loss': 0.6526, 'learning_rate': 0.0037526030820491463, 'epoch': 12.49}\n",
      "{'loss': 0.6502, 'learning_rate': 0.003058447868943496, 'epoch': 13.88}\n",
      "{'loss': 0.6479, 'learning_rate': 0.0023642926558378454, 'epoch': 15.27}\n",
      "{'loss': 0.6429, 'learning_rate': 0.001670137442732195, 'epoch': 16.66}\n",
      "{'loss': 0.6424, 'learning_rate': 0.0009759822296265446, 'epoch': 18.05}\n",
      "{'loss': 0.6383, 'learning_rate': 0.0002818270165208941, 'epoch': 19.44}\n"
     ]
    },
    {
     "name": "stdout",
     "output_type": "stream",
     "text": [
      "{'train_runtime': 444.7286, 'train_samples_per_second': 323.928, 'epoch': 20.0}\n",
      "Finished round {'eval_loss': 0.6830961108207703, 'eval_macro_f1': 0.5963158734020317, 'eval_micro_f1': 0.6027205441088218, 'eval_pos_f1': 0.5454684162343606, 'eval_accuracy': 0.6027205441088218, 'eval_runtime': 2.372, 'eval_samples_per_second': 6322.612}\n",
      "{'loss': 0.6603, 'learning_rate': 0.004657299520219329, 'epoch': 1.37}\n",
      "{'loss': 0.6478, 'learning_rate': 0.0043145990404386565, 'epoch': 2.74}\n",
      "{'loss': 0.6462, 'learning_rate': 0.003971898560657985, 'epoch': 4.11}\n",
      "{'loss': 0.6431, 'learning_rate': 0.0036291980808773132, 'epoch': 5.48}\n",
      "{'loss': 0.6464, 'learning_rate': 0.003286497601096642, 'epoch': 6.85}\n",
      "{'loss': 0.6441, 'learning_rate': 0.0029437971213159696, 'epoch': 8.22}\n",
      "{'loss': 0.6441, 'learning_rate': 0.002601096641535298, 'epoch': 9.6}\n",
      "{'loss': 0.6423, 'learning_rate': 0.0022583961617546264, 'epoch': 10.97}\n",
      "{'loss': 0.6414, 'learning_rate': 0.001915695681973955, 'epoch': 12.34}\n",
      "{'loss': 0.6421, 'learning_rate': 0.0015729952021932832, 'epoch': 13.71}\n",
      "{'loss': 0.6394, 'learning_rate': 0.0012302947224126113, 'epoch': 15.08}\n",
      "{'loss': 0.6375, 'learning_rate': 0.0008875942426319397, 'epoch': 16.45}\n",
      "{'loss': 0.6365, 'learning_rate': 0.000544893762851268, 'epoch': 17.82}\n",
      "{'loss': 0.6369, 'learning_rate': 0.0002021932830705963, 'epoch': 19.19}\n",
      "{'train_runtime': 451.6187, 'train_samples_per_second': 323.06, 'epoch': 20.0}\n",
      "Finished round {'eval_loss': 0.6786543726921082, 'eval_macro_f1': 0.5940384227306315, 'eval_micro_f1': 0.6002383288938735, 'eval_pos_f1': 0.5438694713268816, 'eval_accuracy': 0.6002383288938735, 'eval_runtime': 2.2316, 'eval_samples_per_second': 6392.74}\n",
      "{'loss': 0.6623, 'learning_rate': 0.004658423281869108, 'epoch': 1.37}\n",
      "{'loss': 0.6498, 'learning_rate': 0.004316846563738216, 'epoch': 2.73}\n",
      "{'loss': 0.648, 'learning_rate': 0.003975269845607323, 'epoch': 4.1}\n",
      "{'loss': 0.6476, 'learning_rate': 0.0036336931274764312, 'epoch': 5.47}\n",
      "{'loss': 0.6463, 'learning_rate': 0.003292116409345539, 'epoch': 6.83}\n",
      "{'loss': 0.646, 'learning_rate': 0.002950539691214647, 'epoch': 8.2}\n",
      "{'loss': 0.6467, 'learning_rate': 0.0026089629730837545, 'epoch': 9.56}\n",
      "{'loss': 0.6441, 'learning_rate': 0.0022673862549528623, 'epoch': 10.93}\n",
      "{'loss': 0.6428, 'learning_rate': 0.0019258095368219702, 'epoch': 12.3}\n",
      "{'loss': 0.6437, 'learning_rate': 0.0015842328186910781, 'epoch': 13.66}\n",
      "{'loss': 0.6406, 'learning_rate': 0.0012426561005601858, 'epoch': 15.03}\n",
      "{'loss': 0.6391, 'learning_rate': 0.0009010793824292936, 'epoch': 16.4}\n",
      "{'loss': 0.6393, 'learning_rate': 0.0005595026642984015, 'epoch': 17.76}\n",
      "{'loss': 0.6368, 'learning_rate': 0.00021792594616750925, 'epoch': 19.13}\n",
      "{'train_runtime': 450.2994, 'train_samples_per_second': 325.073, 'epoch': 20.0}\n",
      "Finished round {'eval_loss': 0.6647276878356934, 'eval_macro_f1': 0.6025160737457549, 'eval_micro_f1': 0.6089520426287744, 'eval_pos_f1': 0.551937479648323, 'eval_accuracy': 0.6089520426287744, 'eval_runtime': 2.0992, 'eval_samples_per_second': 6705.017}\n",
      "{'loss': 0.6623, 'learning_rate': 0.004656073737790618, 'epoch': 1.38}\n",
      "{'loss': 0.6494, 'learning_rate': 0.0043121474755812355, 'epoch': 2.75}\n",
      "{'loss': 0.6472, 'learning_rate': 0.003968221213371853, 'epoch': 4.13}\n",
      "{'loss': 0.6469, 'learning_rate': 0.0036242949511624705, 'epoch': 5.5}\n"
     ]
    }
   ],
   "source": [
    "train_arguments = {}\n",
    "for C in [1e-4, 1e-5, 1e-6]:\n",
    "    for reg_type in ['l1', 'l2']:\n",
    "        for learning_rate in [0.1, 0.01, 0.005]:\n",
    "            with open('log_file', 'a') as log_file:\n",
    "                log_file.write(f\"Starting {(C, reg_type, learning_rate)}\\n\")\n",
    "            model_arguments['C'] = C\n",
    "            model_arguments['reg_type'] = reg_type\n",
    "            train_arguments['learning_rate'] = learning_rate\n",
    "            train_arguments['num_train_epochs'] = 20\n",
    "            results = run_full_cv(style_data, model_cls, model_arguments, train_arguments, averaged=True)\n",
    "            \n",
    "            final_results[(C, reg_type, learning_rate)] = results\n",
    "            with open('log_file', 'a') as log_file:\n",
    "                log_file.write(f\"Results {str(results)}\\n\\n\")\n",
    "                "
   ]
  },
  {
   "cell_type": "code",
   "execution_count": 78,
   "metadata": {},
   "outputs": [
    {
     "data": {
      "text/plain": [
       "0.6127768908055097"
      ]
     },
     "execution_count": 78,
     "metadata": {},
     "output_type": "execute_result"
    }
   ],
   "source": [
    "max(v['eval_accuracy'] for v in final_results.values())"
   ]
  },
  {
   "cell_type": "markdown",
   "metadata": {},
   "source": [
    "# Style Data and Speaker Issues"
   ]
  },
  {
   "cell_type": "code",
   "execution_count": 56,
   "metadata": {},
   "outputs": [],
   "source": [
    "style_data = create_full_data(feature_types=['style_quality_scaled', 'issues_speaker'], label_type='bin_points')"
   ]
  },
  {
   "cell_type": "code",
   "execution_count": 63,
   "metadata": {},
   "outputs": [
    {
     "data": {
      "text/plain": [
       "181"
      ]
     },
     "execution_count": 63,
     "metadata": {},
     "output_type": "execute_result"
    }
   ],
   "source": [
    "len(style_data.iloc[0].feats)"
   ]
  },
  {
   "cell_type": "code",
   "execution_count": 57,
   "metadata": {},
   "outputs": [],
   "source": [
    "final_results_v2 = {}"
   ]
  },
  {
   "cell_type": "code",
   "execution_count": 64,
   "metadata": {},
   "outputs": [],
   "source": [
    "\n",
    "D_in = len(style_data.iloc[0].feats)\n",
    "num_users = style_data.user_id.nunique()\n",
    "model_arguments = {'D_in': D_in, 'num_users': num_users, 'use_popularity': True}\n"
   ]
  },
  {
   "cell_type": "code",
   "execution_count": 65,
   "metadata": {},
   "outputs": [],
   "source": [
    "model_cls = IdealNet"
   ]
  },
  {
   "cell_type": "code",
   "execution_count": null,
   "metadata": {},
   "outputs": [],
   "source": []
  },
  {
   "cell_type": "code",
   "execution_count": 61,
   "metadata": {},
   "outputs": [
    {
     "name": "stdout",
     "output_type": "stream",
     "text": [
      "{'train_runtime': 442.3947, 'train_samples_per_second': 329.796, 'epoch': 20.0}\n",
      "Finished round {'eval_loss': 0.6900224089622498, 'eval_macro_f1': 0.6092049021999189, 'eval_micro_f1': 0.6092107107808776, 'eval_pos_f1': 0.6076982619097882, 'eval_accuracy': 0.6092107107808776, 'eval_runtime': 2.3229, 'eval_samples_per_second': 6141.387}\n",
      "{'train_runtime': 443.634, 'train_samples_per_second': 329.957, 'epoch': 20.0}\n",
      "Finished round {'eval_loss': 0.6941145658493042, 'eval_macro_f1': 0.6127616009191447, 'eval_micro_f1': 0.6128596802841918, 'eval_pos_f1': 0.6189244003077139, 'eval_accuracy': 0.6128596802841918, 'eval_runtime': 2.1969, 'eval_samples_per_second': 6406.648}\n"
     ]
    },
    {
     "ename": "KeyboardInterrupt",
     "evalue": "",
     "output_type": "error",
     "traceback": [
      "\u001b[0;31m---------------------------------------------------------------------------\u001b[0m",
      "\u001b[0;31mKeyboardInterrupt\u001b[0m                         Traceback (most recent call last)",
      "\u001b[0;32m<ipython-input-61-869b01b569be>\u001b[0m in \u001b[0;36m<module>\u001b[0;34m\u001b[0m\n\u001b[1;32m      9\u001b[0m             \u001b[0mtrain_arguments\u001b[0m\u001b[0;34m[\u001b[0m\u001b[0;34m'learning_rate'\u001b[0m\u001b[0;34m]\u001b[0m \u001b[0;34m=\u001b[0m \u001b[0mlearning_rate\u001b[0m\u001b[0;34m\u001b[0m\u001b[0;34m\u001b[0m\u001b[0m\n\u001b[1;32m     10\u001b[0m             \u001b[0mtrain_arguments\u001b[0m\u001b[0;34m[\u001b[0m\u001b[0;34m'num_train_epochs'\u001b[0m\u001b[0;34m]\u001b[0m \u001b[0;34m=\u001b[0m \u001b[0;36m20\u001b[0m\u001b[0;34m\u001b[0m\u001b[0;34m\u001b[0m\u001b[0m\n\u001b[0;32m---> 11\u001b[0;31m             \u001b[0mresults\u001b[0m \u001b[0;34m=\u001b[0m \u001b[0mrun_full_cv\u001b[0m\u001b[0;34m(\u001b[0m\u001b[0mstyle_data\u001b[0m\u001b[0;34m,\u001b[0m \u001b[0mmodel_cls\u001b[0m\u001b[0;34m,\u001b[0m \u001b[0mmodel_arguments\u001b[0m\u001b[0;34m,\u001b[0m \u001b[0mtrain_arguments\u001b[0m\u001b[0;34m,\u001b[0m \u001b[0maveraged\u001b[0m\u001b[0;34m=\u001b[0m\u001b[0;32mTrue\u001b[0m\u001b[0;34m)\u001b[0m\u001b[0;34m\u001b[0m\u001b[0;34m\u001b[0m\u001b[0m\n\u001b[0m\u001b[1;32m     12\u001b[0m \u001b[0;34m\u001b[0m\u001b[0m\n\u001b[1;32m     13\u001b[0m             \u001b[0mfinal_results_v2\u001b[0m\u001b[0;34m[\u001b[0m\u001b[0;34m(\u001b[0m\u001b[0mC\u001b[0m\u001b[0;34m,\u001b[0m \u001b[0mreg_type\u001b[0m\u001b[0;34m,\u001b[0m \u001b[0mlearning_rate\u001b[0m\u001b[0;34m)\u001b[0m\u001b[0;34m]\u001b[0m \u001b[0;34m=\u001b[0m \u001b[0mresults\u001b[0m\u001b[0;34m\u001b[0m\u001b[0;34m\u001b[0m\u001b[0m\n",
      "\u001b[0;32m~/SageMaker/DS-Argument-Research/AdvocacyProject/lib/helpers.py\u001b[0m in \u001b[0;36mrun_full_cv\u001b[0;34m(data, model_class, model_args, training_args, averaged)\u001b[0m\n\u001b[1;32m     44\u001b[0m         \u001b[0mtrainer\u001b[0m \u001b[0;34m=\u001b[0m \u001b[0mTrainer\u001b[0m\u001b[0;34m(\u001b[0m\u001b[0mmodel\u001b[0m\u001b[0;34m=\u001b[0m\u001b[0mmodel\u001b[0m\u001b[0;34m,\u001b[0m \u001b[0mtrain_dataset\u001b[0m\u001b[0;34m=\u001b[0m\u001b[0mtrain_data\u001b[0m\u001b[0;34m,\u001b[0m \u001b[0meval_dataset\u001b[0m\u001b[0;34m=\u001b[0m\u001b[0mtest_data\u001b[0m\u001b[0;34m,\u001b[0m \u001b[0mcompute_metrics\u001b[0m\u001b[0;34m=\u001b[0m\u001b[0mdo_metrics\u001b[0m\u001b[0;34m,\u001b[0m \u001b[0margs\u001b[0m\u001b[0;34m=\u001b[0m\u001b[0margs\u001b[0m\u001b[0;34m)\u001b[0m\u001b[0;34m\u001b[0m\u001b[0;34m\u001b[0m\u001b[0m\n\u001b[1;32m     45\u001b[0m \u001b[0;34m\u001b[0m\u001b[0m\n\u001b[0;32m---> 46\u001b[0;31m         \u001b[0mtrainer\u001b[0m\u001b[0;34m.\u001b[0m\u001b[0mtrain\u001b[0m\u001b[0;34m(\u001b[0m\u001b[0;34m)\u001b[0m\u001b[0;34m\u001b[0m\u001b[0;34m\u001b[0m\u001b[0m\n\u001b[0m\u001b[1;32m     47\u001b[0m \u001b[0;34m\u001b[0m\u001b[0m\n\u001b[1;32m     48\u001b[0m         \u001b[0mres\u001b[0m \u001b[0;34m=\u001b[0m \u001b[0mtrainer\u001b[0m\u001b[0;34m.\u001b[0m\u001b[0mpredict\u001b[0m\u001b[0;34m(\u001b[0m\u001b[0mtest_data\u001b[0m\u001b[0;34m)\u001b[0m\u001b[0;34m\u001b[0m\u001b[0;34m\u001b[0m\u001b[0m\n",
      "\u001b[0;32m~/anaconda3/envs/pytorch_p36/lib/python3.6/site-packages/transformers/trainer.py\u001b[0m in \u001b[0;36mtrain\u001b[0;34m(self, resume_from_checkpoint, trial, **kwargs)\u001b[0m\n\u001b[1;32m    938\u001b[0m                         \u001b[0mtr_loss\u001b[0m \u001b[0;34m+=\u001b[0m \u001b[0mself\u001b[0m\u001b[0;34m.\u001b[0m\u001b[0mtraining_step\u001b[0m\u001b[0;34m(\u001b[0m\u001b[0mmodel\u001b[0m\u001b[0;34m,\u001b[0m \u001b[0minputs\u001b[0m\u001b[0;34m)\u001b[0m\u001b[0;34m\u001b[0m\u001b[0;34m\u001b[0m\u001b[0m\n\u001b[1;32m    939\u001b[0m                 \u001b[0;32melse\u001b[0m\u001b[0;34m:\u001b[0m\u001b[0;34m\u001b[0m\u001b[0;34m\u001b[0m\u001b[0m\n\u001b[0;32m--> 940\u001b[0;31m                     \u001b[0mtr_loss\u001b[0m \u001b[0;34m+=\u001b[0m \u001b[0mself\u001b[0m\u001b[0;34m.\u001b[0m\u001b[0mtraining_step\u001b[0m\u001b[0;34m(\u001b[0m\u001b[0mmodel\u001b[0m\u001b[0;34m,\u001b[0m \u001b[0minputs\u001b[0m\u001b[0;34m)\u001b[0m\u001b[0;34m\u001b[0m\u001b[0;34m\u001b[0m\u001b[0m\n\u001b[0m\u001b[1;32m    941\u001b[0m                 \u001b[0mself\u001b[0m\u001b[0;34m.\u001b[0m\u001b[0m_total_flos\u001b[0m \u001b[0;34m+=\u001b[0m \u001b[0mself\u001b[0m\u001b[0;34m.\u001b[0m\u001b[0mfloating_point_ops\u001b[0m\u001b[0;34m(\u001b[0m\u001b[0minputs\u001b[0m\u001b[0;34m)\u001b[0m\u001b[0;34m\u001b[0m\u001b[0;34m\u001b[0m\u001b[0m\n\u001b[1;32m    942\u001b[0m \u001b[0;34m\u001b[0m\u001b[0m\n",
      "\u001b[0;32m~/anaconda3/envs/pytorch_p36/lib/python3.6/site-packages/transformers/trainer.py\u001b[0m in \u001b[0;36mtraining_step\u001b[0;34m(self, model, inputs)\u001b[0m\n\u001b[1;32m   1302\u001b[0m                 \u001b[0mloss\u001b[0m \u001b[0;34m=\u001b[0m \u001b[0mself\u001b[0m\u001b[0;34m.\u001b[0m\u001b[0mcompute_loss\u001b[0m\u001b[0;34m(\u001b[0m\u001b[0mmodel\u001b[0m\u001b[0;34m,\u001b[0m \u001b[0minputs\u001b[0m\u001b[0;34m)\u001b[0m\u001b[0;34m\u001b[0m\u001b[0;34m\u001b[0m\u001b[0m\n\u001b[1;32m   1303\u001b[0m         \u001b[0;32melse\u001b[0m\u001b[0;34m:\u001b[0m\u001b[0;34m\u001b[0m\u001b[0;34m\u001b[0m\u001b[0m\n\u001b[0;32m-> 1304\u001b[0;31m             \u001b[0mloss\u001b[0m \u001b[0;34m=\u001b[0m \u001b[0mself\u001b[0m\u001b[0;34m.\u001b[0m\u001b[0mcompute_loss\u001b[0m\u001b[0;34m(\u001b[0m\u001b[0mmodel\u001b[0m\u001b[0;34m,\u001b[0m \u001b[0minputs\u001b[0m\u001b[0;34m)\u001b[0m\u001b[0;34m\u001b[0m\u001b[0;34m\u001b[0m\u001b[0m\n\u001b[0m\u001b[1;32m   1305\u001b[0m \u001b[0;34m\u001b[0m\u001b[0m\n\u001b[1;32m   1306\u001b[0m         \u001b[0;32mif\u001b[0m \u001b[0mself\u001b[0m\u001b[0;34m.\u001b[0m\u001b[0margs\u001b[0m\u001b[0;34m.\u001b[0m\u001b[0mn_gpu\u001b[0m \u001b[0;34m>\u001b[0m \u001b[0;36m1\u001b[0m\u001b[0;34m:\u001b[0m\u001b[0;34m\u001b[0m\u001b[0;34m\u001b[0m\u001b[0m\n",
      "\u001b[0;32m~/anaconda3/envs/pytorch_p36/lib/python3.6/site-packages/transformers/trainer.py\u001b[0m in \u001b[0;36mcompute_loss\u001b[0;34m(self, model, inputs, return_outputs)\u001b[0m\n\u001b[1;32m   1332\u001b[0m         \u001b[0;32melse\u001b[0m\u001b[0;34m:\u001b[0m\u001b[0;34m\u001b[0m\u001b[0;34m\u001b[0m\u001b[0m\n\u001b[1;32m   1333\u001b[0m             \u001b[0mlabels\u001b[0m \u001b[0;34m=\u001b[0m \u001b[0;32mNone\u001b[0m\u001b[0;34m\u001b[0m\u001b[0;34m\u001b[0m\u001b[0m\n\u001b[0;32m-> 1334\u001b[0;31m         \u001b[0moutputs\u001b[0m \u001b[0;34m=\u001b[0m \u001b[0mmodel\u001b[0m\u001b[0;34m(\u001b[0m\u001b[0;34m**\u001b[0m\u001b[0minputs\u001b[0m\u001b[0;34m)\u001b[0m\u001b[0;34m\u001b[0m\u001b[0;34m\u001b[0m\u001b[0m\n\u001b[0m\u001b[1;32m   1335\u001b[0m         \u001b[0;31m# Save past state if it exists\u001b[0m\u001b[0;34m\u001b[0m\u001b[0;34m\u001b[0m\u001b[0;34m\u001b[0m\u001b[0m\n\u001b[1;32m   1336\u001b[0m         \u001b[0;31m# TODO: this needs to be fixed and made cleaner later.\u001b[0m\u001b[0;34m\u001b[0m\u001b[0;34m\u001b[0m\u001b[0;34m\u001b[0m\u001b[0m\n",
      "\u001b[0;32m~/anaconda3/envs/pytorch_p36/lib/python3.6/site-packages/torch/nn/modules/module.py\u001b[0m in \u001b[0;36m__call__\u001b[0;34m(self, *input, **kwargs)\u001b[0m\n\u001b[1;32m    530\u001b[0m             \u001b[0mresult\u001b[0m \u001b[0;34m=\u001b[0m \u001b[0mself\u001b[0m\u001b[0;34m.\u001b[0m\u001b[0m_slow_forward\u001b[0m\u001b[0;34m(\u001b[0m\u001b[0;34m*\u001b[0m\u001b[0minput\u001b[0m\u001b[0;34m,\u001b[0m \u001b[0;34m**\u001b[0m\u001b[0mkwargs\u001b[0m\u001b[0;34m)\u001b[0m\u001b[0;34m\u001b[0m\u001b[0;34m\u001b[0m\u001b[0m\n\u001b[1;32m    531\u001b[0m         \u001b[0;32melse\u001b[0m\u001b[0;34m:\u001b[0m\u001b[0;34m\u001b[0m\u001b[0;34m\u001b[0m\u001b[0m\n\u001b[0;32m--> 532\u001b[0;31m             \u001b[0mresult\u001b[0m \u001b[0;34m=\u001b[0m \u001b[0mself\u001b[0m\u001b[0;34m.\u001b[0m\u001b[0mforward\u001b[0m\u001b[0;34m(\u001b[0m\u001b[0;34m*\u001b[0m\u001b[0minput\u001b[0m\u001b[0;34m,\u001b[0m \u001b[0;34m**\u001b[0m\u001b[0mkwargs\u001b[0m\u001b[0;34m)\u001b[0m\u001b[0;34m\u001b[0m\u001b[0;34m\u001b[0m\u001b[0m\n\u001b[0m\u001b[1;32m    533\u001b[0m         \u001b[0;32mfor\u001b[0m \u001b[0mhook\u001b[0m \u001b[0;32min\u001b[0m \u001b[0mself\u001b[0m\u001b[0;34m.\u001b[0m\u001b[0m_forward_hooks\u001b[0m\u001b[0;34m.\u001b[0m\u001b[0mvalues\u001b[0m\u001b[0;34m(\u001b[0m\u001b[0;34m)\u001b[0m\u001b[0;34m:\u001b[0m\u001b[0;34m\u001b[0m\u001b[0;34m\u001b[0m\u001b[0m\n\u001b[1;32m    534\u001b[0m             \u001b[0mhook_result\u001b[0m \u001b[0;34m=\u001b[0m \u001b[0mhook\u001b[0m\u001b[0;34m(\u001b[0m\u001b[0mself\u001b[0m\u001b[0;34m,\u001b[0m \u001b[0minput\u001b[0m\u001b[0;34m,\u001b[0m \u001b[0mresult\u001b[0m\u001b[0;34m)\u001b[0m\u001b[0;34m\u001b[0m\u001b[0;34m\u001b[0m\u001b[0m\n",
      "\u001b[0;32m~/SageMaker/DS-Argument-Research/AdvocacyProject/lib/models.py\u001b[0m in \u001b[0;36mforward\u001b[0;34m(self, feats, user_id, labels, doc_id)\u001b[0m\n\u001b[1;32m    103\u001b[0m             \u001b[0mloss_fct\u001b[0m \u001b[0;34m=\u001b[0m \u001b[0mtorch\u001b[0m\u001b[0;34m.\u001b[0m\u001b[0mnn\u001b[0m\u001b[0;34m.\u001b[0m\u001b[0mBCELoss\u001b[0m\u001b[0;34m(\u001b[0m\u001b[0;34m)\u001b[0m\u001b[0;34m\u001b[0m\u001b[0;34m\u001b[0m\u001b[0m\n\u001b[1;32m    104\u001b[0m \u001b[0;34m\u001b[0m\u001b[0m\n\u001b[0;32m--> 105\u001b[0;31m             \u001b[0mloss\u001b[0m \u001b[0;34m=\u001b[0m \u001b[0mloss_fct\u001b[0m\u001b[0;34m(\u001b[0m\u001b[0my_pred\u001b[0m\u001b[0;34m.\u001b[0m\u001b[0mreshape\u001b[0m\u001b[0;34m(\u001b[0m\u001b[0;34m-\u001b[0m\u001b[0;36m1\u001b[0m\u001b[0;34m)\u001b[0m\u001b[0;34m,\u001b[0m \u001b[0mlabels\u001b[0m\u001b[0;34m.\u001b[0m\u001b[0mfloat\u001b[0m\u001b[0;34m(\u001b[0m\u001b[0;34m)\u001b[0m\u001b[0;34m)\u001b[0m\u001b[0;34m\u001b[0m\u001b[0;34m\u001b[0m\u001b[0m\n\u001b[0m\u001b[1;32m    106\u001b[0m \u001b[0;34m\u001b[0m\u001b[0m\n\u001b[1;32m    107\u001b[0m             \u001b[0;31m# Regularization\u001b[0m\u001b[0;34m\u001b[0m\u001b[0;34m\u001b[0m\u001b[0;34m\u001b[0m\u001b[0m\n",
      "\u001b[0;32m~/anaconda3/envs/pytorch_p36/lib/python3.6/site-packages/torch/nn/modules/module.py\u001b[0m in \u001b[0;36m__call__\u001b[0;34m(self, *input, **kwargs)\u001b[0m\n\u001b[1;32m    530\u001b[0m             \u001b[0mresult\u001b[0m \u001b[0;34m=\u001b[0m \u001b[0mself\u001b[0m\u001b[0;34m.\u001b[0m\u001b[0m_slow_forward\u001b[0m\u001b[0;34m(\u001b[0m\u001b[0;34m*\u001b[0m\u001b[0minput\u001b[0m\u001b[0;34m,\u001b[0m \u001b[0;34m**\u001b[0m\u001b[0mkwargs\u001b[0m\u001b[0;34m)\u001b[0m\u001b[0;34m\u001b[0m\u001b[0;34m\u001b[0m\u001b[0m\n\u001b[1;32m    531\u001b[0m         \u001b[0;32melse\u001b[0m\u001b[0;34m:\u001b[0m\u001b[0;34m\u001b[0m\u001b[0;34m\u001b[0m\u001b[0m\n\u001b[0;32m--> 532\u001b[0;31m             \u001b[0mresult\u001b[0m \u001b[0;34m=\u001b[0m \u001b[0mself\u001b[0m\u001b[0;34m.\u001b[0m\u001b[0mforward\u001b[0m\u001b[0;34m(\u001b[0m\u001b[0;34m*\u001b[0m\u001b[0minput\u001b[0m\u001b[0;34m,\u001b[0m \u001b[0;34m**\u001b[0m\u001b[0mkwargs\u001b[0m\u001b[0;34m)\u001b[0m\u001b[0;34m\u001b[0m\u001b[0;34m\u001b[0m\u001b[0m\n\u001b[0m\u001b[1;32m    533\u001b[0m         \u001b[0;32mfor\u001b[0m \u001b[0mhook\u001b[0m \u001b[0;32min\u001b[0m \u001b[0mself\u001b[0m\u001b[0;34m.\u001b[0m\u001b[0m_forward_hooks\u001b[0m\u001b[0;34m.\u001b[0m\u001b[0mvalues\u001b[0m\u001b[0;34m(\u001b[0m\u001b[0;34m)\u001b[0m\u001b[0;34m:\u001b[0m\u001b[0;34m\u001b[0m\u001b[0;34m\u001b[0m\u001b[0m\n\u001b[1;32m    534\u001b[0m             \u001b[0mhook_result\u001b[0m \u001b[0;34m=\u001b[0m \u001b[0mhook\u001b[0m\u001b[0;34m(\u001b[0m\u001b[0mself\u001b[0m\u001b[0;34m,\u001b[0m \u001b[0minput\u001b[0m\u001b[0;34m,\u001b[0m \u001b[0mresult\u001b[0m\u001b[0;34m)\u001b[0m\u001b[0;34m\u001b[0m\u001b[0;34m\u001b[0m\u001b[0m\n",
      "\u001b[0;32m~/anaconda3/envs/pytorch_p36/lib/python3.6/site-packages/torch/nn/modules/loss.py\u001b[0m in \u001b[0;36mforward\u001b[0;34m(self, input, target)\u001b[0m\n\u001b[1;32m    496\u001b[0m \u001b[0;34m\u001b[0m\u001b[0m\n\u001b[1;32m    497\u001b[0m     \u001b[0;32mdef\u001b[0m \u001b[0mforward\u001b[0m\u001b[0;34m(\u001b[0m\u001b[0mself\u001b[0m\u001b[0;34m,\u001b[0m \u001b[0minput\u001b[0m\u001b[0;34m,\u001b[0m \u001b[0mtarget\u001b[0m\u001b[0;34m)\u001b[0m\u001b[0;34m:\u001b[0m\u001b[0;34m\u001b[0m\u001b[0;34m\u001b[0m\u001b[0m\n\u001b[0;32m--> 498\u001b[0;31m         \u001b[0;32mreturn\u001b[0m \u001b[0mF\u001b[0m\u001b[0;34m.\u001b[0m\u001b[0mbinary_cross_entropy\u001b[0m\u001b[0;34m(\u001b[0m\u001b[0minput\u001b[0m\u001b[0;34m,\u001b[0m \u001b[0mtarget\u001b[0m\u001b[0;34m,\u001b[0m \u001b[0mweight\u001b[0m\u001b[0;34m=\u001b[0m\u001b[0mself\u001b[0m\u001b[0;34m.\u001b[0m\u001b[0mweight\u001b[0m\u001b[0;34m,\u001b[0m \u001b[0mreduction\u001b[0m\u001b[0;34m=\u001b[0m\u001b[0mself\u001b[0m\u001b[0;34m.\u001b[0m\u001b[0mreduction\u001b[0m\u001b[0;34m)\u001b[0m\u001b[0;34m\u001b[0m\u001b[0;34m\u001b[0m\u001b[0m\n\u001b[0m\u001b[1;32m    499\u001b[0m \u001b[0;34m\u001b[0m\u001b[0m\n\u001b[1;32m    500\u001b[0m \u001b[0;34m\u001b[0m\u001b[0m\n",
      "\u001b[0;32m~/anaconda3/envs/pytorch_p36/lib/python3.6/site-packages/torch/nn/functional.py\u001b[0m in \u001b[0;36mbinary_cross_entropy\u001b[0;34m(input, target, weight, size_average, reduce, reduction)\u001b[0m\n\u001b[1;32m   2075\u001b[0m \u001b[0;34m\u001b[0m\u001b[0m\n\u001b[1;32m   2076\u001b[0m     return torch._C._nn.binary_cross_entropy(\n\u001b[0;32m-> 2077\u001b[0;31m         input, target, weight, reduction_enum)\n\u001b[0m\u001b[1;32m   2078\u001b[0m \u001b[0;34m\u001b[0m\u001b[0m\n\u001b[1;32m   2079\u001b[0m \u001b[0;34m\u001b[0m\u001b[0m\n",
      "\u001b[0;31mKeyboardInterrupt\u001b[0m: "
     ]
    }
   ],
   "source": [
    "train_arguments = {}\n",
    "for C in [1e-4, 1e-5, 1e-6]:\n",
    "    for reg_type in ['l1', 'l2']:\n",
    "        for learning_rate in [0.1, 0.01, 0.005]:\n",
    "            with open('log_file', 'a') as log_file:\n",
    "                log_file.write(f\"Starting {(C, reg_type, learning_rate)}\\n\")\n",
    "            model_arguments['C'] = C\n",
    "            model_arguments['reg_type'] = reg_type\n",
    "            train_arguments['learning_rate'] = learning_rate\n",
    "            train_arguments['num_train_epochs'] = 20\n",
    "            results = run_full_cv(style_data, model_cls, model_arguments, train_arguments, averaged=True)\n",
    "            \n",
    "            final_results_v2[(C, reg_type, learning_rate)] = results\n",
    "            with open('log_file', 'a') as log_file:\n",
    "                log_file.write(f\"Results {str(results)}\\n\\n\")\n",
    "                "
   ]
  },
  {
   "cell_type": "code",
   "execution_count": null,
   "metadata": {},
   "outputs": [],
   "source": [
    "import pickle\n",
    "pickle.dump(final_results_v2, open('debate_speaker_style.pkl', 'wb'))"
   ]
  },
  {
   "cell_type": "code",
   "execution_count": 72,
   "metadata": {},
   "outputs": [
    {
     "data": {
      "text/plain": [
       "{}"
      ]
     },
     "execution_count": 72,
     "metadata": {},
     "output_type": "execute_result"
    }
   ],
   "source": [
    "final_results_v2"
   ]
  },
  {
   "cell_type": "code",
   "execution_count": 71,
   "metadata": {},
   "outputs": [
    {
     "name": "stdout",
     "output_type": "stream",
     "text": [
      "{'loss': 0.7875, 'learning_rate': 0.009451679232350926, 'epoch': 1.37}\n",
      "{'loss': 0.7761, 'learning_rate': 0.00890335846470185, 'epoch': 2.74}\n",
      "{'loss': 0.7689, 'learning_rate': 0.008355037697052776, 'epoch': 4.11}\n",
      "{'loss': 0.7563, 'learning_rate': 0.007806716929403701, 'epoch': 5.48}\n",
      "{'loss': 0.752, 'learning_rate': 0.0072583961617546265, 'epoch': 6.85}\n",
      "{'loss': 0.7414, 'learning_rate': 0.006710075394105551, 'epoch': 8.22}\n",
      "{'loss': 0.7318, 'learning_rate': 0.006161754626456477, 'epoch': 9.6}\n",
      "{'loss': 0.7246, 'learning_rate': 0.005613433858807403, 'epoch': 10.97}\n",
      "{'loss': 0.7152, 'learning_rate': 0.005065113091158328, 'epoch': 12.34}\n",
      "{'loss': 0.71, 'learning_rate': 0.004516792323509253, 'epoch': 13.71}\n",
      "{'loss': 0.6985, 'learning_rate': 0.003968471555860178, 'epoch': 15.08}\n",
      "{'loss': 0.6913, 'learning_rate': 0.003420150788211104, 'epoch': 16.45}\n",
      "{'loss': 0.6844, 'learning_rate': 0.002871830020562029, 'epoch': 17.82}\n",
      "{'loss': 0.6753, 'learning_rate': 0.002323509252912954, 'epoch': 19.19}\n",
      "{'loss': 0.667, 'learning_rate': 0.0017751884852638795, 'epoch': 20.56}\n",
      "{'loss': 0.659, 'learning_rate': 0.0012268677176148046, 'epoch': 21.93}\n",
      "{'loss': 0.6492, 'learning_rate': 0.00067854694996573, 'epoch': 23.3}\n",
      "{'loss': 0.6437, 'learning_rate': 0.00013022618231665526, 'epoch': 24.67}\n",
      "{'train_runtime': 560.1297, 'train_samples_per_second': 325.594, 'epoch': 25.0}\n",
      "Finished round {'eval_loss': 0.6842078566551208, 'eval_macro_f1': 0.6120977295721499, 'eval_micro_f1': 0.6121547735875508, 'eval_pos_f1': 0.607393741573831, 'eval_accuracy': 0.6121547735875508, 'eval_runtime': 2.2263, 'eval_samples_per_second': 6407.878}\n",
      "{'loss': 0.7834, 'learning_rate': 0.009453477250990574, 'epoch': 1.37}\n",
      "{'loss': 0.7762, 'learning_rate': 0.008906954501981144, 'epoch': 2.73}\n",
      "{'loss': 0.7651, 'learning_rate': 0.008360431752971718, 'epoch': 4.1}\n",
      "{'loss': 0.759, 'learning_rate': 0.00781390900396229, 'epoch': 5.47}\n",
      "{'loss': 0.7507, 'learning_rate': 0.0072673862549528625, 'epoch': 6.83}\n",
      "{'loss': 0.74, 'learning_rate': 0.006720863505943435, 'epoch': 8.2}\n",
      "{'loss': 0.7349, 'learning_rate': 0.006174340756934007, 'epoch': 9.56}\n",
      "{'loss': 0.7259, 'learning_rate': 0.00562781800792458, 'epoch': 10.93}\n",
      "{'loss': 0.7146, 'learning_rate': 0.005081295258915153, 'epoch': 12.3}\n",
      "{'loss': 0.7092, 'learning_rate': 0.004534772509905725, 'epoch': 13.66}\n",
      "{'loss': 0.7002, 'learning_rate': 0.0039882497608962975, 'epoch': 15.03}\n",
      "{'loss': 0.6912, 'learning_rate': 0.00344172701188687, 'epoch': 16.4}\n",
      "{'loss': 0.6859, 'learning_rate': 0.002895204262877442, 'epoch': 17.76}\n",
      "{'loss': 0.6767, 'learning_rate': 0.002348681513868015, 'epoch': 19.13}\n",
      "{'loss': 0.6691, 'learning_rate': 0.0018021587648585872, 'epoch': 20.49}\n",
      "{'loss': 0.6616, 'learning_rate': 0.0012556360158491597, 'epoch': 21.86}\n",
      "{'loss': 0.6515, 'learning_rate': 0.0007091132668397322, 'epoch': 23.23}\n",
      "{'loss': 0.6437, 'learning_rate': 0.00016259051783030468, 'epoch': 24.59}\n",
      "{'train_runtime': 561.4776, 'train_samples_per_second': 325.881, 'epoch': 25.0}\n",
      "Finished round {'eval_loss': 0.6762385964393616, 'eval_macro_f1': 0.6218817611839729, 'eval_micro_f1': 0.6218827708703375, 'eval_pos_f1': 0.6224996453397645, 'eval_accuracy': 0.6218827708703375, 'eval_runtime': 2.2933, 'eval_samples_per_second': 6137.38}\n",
      "{'loss': 0.788, 'learning_rate': 0.009449717980464989, 'epoch': 1.38}\n",
      "{'loss': 0.7769, 'learning_rate': 0.008899435960929977, 'epoch': 2.75}\n",
      "{'loss': 0.7671, 'learning_rate': 0.008349153941394965, 'epoch': 4.13}\n",
      "{'loss': 0.7583, 'learning_rate': 0.007798871921859954, 'epoch': 5.5}\n",
      "{'loss': 0.7495, 'learning_rate': 0.007248589902324941, 'epoch': 6.88}\n",
      "{'loss': 0.74, 'learning_rate': 0.00669830788278993, 'epoch': 8.25}\n",
      "{'loss': 0.7327, 'learning_rate': 0.006148025863254918, 'epoch': 9.63}\n",
      "{'loss': 0.7239, 'learning_rate': 0.005597743843719907, 'epoch': 11.01}\n",
      "{'loss': 0.7163, 'learning_rate': 0.005047461824184894, 'epoch': 12.38}\n",
      "{'loss': 0.7079, 'learning_rate': 0.004497179804649883, 'epoch': 13.76}\n",
      "{'loss': 0.7001, 'learning_rate': 0.003946897785114871, 'epoch': 15.13}\n",
      "{'loss': 0.6909, 'learning_rate': 0.0033966157655798595, 'epoch': 16.51}\n",
      "{'loss': 0.6836, 'learning_rate': 0.002846333746044848, 'epoch': 17.88}\n",
      "{'loss': 0.6744, 'learning_rate': 0.002296051726509836, 'epoch': 19.26}\n",
      "{'loss': 0.6678, 'learning_rate': 0.0017457697069748247, 'epoch': 20.64}\n",
      "{'loss': 0.659, 'learning_rate': 0.001195487687439813, 'epoch': 22.01}\n",
      "{'loss': 0.649, 'learning_rate': 0.0006452056679048013, 'epoch': 23.39}\n",
      "{'loss': 0.6425, 'learning_rate': 9.492364836978951e-05, 'epoch': 24.76}\n",
      "{'train_runtime': 556.4548, 'train_samples_per_second': 326.576, 'epoch': 25.0}\n",
      "Finished round {'eval_loss': 0.680038332939148, 'eval_macro_f1': 0.6243516632196568, 'eval_micro_f1': 0.6245854063018242, 'eval_pos_f1': 0.6149812203245696, 'eval_accuracy': 0.6245854063018242, 'eval_runtime': 2.3555, 'eval_samples_per_second': 6143.906}\n",
      "{'loss': 0.7858, 'learning_rate': 0.0094465199944652, 'epoch': 1.38}\n",
      "{'loss': 0.7798, 'learning_rate': 0.0088930399889304, 'epoch': 2.77}\n",
      "{'loss': 0.7696, 'learning_rate': 0.008339559983395601, 'epoch': 4.15}\n",
      "{'loss': 0.7605, 'learning_rate': 0.007786079977860801, 'epoch': 5.53}\n",
      "{'loss': 0.7514, 'learning_rate': 0.007232599972325999, 'epoch': 6.92}\n",
      "{'loss': 0.7419, 'learning_rate': 0.0066791199667912, 'epoch': 8.3}\n",
      "{'loss': 0.7373, 'learning_rate': 0.0061256399612563996, 'epoch': 9.69}\n",
      "{'loss': 0.726, 'learning_rate': 0.005572159955721599, 'epoch': 11.07}\n",
      "{'loss': 0.7193, 'learning_rate': 0.0050186799501868, 'epoch': 12.45}\n",
      "{'loss': 0.7097, 'learning_rate': 0.004465199944651999, 'epoch': 13.84}\n",
      "{'loss': 0.7009, 'learning_rate': 0.003911719939117199, 'epoch': 15.22}\n",
      "{'loss': 0.694, 'learning_rate': 0.003358239933582399, 'epoch': 16.6}\n",
      "{'loss': 0.6878, 'learning_rate': 0.0028047599280475993, 'epoch': 17.99}\n",
      "{'loss': 0.6775, 'learning_rate': 0.0022512799225127994, 'epoch': 19.37}\n",
      "{'loss': 0.6692, 'learning_rate': 0.0016977999169779992, 'epoch': 20.76}\n",
      "{'loss': 0.6614, 'learning_rate': 0.001144319911443199, 'epoch': 22.14}\n",
      "{'loss': 0.6535, 'learning_rate': 0.0005908399059083991, 'epoch': 23.52}\n",
      "{'loss': 0.6452, 'learning_rate': 3.735990037359901e-05, 'epoch': 24.91}\n",
      "{'train_runtime': 553.352, 'train_samples_per_second': 326.51, 'epoch': 25.0}\n",
      "Finished round {'eval_loss': 0.6587052941322327, 'eval_macro_f1': 0.6322698495859733, 'eval_micro_f1': 0.6322754895340986, 'eval_pos_f1': 0.6337099811676083, 'eval_accuracy': 0.6322754895340986, 'eval_runtime': 2.4736, 'eval_samples_per_second': 5987.328}\n",
      "{'loss': 0.7849, 'learning_rate': 0.00944467582951548, 'epoch': 1.39}\n",
      "{'loss': 0.7753, 'learning_rate': 0.00888935165903096, 'epoch': 2.78}\n",
      "{'loss': 0.7645, 'learning_rate': 0.00833402748854644, 'epoch': 4.16}\n",
      "{'loss': 0.7583, 'learning_rate': 0.007778703318061919, 'epoch': 5.55}\n",
      "{'loss': 0.7475, 'learning_rate': 0.007223379147577398, 'epoch': 6.94}\n",
      "{'loss': 0.7386, 'learning_rate': 0.006668054977092878, 'epoch': 8.33}\n",
      "{'loss': 0.7319, 'learning_rate': 0.006112730806608358, 'epoch': 9.72}\n",
      "{'loss': 0.7229, 'learning_rate': 0.005557406636123838, 'epoch': 11.11}\n",
      "{'loss': 0.7151, 'learning_rate': 0.005002082465639317, 'epoch': 12.49}\n",
      "{'loss': 0.7074, 'learning_rate': 0.004446758295154797, 'epoch': 13.88}\n",
      "{'loss': 0.6985, 'learning_rate': 0.0038914341246702763, 'epoch': 15.27}\n",
      "{'loss': 0.6895, 'learning_rate': 0.003336109954185756, 'epoch': 16.66}\n",
      "{'loss': 0.6819, 'learning_rate': 0.002780785783701236, 'epoch': 18.05}\n",
      "{'loss': 0.6723, 'learning_rate': 0.002225461613216715, 'epoch': 19.44}\n",
      "{'loss': 0.6655, 'learning_rate': 0.001670137442732195, 'epoch': 20.82}\n",
      "{'loss': 0.6567, 'learning_rate': 0.0011148132722476746, 'epoch': 22.21}\n",
      "{'loss': 0.6495, 'learning_rate': 0.0005594891017631543, 'epoch': 23.6}\n",
      "{'loss': 0.6402, 'learning_rate': 4.164931278633902e-06, 'epoch': 24.99}\n",
      "{'train_runtime': 551.5595, 'train_samples_per_second': 326.483, 'epoch': 25.0}\n",
      "Finished round {'eval_loss': 0.6814551949501038, 'eval_macro_f1': 0.6214014074029128, 'eval_micro_f1': 0.6217243448689738, 'eval_pos_f1': 0.6103441170410054, 'eval_accuracy': 0.6217243448689738, 'eval_runtime': 2.451, 'eval_samples_per_second': 6118.656}\n"
     ]
    }
   ],
   "source": [
    "model_arguments['C'] = 1e-4\n",
    "model_arguments['reg_type'] = 'l1'\n",
    "model_arguments['init_type'] = 'uniform'\n",
    "train_arguments['learning_rate'] = 0.01\n",
    "train_arguments['num_train_epochs'] = 25\n",
    "results = run_full_cv(style_data, model_cls, model_arguments, train_arguments, averaged=True)"
   ]
  },
  {
   "cell_type": "code",
   "execution_count": null,
   "metadata": {},
   "outputs": [],
   "source": []
  },
  {
   "cell_type": "markdown",
   "metadata": {},
   "source": [
    "### No popularity"
   ]
  },
  {
   "cell_type": "code",
   "execution_count": 31,
   "metadata": {},
   "outputs": [],
   "source": [
    "D_in = len(style_data.iloc[0].feats)\n",
    "num_users = style_data.user_id.nunique()\n",
    "model_arguments = {'D_in': D_in, 'num_users': num_users, 'use_popularity': False}\n"
   ]
  },
  {
   "cell_type": "code",
   "execution_count": 42,
   "metadata": {},
   "outputs": [],
   "source": [
    "log_file = open('log_file', 'a')"
   ]
  },
  {
   "cell_type": "code",
   "execution_count": 45,
   "metadata": {},
   "outputs": [
    {
     "data": {
      "text/plain": [
       "32"
      ]
     },
     "execution_count": 45,
     "metadata": {},
     "output_type": "execute_result"
    }
   ],
   "source": [
    "log_file.write(f\"HI Starting {(C, reg_type, learning_rate)}\\n\")"
   ]
  },
  {
   "cell_type": "code",
   "execution_count": 47,
   "metadata": {},
   "outputs": [
    {
     "name": "stdout",
     "output_type": "stream",
     "text": [
      "Starting (0.0001, 'l1', 0.1)\r\n",
      "Starting (0.0001, 'l1', 0.1)\r\n",
      "Starting (0.0001, 'l1', 0.1)\r\n",
      "Starting (0.0001, 'l1', 0.1)\r\n",
      "HI Starting (0.0001, 'l1', 0.1)\r\n"
     ]
    }
   ],
   "source": [
    "!cat log_file"
   ]
  },
  {
   "cell_type": "code",
   "execution_count": 35,
   "metadata": {},
   "outputs": [
    {
     "ename": "KeyboardInterrupt",
     "evalue": "",
     "output_type": "error",
     "traceback": [
      "\u001b[0;31m---------------------------------------------------------------------------\u001b[0m",
      "\u001b[0;31mKeyboardInterrupt\u001b[0m                         Traceback (most recent call last)",
      "\u001b[0;32m<ipython-input-35-0bf8b0b1f659>\u001b[0m in \u001b[0;36m<module>\u001b[0;34m\u001b[0m\n\u001b[1;32m      8\u001b[0m             \u001b[0mtrain_arguments\u001b[0m\u001b[0;34m[\u001b[0m\u001b[0;34m'learning_rate'\u001b[0m\u001b[0;34m]\u001b[0m \u001b[0;34m=\u001b[0m \u001b[0mlearning_rate\u001b[0m\u001b[0;34m\u001b[0m\u001b[0;34m\u001b[0m\u001b[0m\n\u001b[1;32m      9\u001b[0m             \u001b[0mtrain_arguments\u001b[0m\u001b[0;34m[\u001b[0m\u001b[0;34m'num_train_epochs'\u001b[0m\u001b[0;34m]\u001b[0m \u001b[0;34m=\u001b[0m \u001b[0;36m20\u001b[0m\u001b[0;34m\u001b[0m\u001b[0;34m\u001b[0m\u001b[0m\n\u001b[0;32m---> 10\u001b[0;31m             \u001b[0mresults\u001b[0m \u001b[0;34m=\u001b[0m \u001b[0mrun_full_cv\u001b[0m\u001b[0;34m(\u001b[0m\u001b[0mstyle_data\u001b[0m\u001b[0;34m,\u001b[0m \u001b[0mmodel_cls\u001b[0m\u001b[0;34m,\u001b[0m \u001b[0mmodel_arguments\u001b[0m\u001b[0;34m,\u001b[0m \u001b[0mtrain_arguments\u001b[0m\u001b[0;34m,\u001b[0m \u001b[0maveraged\u001b[0m\u001b[0;34m=\u001b[0m\u001b[0;32mTrue\u001b[0m\u001b[0;34m)\u001b[0m\u001b[0;34m\u001b[0m\u001b[0;34m\u001b[0m\u001b[0m\n\u001b[0m\u001b[1;32m     11\u001b[0m \u001b[0;34m\u001b[0m\u001b[0m\n\u001b[1;32m     12\u001b[0m             \u001b[0mfinal_results_v2\u001b[0m\u001b[0;34m[\u001b[0m\u001b[0;34m(\u001b[0m\u001b[0mC\u001b[0m\u001b[0;34m,\u001b[0m \u001b[0mreg_type\u001b[0m\u001b[0;34m,\u001b[0m \u001b[0mlearning_rate\u001b[0m\u001b[0;34m)\u001b[0m\u001b[0;34m]\u001b[0m \u001b[0;34m=\u001b[0m \u001b[0mresults\u001b[0m\u001b[0;34m\u001b[0m\u001b[0;34m\u001b[0m\u001b[0m\n",
      "\u001b[0;32m~/SageMaker/DS-Argument-Research/AdvocacyProject/lib/helpers.py\u001b[0m in \u001b[0;36mrun_full_cv\u001b[0;34m(data, model_class, model_args, training_args, averaged)\u001b[0m\n\u001b[1;32m     44\u001b[0m         \u001b[0mtrainer\u001b[0m \u001b[0;34m=\u001b[0m \u001b[0mTrainer\u001b[0m\u001b[0;34m(\u001b[0m\u001b[0mmodel\u001b[0m\u001b[0;34m=\u001b[0m\u001b[0mmodel\u001b[0m\u001b[0;34m,\u001b[0m \u001b[0mtrain_dataset\u001b[0m\u001b[0;34m=\u001b[0m\u001b[0mtrain_data\u001b[0m\u001b[0;34m,\u001b[0m \u001b[0meval_dataset\u001b[0m\u001b[0;34m=\u001b[0m\u001b[0mtest_data\u001b[0m\u001b[0;34m,\u001b[0m \u001b[0mcompute_metrics\u001b[0m\u001b[0;34m=\u001b[0m\u001b[0mdo_metrics\u001b[0m\u001b[0;34m,\u001b[0m \u001b[0margs\u001b[0m\u001b[0;34m=\u001b[0m\u001b[0margs\u001b[0m\u001b[0;34m)\u001b[0m\u001b[0;34m\u001b[0m\u001b[0;34m\u001b[0m\u001b[0m\n\u001b[1;32m     45\u001b[0m \u001b[0;34m\u001b[0m\u001b[0m\n\u001b[0;32m---> 46\u001b[0;31m         \u001b[0mtrainer\u001b[0m\u001b[0;34m.\u001b[0m\u001b[0mtrain\u001b[0m\u001b[0;34m(\u001b[0m\u001b[0;34m)\u001b[0m\u001b[0;34m\u001b[0m\u001b[0;34m\u001b[0m\u001b[0m\n\u001b[0m\u001b[1;32m     47\u001b[0m \u001b[0;34m\u001b[0m\u001b[0m\n\u001b[1;32m     48\u001b[0m         \u001b[0mres\u001b[0m \u001b[0;34m=\u001b[0m \u001b[0mtrainer\u001b[0m\u001b[0;34m.\u001b[0m\u001b[0mpredict\u001b[0m\u001b[0;34m(\u001b[0m\u001b[0mtest_data\u001b[0m\u001b[0;34m)\u001b[0m\u001b[0;34m\u001b[0m\u001b[0;34m\u001b[0m\u001b[0m\n",
      "\u001b[0;32m~/anaconda3/envs/pytorch_p36/lib/python3.6/site-packages/transformers/trainer.py\u001b[0m in \u001b[0;36mtrain\u001b[0;34m(self, resume_from_checkpoint, trial, **kwargs)\u001b[0m\n\u001b[1;32m    938\u001b[0m                         \u001b[0mtr_loss\u001b[0m \u001b[0;34m+=\u001b[0m \u001b[0mself\u001b[0m\u001b[0;34m.\u001b[0m\u001b[0mtraining_step\u001b[0m\u001b[0;34m(\u001b[0m\u001b[0mmodel\u001b[0m\u001b[0;34m,\u001b[0m \u001b[0minputs\u001b[0m\u001b[0;34m)\u001b[0m\u001b[0;34m\u001b[0m\u001b[0;34m\u001b[0m\u001b[0m\n\u001b[1;32m    939\u001b[0m                 \u001b[0;32melse\u001b[0m\u001b[0;34m:\u001b[0m\u001b[0;34m\u001b[0m\u001b[0;34m\u001b[0m\u001b[0m\n\u001b[0;32m--> 940\u001b[0;31m                     \u001b[0mtr_loss\u001b[0m \u001b[0;34m+=\u001b[0m \u001b[0mself\u001b[0m\u001b[0;34m.\u001b[0m\u001b[0mtraining_step\u001b[0m\u001b[0;34m(\u001b[0m\u001b[0mmodel\u001b[0m\u001b[0;34m,\u001b[0m \u001b[0minputs\u001b[0m\u001b[0;34m)\u001b[0m\u001b[0;34m\u001b[0m\u001b[0;34m\u001b[0m\u001b[0m\n\u001b[0m\u001b[1;32m    941\u001b[0m                 \u001b[0mself\u001b[0m\u001b[0;34m.\u001b[0m\u001b[0m_total_flos\u001b[0m \u001b[0;34m+=\u001b[0m \u001b[0mself\u001b[0m\u001b[0;34m.\u001b[0m\u001b[0mfloating_point_ops\u001b[0m\u001b[0;34m(\u001b[0m\u001b[0minputs\u001b[0m\u001b[0;34m)\u001b[0m\u001b[0;34m\u001b[0m\u001b[0;34m\u001b[0m\u001b[0m\n\u001b[1;32m    942\u001b[0m \u001b[0;34m\u001b[0m\u001b[0m\n",
      "\u001b[0;32m~/anaconda3/envs/pytorch_p36/lib/python3.6/site-packages/transformers/trainer.py\u001b[0m in \u001b[0;36mtraining_step\u001b[0;34m(self, model, inputs)\u001b[0m\n\u001b[1;32m   1296\u001b[0m \u001b[0;34m\u001b[0m\u001b[0m\n\u001b[1;32m   1297\u001b[0m         \u001b[0mmodel\u001b[0m\u001b[0;34m.\u001b[0m\u001b[0mtrain\u001b[0m\u001b[0;34m(\u001b[0m\u001b[0;34m)\u001b[0m\u001b[0;34m\u001b[0m\u001b[0;34m\u001b[0m\u001b[0m\n\u001b[0;32m-> 1298\u001b[0;31m         \u001b[0minputs\u001b[0m \u001b[0;34m=\u001b[0m \u001b[0mself\u001b[0m\u001b[0;34m.\u001b[0m\u001b[0m_prepare_inputs\u001b[0m\u001b[0;34m(\u001b[0m\u001b[0minputs\u001b[0m\u001b[0;34m)\u001b[0m\u001b[0;34m\u001b[0m\u001b[0;34m\u001b[0m\u001b[0m\n\u001b[0m\u001b[1;32m   1299\u001b[0m \u001b[0;34m\u001b[0m\u001b[0m\n\u001b[1;32m   1300\u001b[0m         \u001b[0;32mif\u001b[0m \u001b[0mself\u001b[0m\u001b[0;34m.\u001b[0m\u001b[0muse_amp\u001b[0m\u001b[0;34m:\u001b[0m\u001b[0;34m\u001b[0m\u001b[0;34m\u001b[0m\u001b[0m\n",
      "\u001b[0;32m~/anaconda3/envs/pytorch_p36/lib/python3.6/site-packages/transformers/trainer.py\u001b[0m in \u001b[0;36m_prepare_inputs\u001b[0;34m(self, inputs)\u001b[0m\n\u001b[1;32m   1269\u001b[0m         \u001b[0;32mfor\u001b[0m \u001b[0mk\u001b[0m\u001b[0;34m,\u001b[0m \u001b[0mv\u001b[0m \u001b[0;32min\u001b[0m \u001b[0minputs\u001b[0m\u001b[0;34m.\u001b[0m\u001b[0mitems\u001b[0m\u001b[0;34m(\u001b[0m\u001b[0;34m)\u001b[0m\u001b[0;34m:\u001b[0m\u001b[0;34m\u001b[0m\u001b[0;34m\u001b[0m\u001b[0m\n\u001b[1;32m   1270\u001b[0m             \u001b[0;32mif\u001b[0m \u001b[0misinstance\u001b[0m\u001b[0;34m(\u001b[0m\u001b[0mv\u001b[0m\u001b[0;34m,\u001b[0m \u001b[0mtorch\u001b[0m\u001b[0;34m.\u001b[0m\u001b[0mTensor\u001b[0m\u001b[0;34m)\u001b[0m\u001b[0;34m:\u001b[0m\u001b[0;34m\u001b[0m\u001b[0;34m\u001b[0m\u001b[0m\n\u001b[0;32m-> 1271\u001b[0;31m                 \u001b[0minputs\u001b[0m\u001b[0;34m[\u001b[0m\u001b[0mk\u001b[0m\u001b[0;34m]\u001b[0m \u001b[0;34m=\u001b[0m \u001b[0mv\u001b[0m\u001b[0;34m.\u001b[0m\u001b[0mto\u001b[0m\u001b[0;34m(\u001b[0m\u001b[0mself\u001b[0m\u001b[0;34m.\u001b[0m\u001b[0margs\u001b[0m\u001b[0;34m.\u001b[0m\u001b[0mdevice\u001b[0m\u001b[0;34m)\u001b[0m\u001b[0;34m\u001b[0m\u001b[0;34m\u001b[0m\u001b[0m\n\u001b[0m\u001b[1;32m   1272\u001b[0m \u001b[0;34m\u001b[0m\u001b[0m\n\u001b[1;32m   1273\u001b[0m         \u001b[0;32mif\u001b[0m \u001b[0mself\u001b[0m\u001b[0;34m.\u001b[0m\u001b[0margs\u001b[0m\u001b[0;34m.\u001b[0m\u001b[0mpast_index\u001b[0m \u001b[0;34m>=\u001b[0m \u001b[0;36m0\u001b[0m \u001b[0;32mand\u001b[0m \u001b[0mself\u001b[0m\u001b[0;34m.\u001b[0m\u001b[0m_past\u001b[0m \u001b[0;32mis\u001b[0m \u001b[0;32mnot\u001b[0m \u001b[0;32mNone\u001b[0m\u001b[0;34m:\u001b[0m\u001b[0;34m\u001b[0m\u001b[0;34m\u001b[0m\u001b[0m\n",
      "\u001b[0;31mKeyboardInterrupt\u001b[0m: "
     ]
    }
   ],
   "source": [
    "train_arguments = {}\n",
    "for C in [1e-4, 1e-5, 1e-6]:\n",
    "    for reg_type in ['l1', 'l2']:\n",
    "        for learning_rate in [0.1, 0.01, 0.005]:\n",
    "            \n",
    "            with open('log_file', 'a') as log_file:\n",
    "                log_file.write(f\"Starting {(C, reg_type, learning_rate)}\\n\")\n",
    "            model_arguments['C'] = C\n",
    "            model_arguments['reg_type'] = reg_type\n",
    "            train_arguments['learning_rate'] = learning_rate\n",
    "            train_arguments['num_train_epochs'] = 20\n",
    "            results = run_full_cv(style_data, model_cls, model_arguments, train_arguments, averaged=True)\n",
    "            \n",
    "            final_results_v2[(C, reg_type, learning_rate)] = results"
   ]
  },
  {
   "cell_type": "code",
   "execution_count": 55,
   "metadata": {},
   "outputs": [],
   "source": [
    "import pickle\n",
    "pickle.dump(final_results_v2, open('debate_non_pop.pkl', 'wb'))"
   ]
  },
  {
   "cell_type": "code",
   "execution_count": 51,
   "metadata": {},
   "outputs": [
    {
     "name": "stdout",
     "output_type": "stream",
     "text": [
      "(0.0001, 'l1', 0.1) 0.6004917872773381\n",
      "(0.0001, 'l1', 0.01) 0.6032701927099586\n",
      "(0.0001, 'l1', 0.005) 0.6044170013286541\n",
      "(0.0001, 'l2', 0.1) 0.6018610931401083\n",
      "(0.0001, 'l2', 0.01) 0.60541814686578\n",
      "(0.0001, 'l2', 0.005) 0.6063376070860166\n",
      "(1e-05, 'l1', 0.1) 0.6004062185140656\n",
      "(1e-05, 'l1', 0.01) 0.6056387457822618\n",
      "(1e-05, 'l1', 0.005) 0.6059731815058973\n",
      "(1e-05, 'l2', 0.1) 0.6010279632254549\n",
      "(1e-05, 'l2', 0.01) 0.6047147257982896\n",
      "(1e-05, 'l2', 0.005) 0.6060131567136049\n",
      "(1e-06, 'l1', 0.1) 0.6003834619523063\n",
      "(1e-06, 'l1', 0.01) 0.6051268005622147\n",
      "(1e-06, 'l1', 0.005) 0.6062514589793431\n",
      "(1e-06, 'l2', 0.1) 0.6006256011182876\n",
      "(1e-06, 'l2', 0.01) 0.6054351251609228\n",
      "(1e-06, 'l2', 0.005) 0.6060959422928347\n"
     ]
    }
   ],
   "source": [
    "for k, v in final_results_v2.items():\n",
    "    print(k, v['eval_accuracy'])"
   ]
  },
  {
   "cell_type": "code",
   "execution_count": 53,
   "metadata": {},
   "outputs": [
    {
     "data": {
      "text/plain": [
       "0.6063376070860166"
      ]
     },
     "execution_count": 53,
     "metadata": {},
     "output_type": "execute_result"
    }
   ],
   "source": [
    "max([v.get('eval_accuracy') for v in final_results_v2.values()])"
   ]
  },
  {
   "cell_type": "code",
   "execution_count": 54,
   "metadata": {},
   "outputs": [
    {
     "data": {
      "text/plain": [
       "{'D_in': 181,\n",
       " 'num_users': 1131,\n",
       " 'use_popularity': False,\n",
       " 'C': 1e-06,\n",
       " 'reg_type': 'l2'}"
      ]
     },
     "execution_count": 54,
     "metadata": {},
     "output_type": "execute_result"
    }
   ],
   "source": [
    "model_arguments"
   ]
  },
  {
   "cell_type": "code",
   "execution_count": null,
   "metadata": {},
   "outputs": [],
   "source": []
  }
 ],
 "metadata": {
  "kernelspec": {
   "display_name": "Python 3 (ipykernel)",
   "language": "python",
   "name": "python3"
  },
  "language_info": {
   "codemirror_mode": {
    "name": "ipython",
    "version": 3
   },
   "file_extension": ".py",
   "mimetype": "text/x-python",
   "name": "python",
   "nbconvert_exporter": "python",
   "pygments_lexer": "ipython3",
   "version": "3.9.7"
  }
 },
 "nbformat": 4,
 "nbformat_minor": 4
}
