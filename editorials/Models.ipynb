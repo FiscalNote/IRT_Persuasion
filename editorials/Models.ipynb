{
 "cells": [
  {
   "cell_type": "code",
   "execution_count": 1,
   "metadata": {},
   "outputs": [],
   "source": [
    "import sys\n",
    "sys.path.append(\"..\")\n",
    "\n",
    "%load_ext autoreload\n",
    "%autoreload 2"
   ]
  },
  {
   "cell_type": "code",
   "execution_count": 68,
   "metadata": {},
   "outputs": [],
   "source": [
    "import warnings\n",
    "warnings.filterwarnings(\"ignore\")"
   ]
  },
  {
   "cell_type": "code",
   "execution_count": 41,
   "metadata": {},
   "outputs": [],
   "source": [
    "from irt_lib.editorial_data_helper import create_full_data\n",
    "\n",
    "from irt_lib.helpers import split_by_doc_id, do_metrics, run_full_cv"
   ]
  },
  {
   "cell_type": "code",
   "execution_count": 3,
   "metadata": {},
   "outputs": [],
   "source": [
    "style_data = create_full_data(feature_types=['style_scaled'])"
   ]
  },
  {
   "cell_type": "code",
   "execution_count": null,
   "metadata": {},
   "outputs": [],
   "source": []
  },
  {
   "cell_type": "code",
   "execution_count": 4,
   "metadata": {},
   "outputs": [
    {
     "data": {
      "text/html": [
       "<div>\n",
       "<style scoped>\n",
       "    .dataframe tbody tr th:only-of-type {\n",
       "        vertical-align: middle;\n",
       "    }\n",
       "\n",
       "    .dataframe tbody tr th {\n",
       "        vertical-align: top;\n",
       "    }\n",
       "\n",
       "    .dataframe thead th {\n",
       "        text-align: right;\n",
       "    }\n",
       "</style>\n",
       "<table border=\"1\" class=\"dataframe\">\n",
       "  <thead>\n",
       "    <tr style=\"text-align: right;\">\n",
       "      <th></th>\n",
       "      <th>feats</th>\n",
       "      <th>user_id</th>\n",
       "      <th>label</th>\n",
       "      <th>doc_id</th>\n",
       "    </tr>\n",
       "  </thead>\n",
       "  <tbody>\n",
       "    <tr>\n",
       "      <th>0</th>\n",
       "      <td>[0.9675265502110052, -1.2649550896245798, 2.21...</td>\n",
       "      <td>3</td>\n",
       "      <td>True</td>\n",
       "      <td>1638699</td>\n",
       "    </tr>\n",
       "    <tr>\n",
       "      <th>1</th>\n",
       "      <td>[0.5305433924314203, -1.0457320355012902, 1.96...</td>\n",
       "      <td>3</td>\n",
       "      <td>True</td>\n",
       "      <td>1640113</td>\n",
       "    </tr>\n",
       "    <tr>\n",
       "      <th>2</th>\n",
       "      <td>[1.5755031175565148, 0.4355048166830996, -0.63...</td>\n",
       "      <td>3</td>\n",
       "      <td>False</td>\n",
       "      <td>1640630</td>\n",
       "    </tr>\n",
       "    <tr>\n",
       "      <th>3</th>\n",
       "      <td>[0.036562431463193934, -1.393328950147228, -0....</td>\n",
       "      <td>3</td>\n",
       "      <td>True</td>\n",
       "      <td>1640915</td>\n",
       "    </tr>\n",
       "    <tr>\n",
       "      <th>4</th>\n",
       "      <td>[0.9675265502110052, -1.2649550896245798, 2.21...</td>\n",
       "      <td>2</td>\n",
       "      <td>True</td>\n",
       "      <td>1638699</td>\n",
       "    </tr>\n",
       "  </tbody>\n",
       "</table>\n",
       "</div>"
      ],
      "text/plain": [
       "                                               feats  user_id  label   doc_id\n",
       "0  [0.9675265502110052, -1.2649550896245798, 2.21...        3   True  1638699\n",
       "1  [0.5305433924314203, -1.0457320355012902, 1.96...        3   True  1640113\n",
       "2  [1.5755031175565148, 0.4355048166830996, -0.63...        3  False  1640630\n",
       "3  [0.036562431463193934, -1.393328950147228, -0....        3   True  1640915\n",
       "4  [0.9675265502110052, -1.2649550896245798, 2.21...        2   True  1638699"
      ]
     },
     "execution_count": 4,
     "metadata": {},
     "output_type": "execute_result"
    }
   ],
   "source": [
    "style_data.head()"
   ]
  },
  {
   "cell_type": "code",
   "execution_count": null,
   "metadata": {},
   "outputs": [],
   "source": []
  },
  {
   "cell_type": "code",
   "execution_count": 12,
   "metadata": {},
   "outputs": [],
   "source": [
    "from irt_lib.models import IRTNet"
   ]
  },
  {
   "cell_type": "code",
   "execution_count": null,
   "metadata": {},
   "outputs": [],
   "source": []
  },
  {
   "cell_type": "code",
   "execution_count": null,
   "metadata": {},
   "outputs": [],
   "source": []
  },
  {
   "cell_type": "code",
   "execution_count": 62,
   "metadata": {},
   "outputs": [],
   "source": [
    "D_in = len(style_data.iloc[0].feats)\n",
    "num_users = style_data.user_id.nunique()"
   ]
  },
  {
   "cell_type": "code",
   "execution_count": 70,
   "metadata": {},
   "outputs": [],
   "source": [
    "model_arguments = {'D_in': D_in, 'num_users': num_users}\n",
    "train_arguments = {'num_train_epochs': 200, 'learning_rate': 0.001}"
   ]
  },
  {
   "cell_type": "code",
   "execution_count": 71,
   "metadata": {},
   "outputs": [],
   "source": [
    "model_cls = IRTNet"
   ]
  },
  {
   "cell_type": "code",
   "execution_count": 80,
   "metadata": {},
   "outputs": [],
   "source": [
    "final_results = {}"
   ]
  },
  {
   "cell_type": "code",
   "execution_count": null,
   "metadata": {},
   "outputs": [
    {
     "name": "stdout",
     "output_type": "stream",
     "text": [
      "{'loss': 0.526465283203125, 'learning_rate': 0.0031972789115646263, 'epoch': 68.02721088435374}\n",
      "{'epoch': 100.0}\n",
      "Finished round {'eval_loss': 0.5471543669700623, 'eval_macro_f1': 0.6759811616954474, 'eval_micro_f1': 0.7440476190476191, 'eval_pos_f1': 0.8244897959183672, 'eval_accuracy': 0.7440476190476191}\n",
      "{'loss': 0.527666357421875, 'learning_rate': 0.0031972789115646263, 'epoch': 68.02721088435374}\n",
      "{'epoch': 100.0}\n",
      "Finished round {'eval_loss': 0.5416099429130554, 'eval_macro_f1': 0.661208482798357, 'eval_micro_f1': 0.7363945578231292, 'eval_pos_f1': 0.8208092485549133, 'eval_accuracy': 0.7363945578231292}\n",
      "{'loss': 0.528931298828125, 'learning_rate': 0.0031972789115646263, 'epoch': 68.02721088435374}\n",
      "{'epoch': 100.0}\n",
      "Finished round {'eval_loss': 0.5401726365089417, 'eval_macro_f1': 0.6849089249465267, 'eval_micro_f1': 0.7491496598639455, 'eval_pos_f1': 0.8271821909783246, 'eval_accuracy': 0.7491496598639455}\n",
      "{'loss': 0.52911943359375, 'learning_rate': 0.0031972789115646263, 'epoch': 68.02721088435374}\n",
      "{'epoch': 100.0}\n",
      "Finished round {'eval_loss': 0.5358508229255676, 'eval_macro_f1': 0.6898217557887723, 'eval_micro_f1': 0.7414965986394558, 'eval_pos_f1': 0.8164251207729468, 'eval_accuracy': 0.7414965986394558}\n",
      "{'loss': 0.531571044921875, 'learning_rate': 0.0031972789115646263, 'epoch': 68.02721088435374}\n",
      "{'epoch': 100.0}\n",
      "Finished round {'eval_loss': 0.5234552621841431, 'eval_macro_f1': 0.6907858925294355, 'eval_micro_f1': 0.7564102564102565, 'eval_pos_f1': 0.8332358104154477, 'eval_accuracy': 0.7564102564102564}\n",
      "{'loss': 0.520547509765625, 'learning_rate': 0.0015986394557823132, 'epoch': 68.02721088435374}\n",
      "{'epoch': 100.0}\n",
      "Finished round {'eval_loss': 0.5470039248466492, 'eval_macro_f1': 0.6759811616954474, 'eval_micro_f1': 0.7440476190476191, 'eval_pos_f1': 0.8244897959183672, 'eval_accuracy': 0.7440476190476191}\n",
      "{'loss': 0.52046064453125, 'learning_rate': 0.0015986394557823132, 'epoch': 68.02721088435374}\n",
      "{'epoch': 100.0}\n",
      "Finished round {'eval_loss': 0.5415385961532593, 'eval_macro_f1': 0.661208482798357, 'eval_micro_f1': 0.7363945578231292, 'eval_pos_f1': 0.8208092485549133, 'eval_accuracy': 0.7363945578231292}\n",
      "{'loss': 0.521530859375, 'learning_rate': 0.0015986394557823132, 'epoch': 68.02721088435374}\n",
      "{'epoch': 100.0}\n",
      "Finished round {'eval_loss': 0.5402957797050476, 'eval_macro_f1': 0.6849089249465267, 'eval_micro_f1': 0.7491496598639455, 'eval_pos_f1': 0.8271821909783246, 'eval_accuracy': 0.7491496598639455}\n",
      "{'loss': 0.5219712890625, 'learning_rate': 0.0015986394557823132, 'epoch': 68.02721088435374}\n"
     ]
    }
   ],
   "source": [
    "for C in [1e-3, 1e-4, 1e-5, 1e-6]:\n",
    "    for reg_type in ['l1', 'l2']:\n",
    "        for learning_rate in [0.01, 0.005]:\n",
    "            model_arguments['C'] = C\n",
    "            model_arguments['reg_type'] = reg_type\n",
    "            train_arguments['learning_rate'] = learning_rate\n",
    "            train_arguments['num_train_epochs'] = 100\n",
    "            results = run_full_cv(style_data, model_cls, model_arguments, train_arguments, averaged=True)\n",
    "            \n",
    "            final_results[(C, reg_type, learning_rate)] = results"
   ]
  },
  {
   "cell_type": "code",
   "execution_count": 87,
   "metadata": {},
   "outputs": [
    {
     "data": {
      "text/plain": [
       "16"
      ]
     },
     "execution_count": 87,
     "metadata": {},
     "output_type": "execute_result"
    }
   ],
   "source": [
    "len(final_results)"
   ]
  },
  {
   "cell_type": "code",
   "execution_count": 85,
   "metadata": {},
   "outputs": [],
   "source": [
    "import pickle\n",
    "pickle.dump(final_results, open('style_scaled_cv_results.pkl', 'wb'))"
   ]
  },
  {
   "cell_type": "code",
   "execution_count": 23,
   "metadata": {},
   "outputs": [
    {
     "data": {
      "text/plain": [
       "{'feats': [0.9675265502110052,\n",
       "  -1.2649550896245798,\n",
       "  2.212303683527317,\n",
       "  3.719023666211753,\n",
       "  1.2814686886769877,\n",
       "  -1.1414987273685924,\n",
       "  -3.3230770917656134,\n",
       "  3.2049196209819506,\n",
       "  3.7505090094129336,\n",
       "  2.1706627982817297,\n",
       "  3.45856090373662,\n",
       "  -0.2849823147028905,\n",
       "  8.705847620217531,\n",
       "  5.942163990529201,\n",
       "  -0.4546840173262411,\n",
       "  -0.15177206942306856,\n",
       "  -0.508820576749366,\n",
       "  0.5803780652959524,\n",
       "  2.2038986093622017,\n",
       "  0.5489217940868926,\n",
       "  2.1022425039300585,\n",
       "  1.7868556461890417,\n",
       "  2.7360632898162267,\n",
       "  3.5480194536898173,\n",
       "  1.7509709544810568,\n",
       "  2.890430818018812,\n",
       "  0.7191477404999346,\n",
       "  -0.1548699418786665,\n",
       "  -0.0054836741303174045,\n",
       "  -1.0333070154760522,\n",
       "  0.1050190566699573,\n",
       "  -1.4267663085313635,\n",
       "  -0.9850868101582596,\n",
       "  -0.4567872463878535,\n",
       "  -1.1383061263440537,\n",
       "  1.8382889673555245,\n",
       "  -0.3334723566841886,\n",
       "  -0.5478685663318728,\n",
       "  -0.0011161218395672214,\n",
       "  -0.6287390817290557,\n",
       "  3.9937014754111946,\n",
       "  3.634336596958322,\n",
       "  1.133900097824702,\n",
       "  0.07872022371130831,\n",
       "  3.3849371129938635,\n",
       "  1.6457320589094548,\n",
       "  1.9019265466569228,\n",
       "  1.5044027415994723,\n",
       "  1.3984088312670917,\n",
       "  -0.9330821902795564,\n",
       "  2.445167445212625,\n",
       "  0.7719352031494467,\n",
       "  0.39528067325221,\n",
       "  0.9385939540505762,\n",
       "  0.2555006098621037,\n",
       "  -0.10501786677098976,\n",
       "  -0.1419770372477291,\n",
       "  3.132549941432443,\n",
       "  0.5746525478503317,\n",
       "  -1.8967245574281413,\n",
       "  0.7828155084519772,\n",
       "  -1.0920295817349772,\n",
       "  -0.8950681470089034,\n",
       "  3.8551768350871463,\n",
       "  2.5403009985769023,\n",
       "  1.4187011275735408,\n",
       "  0.7924664019267338,\n",
       "  -0.4686587156593384,\n",
       "  2.9106050084737927,\n",
       "  -1.8268123409264587,\n",
       "  -0.4729933425992316,\n",
       "  -0.7357137009678203,\n",
       "  -0.6690994689265799,\n",
       "  0.5215463295185025,\n",
       "  -0.4809638997014002,\n",
       "  -0.7062893253541637,\n",
       "  -0.2314836030145249,\n",
       "  -0.3023150684872681,\n",
       "  -0.3088419888000049,\n",
       "  -0.5752660495013953,\n",
       "  -0.17266386330049305,\n",
       "  -0.6985402065997866,\n",
       "  0.092937521022215,\n",
       "  0.16133222660453506,\n",
       "  -0.70911969241906,\n",
       "  -0.3994336932556689,\n",
       "  -0.3506413066677335,\n",
       "  -0.07732412092480627,\n",
       "  -0.9428132761890764,\n",
       "  -0.04144444958752586,\n",
       "  -0.4141209442576668,\n",
       "  -0.340257219507822,\n",
       "  -0.6008105182457087,\n",
       "  -0.3005603395160133,\n",
       "  -0.2588860892868781,\n",
       "  2.8419459409992167,\n",
       "  0.03316283907304588,\n",
       "  1.6755534749354186,\n",
       "  0.4572597837716726,\n",
       "  -0.021290650119217845,\n",
       "  -0.8185920241130596,\n",
       "  0.525801796428139,\n",
       "  -0.6772227090889271,\n",
       "  -0.9351981238750896,\n",
       "  -0.7443343712181182,\n",
       "  -1.4846154899270456,\n",
       "  -0.8687277268153425,\n",
       "  -1.0208408001434701,\n",
       "  0.3881108166337233,\n",
       "  -1.5904882122606607,\n",
       "  0.4513713302534162,\n",
       "  2.859367789561812,\n",
       "  1.8484078120776768,\n",
       "  2.52053174842803,\n",
       "  0.6985791768985533,\n",
       "  -0.8457488157283887,\n",
       "  1.1404637776690498,\n",
       "  -0.838680979817854,\n",
       "  -0.26053398397317873,\n",
       "  6.037984649706745,\n",
       "  -0.2983081698217883,\n",
       "  -0.2319942094967956,\n",
       "  -0.12889819853942178,\n",
       "  -0.09076854597952916,\n",
       "  -0.1368593770038479],\n",
       " 'user_id': 3,\n",
       " 'label': True,\n",
       " 'doc_id': 1638699}"
      ]
     },
     "execution_count": 23,
     "metadata": {},
     "output_type": "execute_result"
    }
   ],
   "source": [
    "train[0]"
   ]
  },
  {
   "cell_type": "code",
   "execution_count": 66,
   "metadata": {},
   "outputs": [
    {
     "data": {
      "text/html": [
       "\n",
       "    <div>\n",
       "        <style>\n",
       "            /* Turns off some styling */\n",
       "            progress {\n",
       "                /* gets rid of default border in Firefox and Opera. */\n",
       "                border: none;\n",
       "                /* Needs to be in here for Safari polyfill so background images work as expected. */\n",
       "                background-size: auto;\n",
       "            }\n",
       "        </style>\n",
       "      \n",
       "      <progress value='222' max='29400' style='width:300px; height:20px; vertical-align: middle;'></progress>\n",
       "      [  222/29400 00:05 < 11:20, 42.87 it/s, Epoch 1.50/200]\n",
       "    </div>\n",
       "    <table border=\"1\" class=\"dataframe\">\n",
       "  <thead>\n",
       "    <tr style=\"text-align: left;\">\n",
       "      <th>Step</th>\n",
       "      <th>Training Loss</th>\n",
       "      <th>Validation Loss</th>\n",
       "    </tr>\n",
       "  </thead>\n",
       "  <tbody>\n",
       "  </tbody>\n",
       "</table><p>"
      ],
      "text/plain": [
       "<IPython.core.display.HTML object>"
      ]
     },
     "metadata": {},
     "output_type": "display_data"
    },
    {
     "ename": "KeyboardInterrupt",
     "evalue": "",
     "output_type": "error",
     "traceback": [
      "\u001b[0;31m---------------------------------------------------------------------------\u001b[0m",
      "\u001b[0;31mKeyboardInterrupt\u001b[0m                         Traceback (most recent call last)",
      "\u001b[0;32m<ipython-input-66-02aac881a502>\u001b[0m in \u001b[0;36m<module>\u001b[0;34m\u001b[0m\n\u001b[1;32m      4\u001b[0m \u001b[0;34m\u001b[0m\u001b[0m\n\u001b[1;32m      5\u001b[0m \u001b[0mtrainer\u001b[0m \u001b[0;34m=\u001b[0m \u001b[0mTrainer\u001b[0m\u001b[0;34m(\u001b[0m\u001b[0mmodel\u001b[0m\u001b[0;34m=\u001b[0m\u001b[0mmodel\u001b[0m\u001b[0;34m,\u001b[0m \u001b[0mtrain_dataset\u001b[0m\u001b[0;34m=\u001b[0m\u001b[0mtrain\u001b[0m\u001b[0;34m,\u001b[0m \u001b[0margs\u001b[0m\u001b[0;34m=\u001b[0m\u001b[0margs\u001b[0m\u001b[0;34m,\u001b[0m \u001b[0meval_dataset\u001b[0m\u001b[0;34m=\u001b[0m\u001b[0mtest\u001b[0m\u001b[0;34m,\u001b[0m \u001b[0mcompute_metrics\u001b[0m\u001b[0;34m=\u001b[0m\u001b[0mdo_metrics\u001b[0m\u001b[0;34m)\u001b[0m\u001b[0;34m\u001b[0m\u001b[0;34m\u001b[0m\u001b[0m\n\u001b[0;32m----> 6\u001b[0;31m \u001b[0mtrainer\u001b[0m\u001b[0;34m.\u001b[0m\u001b[0mtrain\u001b[0m\u001b[0;34m(\u001b[0m\u001b[0;34m)\u001b[0m\u001b[0;34m\u001b[0m\u001b[0;34m\u001b[0m\u001b[0m\n\u001b[0m",
      "\u001b[0;32m~/anaconda3/envs/pytorch_p36/lib/python3.6/site-packages/transformers/trainer.py\u001b[0m in \u001b[0;36mtrain\u001b[0;34m(self, model_path, trial)\u001b[0m\n\u001b[1;32m    797\u001b[0m                         \u001b[0mtr_loss\u001b[0m \u001b[0;34m+=\u001b[0m \u001b[0mself\u001b[0m\u001b[0;34m.\u001b[0m\u001b[0mtraining_step\u001b[0m\u001b[0;34m(\u001b[0m\u001b[0mmodel\u001b[0m\u001b[0;34m,\u001b[0m \u001b[0minputs\u001b[0m\u001b[0;34m)\u001b[0m\u001b[0;34m\u001b[0m\u001b[0;34m\u001b[0m\u001b[0m\n\u001b[1;32m    798\u001b[0m                 \u001b[0;32melse\u001b[0m\u001b[0;34m:\u001b[0m\u001b[0;34m\u001b[0m\u001b[0;34m\u001b[0m\u001b[0m\n\u001b[0;32m--> 799\u001b[0;31m                     \u001b[0mtr_loss\u001b[0m \u001b[0;34m+=\u001b[0m \u001b[0mself\u001b[0m\u001b[0;34m.\u001b[0m\u001b[0mtraining_step\u001b[0m\u001b[0;34m(\u001b[0m\u001b[0mmodel\u001b[0m\u001b[0;34m,\u001b[0m \u001b[0minputs\u001b[0m\u001b[0;34m)\u001b[0m\u001b[0;34m\u001b[0m\u001b[0;34m\u001b[0m\u001b[0m\n\u001b[0m\u001b[1;32m    800\u001b[0m                 \u001b[0mself\u001b[0m\u001b[0;34m.\u001b[0m\u001b[0m_total_flos\u001b[0m \u001b[0;34m+=\u001b[0m \u001b[0mself\u001b[0m\u001b[0;34m.\u001b[0m\u001b[0mfloating_point_ops\u001b[0m\u001b[0;34m(\u001b[0m\u001b[0minputs\u001b[0m\u001b[0;34m)\u001b[0m\u001b[0;34m\u001b[0m\u001b[0;34m\u001b[0m\u001b[0m\n\u001b[1;32m    801\u001b[0m \u001b[0;34m\u001b[0m\u001b[0m\n",
      "\u001b[0;32m~/anaconda3/envs/pytorch_p36/lib/python3.6/site-packages/transformers/trainer.py\u001b[0m in \u001b[0;36mtraining_step\u001b[0;34m(self, model, inputs)\u001b[0m\n\u001b[1;32m   1140\u001b[0m \u001b[0;34m\u001b[0m\u001b[0m\n\u001b[1;32m   1141\u001b[0m         \u001b[0;32mif\u001b[0m \u001b[0mself\u001b[0m\u001b[0;34m.\u001b[0m\u001b[0margs\u001b[0m\u001b[0;34m.\u001b[0m\u001b[0mn_gpu\u001b[0m \u001b[0;34m>\u001b[0m \u001b[0;36m1\u001b[0m\u001b[0;34m:\u001b[0m\u001b[0;34m\u001b[0m\u001b[0;34m\u001b[0m\u001b[0m\n\u001b[0;32m-> 1142\u001b[0;31m             \u001b[0mloss\u001b[0m \u001b[0;34m=\u001b[0m \u001b[0mloss\u001b[0m\u001b[0;34m.\u001b[0m\u001b[0mmean\u001b[0m\u001b[0;34m(\u001b[0m\u001b[0;34m)\u001b[0m  \u001b[0;31m# mean() to average on multi-gpu parallel training\u001b[0m\u001b[0;34m\u001b[0m\u001b[0;34m\u001b[0m\u001b[0m\n\u001b[0m\u001b[1;32m   1143\u001b[0m \u001b[0;34m\u001b[0m\u001b[0m\n\u001b[1;32m   1144\u001b[0m         \u001b[0;32mif\u001b[0m \u001b[0mself\u001b[0m\u001b[0;34m.\u001b[0m\u001b[0margs\u001b[0m\u001b[0;34m.\u001b[0m\u001b[0mgradient_accumulation_steps\u001b[0m \u001b[0;34m>\u001b[0m \u001b[0;36m1\u001b[0m\u001b[0;34m:\u001b[0m\u001b[0;34m\u001b[0m\u001b[0;34m\u001b[0m\u001b[0m\n",
      "\u001b[0;32m~/anaconda3/envs/pytorch_p36/lib/python3.6/traceback.py\u001b[0m in \u001b[0;36mformat_stack\u001b[0;34m(f, limit)\u001b[0m\n\u001b[1;32m    195\u001b[0m     \u001b[0;32mif\u001b[0m \u001b[0mf\u001b[0m \u001b[0;32mis\u001b[0m \u001b[0;32mNone\u001b[0m\u001b[0;34m:\u001b[0m\u001b[0;34m\u001b[0m\u001b[0;34m\u001b[0m\u001b[0m\n\u001b[1;32m    196\u001b[0m         \u001b[0mf\u001b[0m \u001b[0;34m=\u001b[0m \u001b[0msys\u001b[0m\u001b[0;34m.\u001b[0m\u001b[0m_getframe\u001b[0m\u001b[0;34m(\u001b[0m\u001b[0;34m)\u001b[0m\u001b[0;34m.\u001b[0m\u001b[0mf_back\u001b[0m\u001b[0;34m\u001b[0m\u001b[0;34m\u001b[0m\u001b[0m\n\u001b[0;32m--> 197\u001b[0;31m     \u001b[0;32mreturn\u001b[0m \u001b[0mformat_list\u001b[0m\u001b[0;34m(\u001b[0m\u001b[0mextract_stack\u001b[0m\u001b[0;34m(\u001b[0m\u001b[0mf\u001b[0m\u001b[0;34m,\u001b[0m \u001b[0mlimit\u001b[0m\u001b[0;34m=\u001b[0m\u001b[0mlimit\u001b[0m\u001b[0;34m)\u001b[0m\u001b[0;34m)\u001b[0m\u001b[0;34m\u001b[0m\u001b[0;34m\u001b[0m\u001b[0m\n\u001b[0m\u001b[1;32m    198\u001b[0m \u001b[0;34m\u001b[0m\u001b[0m\n\u001b[1;32m    199\u001b[0m \u001b[0;34m\u001b[0m\u001b[0m\n",
      "\u001b[0;32m~/anaconda3/envs/pytorch_p36/lib/python3.6/traceback.py\u001b[0m in \u001b[0;36mformat_list\u001b[0;34m(extracted_list)\u001b[0m\n\u001b[1;32m     37\u001b[0m     \u001b[0mwhose\u001b[0m \u001b[0msource\u001b[0m \u001b[0mtext\u001b[0m \u001b[0mline\u001b[0m \u001b[0;32mis\u001b[0m \u001b[0;32mnot\u001b[0m \u001b[0;32mNone\u001b[0m\u001b[0;34m.\u001b[0m\u001b[0;34m\u001b[0m\u001b[0;34m\u001b[0m\u001b[0m\n\u001b[1;32m     38\u001b[0m     \"\"\"\n\u001b[0;32m---> 39\u001b[0;31m     \u001b[0;32mreturn\u001b[0m \u001b[0mStackSummary\u001b[0m\u001b[0;34m.\u001b[0m\u001b[0mfrom_list\u001b[0m\u001b[0;34m(\u001b[0m\u001b[0mextracted_list\u001b[0m\u001b[0;34m)\u001b[0m\u001b[0;34m.\u001b[0m\u001b[0mformat\u001b[0m\u001b[0;34m(\u001b[0m\u001b[0;34m)\u001b[0m\u001b[0;34m\u001b[0m\u001b[0;34m\u001b[0m\u001b[0m\n\u001b[0m\u001b[1;32m     40\u001b[0m \u001b[0;34m\u001b[0m\u001b[0m\n\u001b[1;32m     41\u001b[0m \u001b[0;31m#\u001b[0m\u001b[0;34m\u001b[0m\u001b[0;34m\u001b[0m\u001b[0;34m\u001b[0m\u001b[0m\n",
      "\u001b[0;32m~/anaconda3/envs/pytorch_p36/lib/python3.6/traceback.py\u001b[0m in \u001b[0;36mformat\u001b[0;34m(self)\u001b[0m\n\u001b[1;32m    426\u001b[0m                 \u001b[0;32mfor\u001b[0m \u001b[0mname\u001b[0m\u001b[0;34m,\u001b[0m \u001b[0mvalue\u001b[0m \u001b[0;32min\u001b[0m \u001b[0msorted\u001b[0m\u001b[0;34m(\u001b[0m\u001b[0mframe\u001b[0m\u001b[0;34m.\u001b[0m\u001b[0mlocals\u001b[0m\u001b[0;34m.\u001b[0m\u001b[0mitems\u001b[0m\u001b[0;34m(\u001b[0m\u001b[0;34m)\u001b[0m\u001b[0;34m)\u001b[0m\u001b[0;34m:\u001b[0m\u001b[0;34m\u001b[0m\u001b[0;34m\u001b[0m\u001b[0m\n\u001b[1;32m    427\u001b[0m                     \u001b[0mrow\u001b[0m\u001b[0;34m.\u001b[0m\u001b[0mappend\u001b[0m\u001b[0;34m(\u001b[0m\u001b[0;34m'    {name} = {value}\\n'\u001b[0m\u001b[0;34m.\u001b[0m\u001b[0mformat\u001b[0m\u001b[0;34m(\u001b[0m\u001b[0mname\u001b[0m\u001b[0;34m=\u001b[0m\u001b[0mname\u001b[0m\u001b[0;34m,\u001b[0m \u001b[0mvalue\u001b[0m\u001b[0;34m=\u001b[0m\u001b[0mvalue\u001b[0m\u001b[0;34m)\u001b[0m\u001b[0;34m)\u001b[0m\u001b[0;34m\u001b[0m\u001b[0;34m\u001b[0m\u001b[0m\n\u001b[0;32m--> 428\u001b[0;31m             \u001b[0mresult\u001b[0m\u001b[0;34m.\u001b[0m\u001b[0mappend\u001b[0m\u001b[0;34m(\u001b[0m\u001b[0;34m''\u001b[0m\u001b[0;34m.\u001b[0m\u001b[0mjoin\u001b[0m\u001b[0;34m(\u001b[0m\u001b[0mrow\u001b[0m\u001b[0;34m)\u001b[0m\u001b[0;34m)\u001b[0m\u001b[0;34m\u001b[0m\u001b[0;34m\u001b[0m\u001b[0m\n\u001b[0m\u001b[1;32m    429\u001b[0m         \u001b[0;32mif\u001b[0m \u001b[0mcount\u001b[0m \u001b[0;34m>\u001b[0m \u001b[0m_RECURSIVE_CUTOFF\u001b[0m\u001b[0;34m:\u001b[0m\u001b[0;34m\u001b[0m\u001b[0;34m\u001b[0m\u001b[0m\n\u001b[1;32m    430\u001b[0m             \u001b[0mcount\u001b[0m \u001b[0;34m-=\u001b[0m \u001b[0m_RECURSIVE_CUTOFF\u001b[0m\u001b[0;34m\u001b[0m\u001b[0;34m\u001b[0m\u001b[0m\n",
      "\u001b[0;31mKeyboardInterrupt\u001b[0m: "
     ]
    }
   ],
   "source": [
    "from transformers import Trainer, TrainingArguments\n",
    "model = IRTNet(D_in, num_users)\n",
    "args = TrainingArguments(num_train_epochs=200, output_dir=\"../../../../tmp\", learning_rate=0.001, disable_tqdm=False, logging_steps=1000, evaluation_strategy=\"steps\")\n",
    "\n",
    "trainer = Trainer(model=model, train_dataset=train, args=args, eval_dataset=test, compute_metrics=do_metrics)\n",
    "trainer.train()"
   ]
  },
  {
   "cell_type": "code",
   "execution_count": 37,
   "metadata": {},
   "outputs": [],
   "source": [
    "res = trainer.predict(test)"
   ]
  },
  {
   "cell_type": "code",
   "execution_count": 38,
   "metadata": {},
   "outputs": [
    {
     "data": {
      "text/plain": [
       "PredictionOutput(predictions=(array([[0.81114924],\n",
       "       [0.70171684],\n",
       "       [0.6631853 ],\n",
       "       ...,\n",
       "       [0.77978784],\n",
       "       [0.65342414],\n",
       "       [0.9524509 ]], dtype=float32), array([[ 0.29968414],\n",
       "       [ 0.29968414],\n",
       "       [ 0.12171861],\n",
       "       ...,\n",
       "       [-0.16346638],\n",
       "       [-0.79377156],\n",
       "       [ 1.5693771 ]], dtype=float32)), label_ids=array([1, 0, 0, ..., 0, 1, 1]), metrics={'eval_loss': 0.5182624459266663, 'eval_macro_f1': 0.6502832621256893, 'eval_micro_f1': 0.7312925170068028, 'eval_pos_f1': 0.8185993111366247, 'eval_accuracy': 0.7312925170068028})"
      ]
     },
     "execution_count": 38,
     "metadata": {},
     "output_type": "execute_result"
    }
   ],
   "source": [
    "res"
   ]
  },
  {
   "cell_type": "code",
   "execution_count": null,
   "metadata": {},
   "outputs": [],
   "source": []
  }
 ],
 "metadata": {
  "kernelspec": {
   "display_name": "Python 3 (ipykernel)",
   "language": "python",
   "name": "python3"
  },
  "language_info": {
   "codemirror_mode": {
    "name": "ipython",
    "version": 3
   },
   "file_extension": ".py",
   "mimetype": "text/x-python",
   "name": "python",
   "nbconvert_exporter": "python",
   "pygments_lexer": "ipython3",
   "version": "3.9.7"
  }
 },
 "nbformat": 4,
 "nbformat_minor": 4
}
