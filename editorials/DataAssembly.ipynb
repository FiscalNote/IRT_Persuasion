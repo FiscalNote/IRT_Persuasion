{
 "cells": [
  {
   "cell_type": "code",
   "execution_count": 3,
   "metadata": {},
   "outputs": [],
   "source": [
    "import sys\n",
    "sys.path.append(\"..\")\n",
    "%load_ext autoreload\n",
    "%autoreload 2"
   ]
  },
  {
   "cell_type": "code",
   "execution_count": 4,
   "metadata": {},
   "outputs": [],
   "source": [
    "import pandas as pd"
   ]
  },
  {
   "cell_type": "markdown",
   "metadata": {},
   "source": [
    "## Basic Set-up\n",
    "\n",
    "Load and transform the raw data into format for training.\n"
   ]
  },
  {
   "cell_type": "code",
   "execution_count": 1,
   "metadata": {},
   "outputs": [],
   "source": [
    "PREFIX = '../data'"
   ]
  },
  {
   "cell_type": "code",
   "execution_count": 90,
   "metadata": {},
   "outputs": [],
   "source": [
    "users = pd.read_csv(f'{PREFIX}/corpus-webis-editorial-quality-18/corpus-webis-editorial-quality-18_annotators-personality-traits.csv')"
   ]
  },
  {
   "cell_type": "code",
   "execution_count": 91,
   "metadata": {},
   "outputs": [],
   "source": [
    "users = users.reset_index()"
   ]
  },
  {
   "cell_type": "code",
   "execution_count": 95,
   "metadata": {},
   "outputs": [],
   "source": [
    "ann_id_map = dict(users[['id', 'index']].values)"
   ]
  },
  {
   "cell_type": "code",
   "execution_count": 7,
   "metadata": {},
   "outputs": [],
   "source": [
    "vote_data = pd.read_json(f'{PREFIX}/corpus-webis-editorial-quality-18.json')"
   ]
  },
  {
   "cell_type": "code",
   "execution_count": 129,
   "metadata": {},
   "outputs": [],
   "source": [
    "# Add a numeric ID to better work with embeddings\n",
    "vote_data['user_id'] = vote_data.annotator_id.map(ann_id_map)"
   ]
  },
  {
   "cell_type": "code",
   "execution_count": 130,
   "metadata": {},
   "outputs": [],
   "source": [
    "vote_data['doc_id'] = vote_data.article_id.map(lambda x: int(x.replace('.txt', '')))"
   ]
  },
  {
   "cell_type": "code",
   "execution_count": 131,
   "metadata": {},
   "outputs": [],
   "source": [
    "# Set-up potential labels\n",
    "vote_data['y_bin_effect'] = vote_data['effect_abstracted'] != 2\n",
    "vote_data['y_three_class'] = vote_data['effect_abstracted']"
   ]
  },
  {
   "cell_type": "code",
   "execution_count": 132,
   "metadata": {},
   "outputs": [],
   "source": [
    "# Handle duplicate articles\n",
    "vote_data = vote_data[vote_data.doc_id.isin(raw_text_data.idx)]"
   ]
  },
  {
   "cell_type": "code",
   "execution_count": 133,
   "metadata": {},
   "outputs": [],
   "source": [
    "vote_data.to_csv('/home/ec2-user/final_paper_data_v2/editorials/vote_data.csv')"
   ]
  },
  {
   "cell_type": "code",
   "execution_count": 9,
   "metadata": {},
   "outputs": [],
   "source": [
    "raw_text_data = pd.read_json(f'{PREFIX}/articles_with_majority_adus.json')"
   ]
  },
  {
   "cell_type": "code",
   "execution_count": 10,
   "metadata": {},
   "outputs": [
    {
     "data": {
      "text/html": [
       "<div>\n",
       "<style scoped>\n",
       "    .dataframe tbody tr th:only-of-type {\n",
       "        vertical-align: middle;\n",
       "    }\n",
       "\n",
       "    .dataframe tbody tr th {\n",
       "        vertical-align: top;\n",
       "    }\n",
       "\n",
       "    .dataframe thead th {\n",
       "        text-align: right;\n",
       "    }\n",
       "</style>\n",
       "<table border=\"1\" class=\"dataframe\">\n",
       "  <thead>\n",
       "    <tr style=\"text-align: right;\">\n",
       "      <th></th>\n",
       "      <th>idx</th>\n",
       "      <th>ids</th>\n",
       "      <th>split_label</th>\n",
       "      <th>liberal_majority</th>\n",
       "      <th>content</th>\n",
       "      <th>adu_anecdote</th>\n",
       "      <th>adu_other</th>\n",
       "      <th>adu_statistics</th>\n",
       "      <th>adu_testimony</th>\n",
       "      <th>conservative_majority</th>\n",
       "    </tr>\n",
       "  </thead>\n",
       "  <tbody>\n",
       "    <tr>\n",
       "      <th>0</th>\n",
       "      <td>1851784</td>\n",
       "      <td>1851784</td>\n",
       "      <td>test</td>\n",
       "      <td>no_effect</td>\n",
       "      <td>''The familiar and the fancy are combined to s...</td>\n",
       "      <td>8</td>\n",
       "      <td>9</td>\n",
       "      <td>1</td>\n",
       "      <td>2</td>\n",
       "      <td>no_effect</td>\n",
       "    </tr>\n",
       "    <tr>\n",
       "      <th>1</th>\n",
       "      <td>1845399</td>\n",
       "      <td>1845399</td>\n",
       "      <td>test</td>\n",
       "      <td>reinforcing</td>\n",
       "      <td>A $141,000 salary seems generous, but for judg...</td>\n",
       "      <td>8</td>\n",
       "      <td>13</td>\n",
       "      <td>1</td>\n",
       "      <td>0</td>\n",
       "      <td>reinforcing</td>\n",
       "    </tr>\n",
       "    <tr>\n",
       "      <th>2</th>\n",
       "      <td>1677322</td>\n",
       "      <td>1677322</td>\n",
       "      <td>train</td>\n",
       "      <td>reinforcing</td>\n",
       "      <td>A State Supreme Court judge yesterday removed ...</td>\n",
       "      <td>12</td>\n",
       "      <td>11</td>\n",
       "      <td>0</td>\n",
       "      <td>1</td>\n",
       "      <td>challenging</td>\n",
       "    </tr>\n",
       "    <tr>\n",
       "      <th>3</th>\n",
       "      <td>1818732</td>\n",
       "      <td>1818732</td>\n",
       "      <td>train</td>\n",
       "      <td>reinforcing</td>\n",
       "      <td>A battle between Yonkers and its neighbors ove...</td>\n",
       "      <td>7</td>\n",
       "      <td>8</td>\n",
       "      <td>0</td>\n",
       "      <td>0</td>\n",
       "      <td>no_effect</td>\n",
       "    </tr>\n",
       "    <tr>\n",
       "      <th>4</th>\n",
       "      <td>1844646</td>\n",
       "      <td>1844646</td>\n",
       "      <td>test</td>\n",
       "      <td>reinforcing</td>\n",
       "      <td>A bill headed for a vote in the Senate would u...</td>\n",
       "      <td>9</td>\n",
       "      <td>11</td>\n",
       "      <td>1</td>\n",
       "      <td>2</td>\n",
       "      <td>challenging</td>\n",
       "    </tr>\n",
       "  </tbody>\n",
       "</table>\n",
       "</div>"
      ],
      "text/plain": [
       "       idx      ids split_label liberal_majority  \\\n",
       "0  1851784  1851784        test        no_effect   \n",
       "1  1845399  1845399        test      reinforcing   \n",
       "2  1677322  1677322       train      reinforcing   \n",
       "3  1818732  1818732       train      reinforcing   \n",
       "4  1844646  1844646        test      reinforcing   \n",
       "\n",
       "                                             content  adu_anecdote  adu_other  \\\n",
       "0  ''The familiar and the fancy are combined to s...             8          9   \n",
       "1  A $141,000 salary seems generous, but for judg...             8         13   \n",
       "2  A State Supreme Court judge yesterday removed ...            12         11   \n",
       "3  A battle between Yonkers and its neighbors ove...             7          8   \n",
       "4  A bill headed for a vote in the Senate would u...             9         11   \n",
       "\n",
       "   adu_statistics  adu_testimony conservative_majority  \n",
       "0               1              2             no_effect  \n",
       "1               1              0           reinforcing  \n",
       "2               0              1           challenging  \n",
       "3               0              0             no_effect  \n",
       "4               1              2           challenging  "
      ]
     },
     "execution_count": 10,
     "metadata": {},
     "output_type": "execute_result"
    }
   ],
   "source": [
    "raw_text_data.head()"
   ]
  },
  {
   "cell_type": "markdown",
   "metadata": {},
   "source": [
    "# Text Features\n",
    "\n",
    "## Style Features\n",
    "\n",
    "First separate out content and run through the LIWC 2015 engine"
   ]
  },
  {
   "cell_type": "code",
   "execution_count": 11,
   "metadata": {},
   "outputs": [],
   "source": [
    "raw_text_data[['idx', 'content']].to_csv('just_text.csv')"
   ]
  },
  {
   "cell_type": "code",
   "execution_count": 12,
   "metadata": {},
   "outputs": [],
   "source": [
    "liwc_data = pd.read_csv('LIWC2015 Results (just_text).csv', index_col=1)"
   ]
  },
  {
   "cell_type": "code",
   "execution_count": 13,
   "metadata": {},
   "outputs": [],
   "source": [
    "# Annotate column names with LIWC\n",
    "liwc_data.drop('Source (C)', inplace=True, axis=1)\n",
    "liwc_data.drop('Source (A)', inplace=True, axis=1)"
   ]
  },
  {
   "cell_type": "code",
   "execution_count": 14,
   "metadata": {},
   "outputs": [
    {
     "data": {
      "text/html": [
       "<div>\n",
       "<style scoped>\n",
       "    .dataframe tbody tr th:only-of-type {\n",
       "        vertical-align: middle;\n",
       "    }\n",
       "\n",
       "    .dataframe tbody tr th {\n",
       "        vertical-align: top;\n",
       "    }\n",
       "\n",
       "    .dataframe thead th {\n",
       "        text-align: right;\n",
       "    }\n",
       "</style>\n",
       "<table border=\"1\" class=\"dataframe\">\n",
       "  <thead>\n",
       "    <tr style=\"text-align: right;\">\n",
       "      <th></th>\n",
       "      <th>liwc_wc</th>\n",
       "      <th>liwc_analytic</th>\n",
       "      <th>liwc_clout</th>\n",
       "      <th>liwc_authentic</th>\n",
       "      <th>liwc_tone</th>\n",
       "      <th>liwc_wps</th>\n",
       "      <th>liwc_sixltr</th>\n",
       "      <th>liwc_dic</th>\n",
       "      <th>liwc_function</th>\n",
       "      <th>liwc_pronoun</th>\n",
       "      <th>...</th>\n",
       "      <th>liwc_comma</th>\n",
       "      <th>liwc_colon</th>\n",
       "      <th>liwc_semic</th>\n",
       "      <th>liwc_qmark</th>\n",
       "      <th>liwc_exclam</th>\n",
       "      <th>liwc_dash</th>\n",
       "      <th>liwc_quote</th>\n",
       "      <th>liwc_apostro</th>\n",
       "      <th>liwc_parenth</th>\n",
       "      <th>liwc_otherp</th>\n",
       "    </tr>\n",
       "    <tr>\n",
       "      <th>Source (B)</th>\n",
       "      <th></th>\n",
       "      <th></th>\n",
       "      <th></th>\n",
       "      <th></th>\n",
       "      <th></th>\n",
       "      <th></th>\n",
       "      <th></th>\n",
       "      <th></th>\n",
       "      <th></th>\n",
       "      <th></th>\n",
       "      <th></th>\n",
       "      <th></th>\n",
       "      <th></th>\n",
       "      <th></th>\n",
       "      <th></th>\n",
       "      <th></th>\n",
       "      <th></th>\n",
       "      <th></th>\n",
       "      <th></th>\n",
       "      <th></th>\n",
       "      <th></th>\n",
       "    </tr>\n",
       "  </thead>\n",
       "  <tbody>\n",
       "    <tr>\n",
       "      <th>1851784</th>\n",
       "      <td>462</td>\n",
       "      <td>86.99</td>\n",
       "      <td>73.49</td>\n",
       "      <td>4.86</td>\n",
       "      <td>41.42</td>\n",
       "      <td>25.67</td>\n",
       "      <td>29.22</td>\n",
       "      <td>71.65</td>\n",
       "      <td>46.32</td>\n",
       "      <td>9.52</td>\n",
       "      <td>...</td>\n",
       "      <td>4.76</td>\n",
       "      <td>0.22</td>\n",
       "      <td>0.00</td>\n",
       "      <td>0.00</td>\n",
       "      <td>0.0</td>\n",
       "      <td>2.38</td>\n",
       "      <td>0.0</td>\n",
       "      <td>5.19</td>\n",
       "      <td>1.30</td>\n",
       "      <td>0.22</td>\n",
       "    </tr>\n",
       "    <tr>\n",
       "      <th>1845399</th>\n",
       "      <td>529</td>\n",
       "      <td>92.72</td>\n",
       "      <td>46.22</td>\n",
       "      <td>27.39</td>\n",
       "      <td>39.27</td>\n",
       "      <td>25.19</td>\n",
       "      <td>22.50</td>\n",
       "      <td>78.45</td>\n",
       "      <td>43.29</td>\n",
       "      <td>5.29</td>\n",
       "      <td>...</td>\n",
       "      <td>7.94</td>\n",
       "      <td>0.00</td>\n",
       "      <td>0.19</td>\n",
       "      <td>0.19</td>\n",
       "      <td>0.0</td>\n",
       "      <td>0.95</td>\n",
       "      <td>0.0</td>\n",
       "      <td>2.65</td>\n",
       "      <td>0.00</td>\n",
       "      <td>1.51</td>\n",
       "    </tr>\n",
       "    <tr>\n",
       "      <th>1677322</th>\n",
       "      <td>478</td>\n",
       "      <td>96.57</td>\n",
       "      <td>49.16</td>\n",
       "      <td>7.47</td>\n",
       "      <td>32.97</td>\n",
       "      <td>20.78</td>\n",
       "      <td>25.94</td>\n",
       "      <td>75.52</td>\n",
       "      <td>43.72</td>\n",
       "      <td>3.56</td>\n",
       "      <td>...</td>\n",
       "      <td>4.81</td>\n",
       "      <td>0.21</td>\n",
       "      <td>0.00</td>\n",
       "      <td>0.00</td>\n",
       "      <td>0.0</td>\n",
       "      <td>3.35</td>\n",
       "      <td>0.0</td>\n",
       "      <td>2.93</td>\n",
       "      <td>0.42</td>\n",
       "      <td>0.84</td>\n",
       "    </tr>\n",
       "    <tr>\n",
       "      <th>1818732</th>\n",
       "      <td>439</td>\n",
       "      <td>94.80</td>\n",
       "      <td>58.99</td>\n",
       "      <td>33.54</td>\n",
       "      <td>29.58</td>\n",
       "      <td>31.36</td>\n",
       "      <td>25.51</td>\n",
       "      <td>77.22</td>\n",
       "      <td>45.10</td>\n",
       "      <td>6.38</td>\n",
       "      <td>...</td>\n",
       "      <td>6.15</td>\n",
       "      <td>0.00</td>\n",
       "      <td>0.00</td>\n",
       "      <td>0.00</td>\n",
       "      <td>0.0</td>\n",
       "      <td>2.28</td>\n",
       "      <td>0.0</td>\n",
       "      <td>0.91</td>\n",
       "      <td>0.46</td>\n",
       "      <td>0.46</td>\n",
       "    </tr>\n",
       "    <tr>\n",
       "      <th>1844646</th>\n",
       "      <td>541</td>\n",
       "      <td>97.45</td>\n",
       "      <td>50.00</td>\n",
       "      <td>8.48</td>\n",
       "      <td>22.90</td>\n",
       "      <td>19.32</td>\n",
       "      <td>23.29</td>\n",
       "      <td>84.66</td>\n",
       "      <td>46.77</td>\n",
       "      <td>5.55</td>\n",
       "      <td>...</td>\n",
       "      <td>2.96</td>\n",
       "      <td>0.55</td>\n",
       "      <td>0.00</td>\n",
       "      <td>0.00</td>\n",
       "      <td>0.0</td>\n",
       "      <td>0.74</td>\n",
       "      <td>0.0</td>\n",
       "      <td>1.48</td>\n",
       "      <td>0.00</td>\n",
       "      <td>0.00</td>\n",
       "    </tr>\n",
       "  </tbody>\n",
       "</table>\n",
       "<p>5 rows × 93 columns</p>\n",
       "</div>"
      ],
      "text/plain": [
       "            liwc_wc  liwc_analytic  liwc_clout  liwc_authentic  liwc_tone  \\\n",
       "Source (B)                                                                  \n",
       "1851784         462          86.99       73.49            4.86      41.42   \n",
       "1845399         529          92.72       46.22           27.39      39.27   \n",
       "1677322         478          96.57       49.16            7.47      32.97   \n",
       "1818732         439          94.80       58.99           33.54      29.58   \n",
       "1844646         541          97.45       50.00            8.48      22.90   \n",
       "\n",
       "            liwc_wps  liwc_sixltr  liwc_dic  liwc_function  liwc_pronoun  ...  \\\n",
       "Source (B)                                                                ...   \n",
       "1851784        25.67        29.22     71.65          46.32          9.52  ...   \n",
       "1845399        25.19        22.50     78.45          43.29          5.29  ...   \n",
       "1677322        20.78        25.94     75.52          43.72          3.56  ...   \n",
       "1818732        31.36        25.51     77.22          45.10          6.38  ...   \n",
       "1844646        19.32        23.29     84.66          46.77          5.55  ...   \n",
       "\n",
       "            liwc_comma  liwc_colon  liwc_semic  liwc_qmark  liwc_exclam  \\\n",
       "Source (B)                                                                \n",
       "1851784           4.76        0.22        0.00        0.00          0.0   \n",
       "1845399           7.94        0.00        0.19        0.19          0.0   \n",
       "1677322           4.81        0.21        0.00        0.00          0.0   \n",
       "1818732           6.15        0.00        0.00        0.00          0.0   \n",
       "1844646           2.96        0.55        0.00        0.00          0.0   \n",
       "\n",
       "            liwc_dash  liwc_quote  liwc_apostro  liwc_parenth  liwc_otherp  \n",
       "Source (B)                                                                  \n",
       "1851784          2.38         0.0          5.19          1.30         0.22  \n",
       "1845399          0.95         0.0          2.65          0.00         1.51  \n",
       "1677322          3.35         0.0          2.93          0.42         0.84  \n",
       "1818732          2.28         0.0          0.91          0.46         0.46  \n",
       "1844646          0.74         0.0          1.48          0.00         0.00  \n",
       "\n",
       "[5 rows x 93 columns]"
      ]
     },
     "execution_count": 14,
     "metadata": {},
     "output_type": "execute_result"
    }
   ],
   "source": [
    "liwc_data.columns = [f'liwc_{c.lower()}' for c in liwc_data.columns]\n",
    "liwc_data.head()"
   ]
  },
  {
   "cell_type": "markdown",
   "metadata": {},
   "source": [
    "Next, we run the custom spacy library that adds in NRC, \"CMV\" and MRPC style features. It will, also, produce the raw lemmas that can be used for future analysis. Specific data sources can be found in the `smart_spacy` code file."
   ]
  },
  {
   "cell_type": "code",
   "execution_count": 15,
   "metadata": {},
   "outputs": [],
   "source": [
    "from irt_lib.smart_spacy import load_custom_spacy, get_style_features"
   ]
  },
  {
   "cell_type": "code",
   "execution_count": 31,
   "metadata": {},
   "outputs": [],
   "source": [
    "nlp = load_custom_spacy()"
   ]
  },
  {
   "cell_type": "code",
   "execution_count": 40,
   "metadata": {},
   "outputs": [],
   "source": [
    "final_features = []\n",
    "\n",
    "for doc in raw_text_data.content:\n",
    "    feat = get_style_features(doc, nlp)\n",
    "    final_features.append(feat)\n",
    "    "
   ]
  },
  {
   "cell_type": "code",
   "execution_count": 44,
   "metadata": {},
   "outputs": [],
   "source": [
    "spacy_features = pd.DataFrame(final_features).fillna(0)"
   ]
  },
  {
   "cell_type": "code",
   "execution_count": 48,
   "metadata": {},
   "outputs": [],
   "source": [
    "liwc_data = liwc_data.reset_index()"
   ]
  },
  {
   "cell_type": "code",
   "execution_count": 74,
   "metadata": {},
   "outputs": [],
   "source": [
    "all_style_data = pd.concat([ liwc_data, spacy_features], axis=1)\n",
    "all_style_data = all_style_data.rename(columns={'Source (B)': 'doc_idx'})\n",
    "all_style_data = all_style_data.set_index('doc_idx')"
   ]
  },
  {
   "cell_type": "code",
   "execution_count": 77,
   "metadata": {},
   "outputs": [],
   "source": [
    "all_style_data = all_style_data.drop('lemmas', axis=1)"
   ]
  },
  {
   "cell_type": "code",
   "execution_count": 78,
   "metadata": {},
   "outputs": [],
   "source": [
    "all_style_data.to_csv('/home/ec2-user/final_paper_data_v2/editorials/style.csv')"
   ]
  },
  {
   "cell_type": "code",
   "execution_count": 60,
   "metadata": {},
   "outputs": [],
   "source": [
    "from sklearn.preprocessing import StandardScaler"
   ]
  },
  {
   "cell_type": "code",
   "execution_count": 79,
   "metadata": {},
   "outputs": [],
   "source": [
    "ss = StandardScaler()"
   ]
  },
  {
   "cell_type": "code",
   "execution_count": 80,
   "metadata": {},
   "outputs": [],
   "source": [
    "vals = all_style_data.values\n",
    "vals2 = ss.fit_transform(vals)"
   ]
  },
  {
   "cell_type": "code",
   "execution_count": 83,
   "metadata": {},
   "outputs": [],
   "source": [
    "all_style_data_v2 = pd.DataFrame(vals2, index=all_style_data.index, columns=all_style_data.columns)\n",
    "all_style_data_v2.columns = [f'{x}_scaled' for x in all_style_data_v2.columns]"
   ]
  },
  {
   "cell_type": "code",
   "execution_count": 85,
   "metadata": {},
   "outputs": [],
   "source": [
    "all_style_data_v2.to_csv('/home/ec2-user/final_paper_data_v2/editorials/style_scaled.csv')"
   ]
  },
  {
   "cell_type": "code",
   "execution_count": 143,
   "metadata": {},
   "outputs": [
    {
     "data": {
      "text/html": [
       "<div>\n",
       "<style scoped>\n",
       "    .dataframe tbody tr th:only-of-type {\n",
       "        vertical-align: middle;\n",
       "    }\n",
       "\n",
       "    .dataframe tbody tr th {\n",
       "        vertical-align: top;\n",
       "    }\n",
       "\n",
       "    .dataframe thead th {\n",
       "        text-align: right;\n",
       "    }\n",
       "</style>\n",
       "<table border=\"1\" class=\"dataframe\">\n",
       "  <thead>\n",
       "    <tr style=\"text-align: right;\">\n",
       "      <th></th>\n",
       "      <th>liwc_wc_scaled</th>\n",
       "      <th>liwc_analytic_scaled</th>\n",
       "      <th>liwc_clout_scaled</th>\n",
       "      <th>liwc_authentic_scaled</th>\n",
       "      <th>liwc_tone_scaled</th>\n",
       "      <th>liwc_wps_scaled</th>\n",
       "      <th>liwc_sixltr_scaled</th>\n",
       "      <th>liwc_dic_scaled</th>\n",
       "      <th>liwc_function_scaled</th>\n",
       "      <th>liwc_pronoun_scaled</th>\n",
       "      <th>...</th>\n",
       "      <th>mpqa_priority_scaled</th>\n",
       "      <th>mpqa_structure_scaled</th>\n",
       "      <th>mpqa_inconsistency_scaled</th>\n",
       "      <th>mpqa_difficulty_scaled</th>\n",
       "      <th>mpqa_possibility_scaled</th>\n",
       "      <th>mpqa_authority_scaled</th>\n",
       "      <th>mpqa_generalization_scaled</th>\n",
       "      <th>mpqa_doubt_scaled</th>\n",
       "      <th>mpqa_rhetoricalquestion_scaled</th>\n",
       "      <th>mpqa_wants_scaled</th>\n",
       "    </tr>\n",
       "    <tr>\n",
       "      <th>doc_idx</th>\n",
       "      <th></th>\n",
       "      <th></th>\n",
       "      <th></th>\n",
       "      <th></th>\n",
       "      <th></th>\n",
       "      <th></th>\n",
       "      <th></th>\n",
       "      <th></th>\n",
       "      <th></th>\n",
       "      <th></th>\n",
       "      <th></th>\n",
       "      <th></th>\n",
       "      <th></th>\n",
       "      <th></th>\n",
       "      <th></th>\n",
       "      <th></th>\n",
       "      <th></th>\n",
       "      <th></th>\n",
       "      <th></th>\n",
       "      <th></th>\n",
       "      <th></th>\n",
       "    </tr>\n",
       "  </thead>\n",
       "  <tbody>\n",
       "    <tr>\n",
       "      <th>1851784</th>\n",
       "      <td>-0.381421</td>\n",
       "      <td>-1.014132</td>\n",
       "      <td>1.584051</td>\n",
       "      <td>-1.087942</td>\n",
       "      <td>0.179599</td>\n",
       "      <td>0.832142</td>\n",
       "      <td>0.965911</td>\n",
       "      <td>-2.020109</td>\n",
       "      <td>0.500657</td>\n",
       "      <td>1.402228</td>\n",
       "      <td>...</td>\n",
       "      <td>-0.845749</td>\n",
       "      <td>-0.587886</td>\n",
       "      <td>-0.838681</td>\n",
       "      <td>-0.260534</td>\n",
       "      <td>-0.443580</td>\n",
       "      <td>-0.298308</td>\n",
       "      <td>-0.231994</td>\n",
       "      <td>-0.128898</td>\n",
       "      <td>-0.090769</td>\n",
       "      <td>-0.136859</td>\n",
       "    </tr>\n",
       "    <tr>\n",
       "      <th>1845399</th>\n",
       "      <td>0.891529</td>\n",
       "      <td>0.117533</td>\n",
       "      <td>-1.247757</td>\n",
       "      <td>0.624055</td>\n",
       "      <td>0.091401</td>\n",
       "      <td>0.702190</td>\n",
       "      <td>-1.062379</td>\n",
       "      <td>-0.165715</td>\n",
       "      <td>-0.613263</td>\n",
       "      <td>-0.987831</td>\n",
       "      <td>...</td>\n",
       "      <td>-0.845749</td>\n",
       "      <td>-0.587886</td>\n",
       "      <td>-0.838681</td>\n",
       "      <td>-0.260534</td>\n",
       "      <td>-0.443580</td>\n",
       "      <td>-0.298308</td>\n",
       "      <td>-0.231994</td>\n",
       "      <td>-0.128898</td>\n",
       "      <td>-0.090769</td>\n",
       "      <td>-0.136859</td>\n",
       "    </tr>\n",
       "    <tr>\n",
       "      <th>1677322</th>\n",
       "      <td>-0.077433</td>\n",
       "      <td>0.877901</td>\n",
       "      <td>-0.942457</td>\n",
       "      <td>-0.889615</td>\n",
       "      <td>-0.167042</td>\n",
       "      <td>-0.491741</td>\n",
       "      <td>-0.024088</td>\n",
       "      <td>-0.964741</td>\n",
       "      <td>-0.455182</td>\n",
       "      <td>-1.965326</td>\n",
       "      <td>...</td>\n",
       "      <td>1.186124</td>\n",
       "      <td>-0.587886</td>\n",
       "      <td>-0.838681</td>\n",
       "      <td>-0.260534</td>\n",
       "      <td>-0.443580</td>\n",
       "      <td>-0.298308</td>\n",
       "      <td>-0.231994</td>\n",
       "      <td>-0.128898</td>\n",
       "      <td>-0.090769</td>\n",
       "      <td>-0.136859</td>\n",
       "    </tr>\n",
       "    <tr>\n",
       "      <th>1818732</th>\n",
       "      <td>-0.818405</td>\n",
       "      <td>0.528329</td>\n",
       "      <td>0.078323</td>\n",
       "      <td>1.091378</td>\n",
       "      <td>-0.306109</td>\n",
       "      <td>2.372610</td>\n",
       "      <td>-0.153874</td>\n",
       "      <td>-0.501142</td>\n",
       "      <td>0.052148</td>\n",
       "      <td>-0.371953</td>\n",
       "      <td>...</td>\n",
       "      <td>-0.845749</td>\n",
       "      <td>-0.587886</td>\n",
       "      <td>-0.838681</td>\n",
       "      <td>-0.260534</td>\n",
       "      <td>-0.443580</td>\n",
       "      <td>-0.298308</td>\n",
       "      <td>-0.231994</td>\n",
       "      <td>-0.128898</td>\n",
       "      <td>-0.090769</td>\n",
       "      <td>-0.136859</td>\n",
       "    </tr>\n",
       "    <tr>\n",
       "      <th>1844646</th>\n",
       "      <td>1.119521</td>\n",
       "      <td>1.051699</td>\n",
       "      <td>-0.855229</td>\n",
       "      <td>-0.812868</td>\n",
       "      <td>-0.580141</td>\n",
       "      <td>-0.887010</td>\n",
       "      <td>-0.823934</td>\n",
       "      <td>1.527783</td>\n",
       "      <td>0.666091</td>\n",
       "      <td>-0.840925</td>\n",
       "      <td>...</td>\n",
       "      <td>1.186124</td>\n",
       "      <td>1.140464</td>\n",
       "      <td>0.651462</td>\n",
       "      <td>3.604053</td>\n",
       "      <td>-0.443580</td>\n",
       "      <td>-0.298308</td>\n",
       "      <td>-0.231994</td>\n",
       "      <td>-0.128898</td>\n",
       "      <td>-0.090769</td>\n",
       "      <td>-0.136859</td>\n",
       "    </tr>\n",
       "    <tr>\n",
       "      <th>...</th>\n",
       "      <td>...</td>\n",
       "      <td>...</td>\n",
       "      <td>...</td>\n",
       "      <td>...</td>\n",
       "      <td>...</td>\n",
       "      <td>...</td>\n",
       "      <td>...</td>\n",
       "      <td>...</td>\n",
       "      <td>...</td>\n",
       "      <td>...</td>\n",
       "      <td>...</td>\n",
       "      <td>...</td>\n",
       "      <td>...</td>\n",
       "      <td>...</td>\n",
       "      <td>...</td>\n",
       "      <td>...</td>\n",
       "      <td>...</td>\n",
       "      <td>...</td>\n",
       "      <td>...</td>\n",
       "      <td>...</td>\n",
       "      <td>...</td>\n",
       "    </tr>\n",
       "    <tr>\n",
       "      <th>1693956</th>\n",
       "      <td>-1.255388</td>\n",
       "      <td>1.110949</td>\n",
       "      <td>-0.062904</td>\n",
       "      <td>1.459917</td>\n",
       "      <td>-0.615010</td>\n",
       "      <td>-0.486326</td>\n",
       "      <td>1.071551</td>\n",
       "      <td>-0.517505</td>\n",
       "      <td>-0.973541</td>\n",
       "      <td>-1.801468</td>\n",
       "      <td>...</td>\n",
       "      <td>-0.845749</td>\n",
       "      <td>-0.587886</td>\n",
       "      <td>-0.838681</td>\n",
       "      <td>-0.260534</td>\n",
       "      <td>-0.443580</td>\n",
       "      <td>-0.298308</td>\n",
       "      <td>4.310452</td>\n",
       "      <td>-0.128898</td>\n",
       "      <td>-0.090769</td>\n",
       "      <td>-0.136859</td>\n",
       "    </tr>\n",
       "    <tr>\n",
       "      <th>1652153</th>\n",
       "      <td>-0.913401</td>\n",
       "      <td>0.828526</td>\n",
       "      <td>-0.002675</td>\n",
       "      <td>-0.258919</td>\n",
       "      <td>1.320030</td>\n",
       "      <td>0.409799</td>\n",
       "      <td>1.047405</td>\n",
       "      <td>-0.132990</td>\n",
       "      <td>-0.010349</td>\n",
       "      <td>-0.592313</td>\n",
       "      <td>...</td>\n",
       "      <td>-0.845749</td>\n",
       "      <td>-0.587886</td>\n",
       "      <td>0.651462</td>\n",
       "      <td>-0.260534</td>\n",
       "      <td>-0.443580</td>\n",
       "      <td>-0.298308</td>\n",
       "      <td>-0.231994</td>\n",
       "      <td>-0.128898</td>\n",
       "      <td>-0.090769</td>\n",
       "      <td>-0.136859</td>\n",
       "    </tr>\n",
       "    <tr>\n",
       "      <th>1806988</th>\n",
       "      <td>-1.312386</td>\n",
       "      <td>0.469080</td>\n",
       "      <td>0.522772</td>\n",
       "      <td>1.069341</td>\n",
       "      <td>-0.118636</td>\n",
       "      <td>0.458531</td>\n",
       "      <td>0.039296</td>\n",
       "      <td>0.229707</td>\n",
       "      <td>0.118321</td>\n",
       "      <td>0.125270</td>\n",
       "      <td>...</td>\n",
       "      <td>0.170187</td>\n",
       "      <td>-0.587886</td>\n",
       "      <td>2.141605</td>\n",
       "      <td>-0.260534</td>\n",
       "      <td>6.037985</td>\n",
       "      <td>-0.298308</td>\n",
       "      <td>-0.231994</td>\n",
       "      <td>-0.128898</td>\n",
       "      <td>-0.090769</td>\n",
       "      <td>-0.136859</td>\n",
       "    </tr>\n",
       "    <tr>\n",
       "      <th>1820483</th>\n",
       "      <td>-0.780406</td>\n",
       "      <td>0.419705</td>\n",
       "      <td>-1.323563</td>\n",
       "      <td>2.616446</td>\n",
       "      <td>-0.738899</td>\n",
       "      <td>0.905240</td>\n",
       "      <td>1.865361</td>\n",
       "      <td>-0.719306</td>\n",
       "      <td>-1.271321</td>\n",
       "      <td>-1.801468</td>\n",
       "      <td>...</td>\n",
       "      <td>4.233933</td>\n",
       "      <td>-0.587886</td>\n",
       "      <td>-0.838681</td>\n",
       "      <td>-0.260534</td>\n",
       "      <td>-0.443580</td>\n",
       "      <td>-0.298308</td>\n",
       "      <td>-0.231994</td>\n",
       "      <td>-0.128898</td>\n",
       "      <td>-0.090769</td>\n",
       "      <td>-0.136859</td>\n",
       "    </tr>\n",
       "    <tr>\n",
       "      <th>1691684</th>\n",
       "      <td>-0.210428</td>\n",
       "      <td>0.885801</td>\n",
       "      <td>-0.943496</td>\n",
       "      <td>1.004752</td>\n",
       "      <td>-1.112615</td>\n",
       "      <td>-0.045032</td>\n",
       "      <td>0.796887</td>\n",
       "      <td>-1.005647</td>\n",
       "      <td>-0.918396</td>\n",
       "      <td>-1.818419</td>\n",
       "      <td>...</td>\n",
       "      <td>1.186124</td>\n",
       "      <td>-0.587886</td>\n",
       "      <td>0.651462</td>\n",
       "      <td>-0.260534</td>\n",
       "      <td>-0.443580</td>\n",
       "      <td>-0.298308</td>\n",
       "      <td>-0.231994</td>\n",
       "      <td>-0.128898</td>\n",
       "      <td>-0.090769</td>\n",
       "      <td>-0.136859</td>\n",
       "    </tr>\n",
       "  </tbody>\n",
       "</table>\n",
       "<p>979 rows × 125 columns</p>\n",
       "</div>"
      ],
      "text/plain": [
       "         liwc_wc_scaled  liwc_analytic_scaled  liwc_clout_scaled  \\\n",
       "doc_idx                                                            \n",
       "1851784       -0.381421             -1.014132           1.584051   \n",
       "1845399        0.891529              0.117533          -1.247757   \n",
       "1677322       -0.077433              0.877901          -0.942457   \n",
       "1818732       -0.818405              0.528329           0.078323   \n",
       "1844646        1.119521              1.051699          -0.855229   \n",
       "...                 ...                   ...                ...   \n",
       "1693956       -1.255388              1.110949          -0.062904   \n",
       "1652153       -0.913401              0.828526          -0.002675   \n",
       "1806988       -1.312386              0.469080           0.522772   \n",
       "1820483       -0.780406              0.419705          -1.323563   \n",
       "1691684       -0.210428              0.885801          -0.943496   \n",
       "\n",
       "         liwc_authentic_scaled  liwc_tone_scaled  liwc_wps_scaled  \\\n",
       "doc_idx                                                             \n",
       "1851784              -1.087942          0.179599         0.832142   \n",
       "1845399               0.624055          0.091401         0.702190   \n",
       "1677322              -0.889615         -0.167042        -0.491741   \n",
       "1818732               1.091378         -0.306109         2.372610   \n",
       "1844646              -0.812868         -0.580141        -0.887010   \n",
       "...                        ...               ...              ...   \n",
       "1693956               1.459917         -0.615010        -0.486326   \n",
       "1652153              -0.258919          1.320030         0.409799   \n",
       "1806988               1.069341         -0.118636         0.458531   \n",
       "1820483               2.616446         -0.738899         0.905240   \n",
       "1691684               1.004752         -1.112615        -0.045032   \n",
       "\n",
       "         liwc_sixltr_scaled  liwc_dic_scaled  liwc_function_scaled  \\\n",
       "doc_idx                                                              \n",
       "1851784            0.965911        -2.020109              0.500657   \n",
       "1845399           -1.062379        -0.165715             -0.613263   \n",
       "1677322           -0.024088        -0.964741             -0.455182   \n",
       "1818732           -0.153874        -0.501142              0.052148   \n",
       "1844646           -0.823934         1.527783              0.666091   \n",
       "...                     ...              ...                   ...   \n",
       "1693956            1.071551        -0.517505             -0.973541   \n",
       "1652153            1.047405        -0.132990             -0.010349   \n",
       "1806988            0.039296         0.229707              0.118321   \n",
       "1820483            1.865361        -0.719306             -1.271321   \n",
       "1691684            0.796887        -1.005647             -0.918396   \n",
       "\n",
       "         liwc_pronoun_scaled  ...  mpqa_priority_scaled  \\\n",
       "doc_idx                       ...                         \n",
       "1851784             1.402228  ...             -0.845749   \n",
       "1845399            -0.987831  ...             -0.845749   \n",
       "1677322            -1.965326  ...              1.186124   \n",
       "1818732            -0.371953  ...             -0.845749   \n",
       "1844646            -0.840925  ...              1.186124   \n",
       "...                      ...  ...                   ...   \n",
       "1693956            -1.801468  ...             -0.845749   \n",
       "1652153            -0.592313  ...             -0.845749   \n",
       "1806988             0.125270  ...              0.170187   \n",
       "1820483            -1.801468  ...              4.233933   \n",
       "1691684            -1.818419  ...              1.186124   \n",
       "\n",
       "         mpqa_structure_scaled  mpqa_inconsistency_scaled  \\\n",
       "doc_idx                                                     \n",
       "1851784              -0.587886                  -0.838681   \n",
       "1845399              -0.587886                  -0.838681   \n",
       "1677322              -0.587886                  -0.838681   \n",
       "1818732              -0.587886                  -0.838681   \n",
       "1844646               1.140464                   0.651462   \n",
       "...                        ...                        ...   \n",
       "1693956              -0.587886                  -0.838681   \n",
       "1652153              -0.587886                   0.651462   \n",
       "1806988              -0.587886                   2.141605   \n",
       "1820483              -0.587886                  -0.838681   \n",
       "1691684              -0.587886                   0.651462   \n",
       "\n",
       "         mpqa_difficulty_scaled  mpqa_possibility_scaled  \\\n",
       "doc_idx                                                    \n",
       "1851784               -0.260534                -0.443580   \n",
       "1845399               -0.260534                -0.443580   \n",
       "1677322               -0.260534                -0.443580   \n",
       "1818732               -0.260534                -0.443580   \n",
       "1844646                3.604053                -0.443580   \n",
       "...                         ...                      ...   \n",
       "1693956               -0.260534                -0.443580   \n",
       "1652153               -0.260534                -0.443580   \n",
       "1806988               -0.260534                 6.037985   \n",
       "1820483               -0.260534                -0.443580   \n",
       "1691684               -0.260534                -0.443580   \n",
       "\n",
       "         mpqa_authority_scaled  mpqa_generalization_scaled  mpqa_doubt_scaled  \\\n",
       "doc_idx                                                                         \n",
       "1851784              -0.298308                   -0.231994          -0.128898   \n",
       "1845399              -0.298308                   -0.231994          -0.128898   \n",
       "1677322              -0.298308                   -0.231994          -0.128898   \n",
       "1818732              -0.298308                   -0.231994          -0.128898   \n",
       "1844646              -0.298308                   -0.231994          -0.128898   \n",
       "...                        ...                         ...                ...   \n",
       "1693956              -0.298308                    4.310452          -0.128898   \n",
       "1652153              -0.298308                   -0.231994          -0.128898   \n",
       "1806988              -0.298308                   -0.231994          -0.128898   \n",
       "1820483              -0.298308                   -0.231994          -0.128898   \n",
       "1691684              -0.298308                   -0.231994          -0.128898   \n",
       "\n",
       "         mpqa_rhetoricalquestion_scaled  mpqa_wants_scaled  \n",
       "doc_idx                                                     \n",
       "1851784                       -0.090769          -0.136859  \n",
       "1845399                       -0.090769          -0.136859  \n",
       "1677322                       -0.090769          -0.136859  \n",
       "1818732                       -0.090769          -0.136859  \n",
       "1844646                       -0.090769          -0.136859  \n",
       "...                                 ...                ...  \n",
       "1693956                       -0.090769          -0.136859  \n",
       "1652153                       -0.090769          -0.136859  \n",
       "1806988                       -0.090769          -0.136859  \n",
       "1820483                       -0.090769          -0.136859  \n",
       "1691684                       -0.090769          -0.136859  \n",
       "\n",
       "[979 rows x 125 columns]"
      ]
     },
     "execution_count": 143,
     "metadata": {},
     "output_type": "execute_result"
    }
   ],
   "source": [
    "all_style_data_v2"
   ]
  },
  {
   "cell_type": "markdown",
   "metadata": {},
   "source": [
    "### Test DataLoader"
   ]
  },
  {
   "cell_type": "code",
   "execution_count": 116,
   "metadata": {},
   "outputs": [],
   "source": [
    "from lib.editorial_data_helper import create_full_data"
   ]
  },
  {
   "cell_type": "code",
   "execution_count": 138,
   "metadata": {},
   "outputs": [],
   "source": [
    "test = create_full_data()"
   ]
  },
  {
   "cell_type": "code",
   "execution_count": 140,
   "metadata": {},
   "outputs": [
    {
     "data": {
      "text/plain": [
       "array([ 3,  2,  0,  1, 17, 11,  5, 23,  9,  6, 10,  8, 12, 18, 15, 20, 22,\n",
       "       16, 19,  4, 21,  7, 14, 13])"
      ]
     },
     "execution_count": 140,
     "metadata": {},
     "output_type": "execute_result"
    }
   ],
   "source": [
    "test.user_id.unique()"
   ]
  },
  {
   "cell_type": "code",
   "execution_count": 144,
   "metadata": {},
   "outputs": [],
   "source": [
    "test = create_full_data(feature_types=['style', 'style_scaled'])"
   ]
  },
  {
   "cell_type": "markdown",
   "metadata": {},
   "source": [
    "## Quality Model\n",
    "\n",
    "Use the IBM Quality Model to assign additional features"
   ]
  },
  {
   "cell_type": "code",
   "execution_count": 5,
   "metadata": {},
   "outputs": [],
   "source": [
    "raw_text_data = pd.read_json('/home/ec2-user/articles_with_majority_adus.json')"
   ]
  },
  {
   "cell_type": "code",
   "execution_count": 6,
   "metadata": {},
   "outputs": [],
   "source": [
    "from lib.quality_model import QualityModelLabeler"
   ]
  },
  {
   "cell_type": "code",
   "execution_count": 7,
   "metadata": {},
   "outputs": [],
   "source": [
    "# Trained ahead of time - running quality model as a script will produce this model.\n",
    "import os\n",
    "qmodel = QualityModelLabeler(path=os.path.expanduser('~/final_paper_data_v2/models/final_ibm_quality/'))"
   ]
  },
  {
   "cell_type": "code",
   "execution_count": 8,
   "metadata": {},
   "outputs": [
    {
     "name": "stderr",
     "output_type": "stream",
     "text": [
      "  0%|          | 0/979 [00:00<?, ?it/s]"
     ]
    },
    {
     "data": {
      "text/html": [
       "\n",
       "    <div>\n",
       "        <style>\n",
       "            /* Turns off some styling */\n",
       "            progress {\n",
       "                /* gets rid of default border in Firefox and Opera. */\n",
       "                border: none;\n",
       "                /* Needs to be in here for Safari polyfill so background images work as expected. */\n",
       "                background-size: auto;\n",
       "            }\n",
       "        </style>\n",
       "      \n",
       "      <progress value='989' max='1' style='width:300px; height:20px; vertical-align: middle;'></progress>\n",
       "      [1/1 01:47]\n",
       "    </div>\n",
       "    "
      ],
      "text/plain": [
       "<IPython.core.display.HTML object>"
      ]
     },
     "metadata": {},
     "output_type": "display_data"
    },
    {
     "name": "stderr",
     "output_type": "stream",
     "text": [
      "100%|██████████| 979/979 [01:55<00:00,  8.48it/s]\n"
     ]
    }
   ],
   "source": [
    "from tqdm import tqdm\n",
    "all_features = []\n",
    "for _, row in tqdm(raw_text_data.iterrows(), mininterval=350, total=len(raw_text_data)):\n",
    "    text = row.content\n",
    "    \n",
    "    stats = qmodel.label_sent_stats(text)\n",
    "    all_features.append(stats)\n"
   ]
  },
  {
   "cell_type": "code",
   "execution_count": 9,
   "metadata": {},
   "outputs": [],
   "source": [
    "ibm_feats = pd.DataFrame(all_features, index=raw_text_data['idx'])\n",
    "ibm_feats.columns = [f'ibm_{c}' for c in ibm_feats.columns]"
   ]
  },
  {
   "cell_type": "code",
   "execution_count": 10,
   "metadata": {},
   "outputs": [],
   "source": [
    "style_data = pd.read_csv('/home/ec2-user/final_paper_data_v2/editorials/style.csv', index_col=0)"
   ]
  },
  {
   "cell_type": "code",
   "execution_count": 11,
   "metadata": {},
   "outputs": [],
   "source": [
    "s2 = pd.concat([style_data, ibm_feats], axis=1)"
   ]
  },
  {
   "cell_type": "code",
   "execution_count": 12,
   "metadata": {},
   "outputs": [],
   "source": [
    "s2.to_csv('/home/ec2-user/final_paper_data_v2/editorials/style_quality.csv')"
   ]
  },
  {
   "cell_type": "code",
   "execution_count": null,
   "metadata": {},
   "outputs": [],
   "source": []
  },
  {
   "cell_type": "code",
   "execution_count": 15,
   "metadata": {},
   "outputs": [],
   "source": [
    "from sklearn.preprocessing import StandardScaler\n",
    "X = StandardScaler().fit_transform(ibm_feats.values)"
   ]
  },
  {
   "cell_type": "code",
   "execution_count": 16,
   "metadata": {},
   "outputs": [],
   "source": [
    "df = pd.DataFrame(X, index=ibm_feats.index, columns=ibm_feats.columns)"
   ]
  },
  {
   "cell_type": "code",
   "execution_count": 17,
   "metadata": {},
   "outputs": [],
   "source": [
    "df.columns = [f'{c}_scaled' for c in df.columns]"
   ]
  },
  {
   "cell_type": "code",
   "execution_count": null,
   "metadata": {},
   "outputs": [],
   "source": []
  },
  {
   "cell_type": "code",
   "execution_count": 215,
   "metadata": {},
   "outputs": [],
   "source": [
    "style_data = pd.read_csv('/home/ec2-user/final_paper_data_v2/editorials/style_scaled.csv', index_col=0)"
   ]
  },
  {
   "cell_type": "code",
   "execution_count": 216,
   "metadata": {},
   "outputs": [],
   "source": [
    "s3 = pd.concat([style_data, df], axis=1)"
   ]
  },
  {
   "cell_type": "code",
   "execution_count": 217,
   "metadata": {},
   "outputs": [],
   "source": [
    "s3.to_csv('/home/ec2-user/final_paper_data_v2/editorials/style_quality_scaled.csv')"
   ]
  },
  {
   "cell_type": "markdown",
   "metadata": {},
   "source": [
    "## Text Features\n",
    "\n",
    "words and lemmas\n",
    "\n",
    "### Binary Lemma Features"
   ]
  },
  {
   "cell_type": "code",
   "execution_count": 151,
   "metadata": {},
   "outputs": [],
   "source": [
    "index = all_style_data_v2.index.values"
   ]
  },
  {
   "cell_type": "code",
   "execution_count": 153,
   "metadata": {},
   "outputs": [],
   "source": [
    "texts = spacy_features['lemmas'].values.tolist()"
   ]
  },
  {
   "cell_type": "code",
   "execution_count": 154,
   "metadata": {},
   "outputs": [],
   "source": [
    "from sklearn.feature_extraction.text import CountVectorizer, TfidfVectorizer\n"
   ]
  },
  {
   "cell_type": "code",
   "execution_count": 160,
   "metadata": {},
   "outputs": [],
   "source": [
    "vec1 = CountVectorizer(binary=True, preprocessor=lambda x: x, tokenizer=lambda x: [y.lower() for y in x if y.isalpha()], max_features=10000, min_df=5)"
   ]
  },
  {
   "cell_type": "code",
   "execution_count": 161,
   "metadata": {},
   "outputs": [],
   "source": [
    "textX = vec1.fit_transform(texts)"
   ]
  },
  {
   "cell_type": "code",
   "execution_count": 162,
   "metadata": {},
   "outputs": [
    {
     "data": {
      "text/plain": [
       "array([[1, 0, 0, ..., 0, 0, 0],\n",
       "       [1, 0, 0, ..., 0, 0, 0],\n",
       "       [1, 0, 0, ..., 0, 0, 0],\n",
       "       ...,\n",
       "       [1, 0, 0, ..., 0, 0, 0],\n",
       "       [1, 0, 0, ..., 0, 0, 0],\n",
       "       [1, 0, 0, ..., 0, 1, 0]])"
      ]
     },
     "execution_count": 162,
     "metadata": {},
     "output_type": "execute_result"
    }
   ],
   "source": [
    "textX.A"
   ]
  },
  {
   "cell_type": "code",
   "execution_count": 164,
   "metadata": {},
   "outputs": [
    {
     "data": {
      "text/plain": [
       "5167"
      ]
     },
     "execution_count": 164,
     "metadata": {},
     "output_type": "execute_result"
    }
   ],
   "source": [
    "len(vec1.get_feature_names())"
   ]
  },
  {
   "cell_type": "code",
   "execution_count": 166,
   "metadata": {},
   "outputs": [],
   "source": [
    "text_df = pd.DataFrame(textX.A, columns=vec1.get_feature_names(), index=index)"
   ]
  },
  {
   "cell_type": "code",
   "execution_count": 168,
   "metadata": {},
   "outputs": [],
   "source": [
    "text_df.to_csv('/home/ec2-user/final_paper_data_v2/editorials/text_lemma_bin.csv')"
   ]
  },
  {
   "cell_type": "markdown",
   "metadata": {},
   "source": [
    "### Standard TF-IDF"
   ]
  },
  {
   "cell_type": "code",
   "execution_count": 169,
   "metadata": {},
   "outputs": [],
   "source": [
    "alt_text = raw_text_data.content.values"
   ]
  },
  {
   "cell_type": "code",
   "execution_count": 187,
   "metadata": {},
   "outputs": [],
   "source": [
    "vec2 = TfidfVectorizer(min_df=5, max_features=10000)\n",
    "X = vec2.fit_transform(alt_text)"
   ]
  },
  {
   "cell_type": "code",
   "execution_count": null,
   "metadata": {},
   "outputs": [],
   "source": [
    "vec2.get_feature_names()"
   ]
  },
  {
   "cell_type": "code",
   "execution_count": 190,
   "metadata": {},
   "outputs": [],
   "source": [
    "text_df = pd.DataFrame(X.A, columns=vec2.get_feature_names(), index=index)"
   ]
  },
  {
   "cell_type": "code",
   "execution_count": 191,
   "metadata": {},
   "outputs": [],
   "source": [
    "text_df.to_csv('/home/ec2-user/final_paper_data_v2/editorials/text_raw_tfidf.csv')"
   ]
  },
  {
   "cell_type": "code",
   "execution_count": null,
   "metadata": {},
   "outputs": [],
   "source": []
  }
 ],
 "metadata": {
  "kernelspec": {
   "display_name": "Python 3",
   "language": "python",
   "name": "python3"
  },
  "language_info": {
   "codemirror_mode": {
    "name": "ipython",
    "version": 3
   },
   "file_extension": ".py",
   "mimetype": "text/x-python",
   "name": "python",
   "nbconvert_exporter": "python",
   "pygments_lexer": "ipython3",
   "version": "3.6.13"
  }
 },
 "nbformat": 4,
 "nbformat_minor": 4
}
